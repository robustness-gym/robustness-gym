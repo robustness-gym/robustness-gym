{
 "cells": [
  {
   "cell_type": "code",
   "execution_count": 1,
   "metadata": {},
   "outputs": [
    {
     "name": "stderr",
     "output_type": "stream",
     "text": [
      "\u001b[34m\u001b[1mwandb\u001b[0m: \u001b[33mWARNING\u001b[0m W&B installed but not logged in.  Run `wandb login` or set the WANDB_API_KEY env variable.\n"
     ]
    }
   ],
   "source": [
    "from experiments.mnli_utils import *\n",
    "from experiments.mnli import main, plot_Xs_and_Ys_dict\n",
    "from experiments.mnli import *"
   ]
  },
  {
   "cell_type": "code",
   "execution_count": 2,
   "metadata": {},
   "outputs": [
    {
     "name": "stdout",
     "output_type": "stream",
     "text": [
      "Params Trainable: 14768643\n",
      "\tbert.encoder.layer.10.attention.self.query.weight\n",
      "\tbert.encoder.layer.10.attention.self.query.bias\n",
      "\tbert.encoder.layer.10.attention.self.key.weight\n",
      "\tbert.encoder.layer.10.attention.self.key.bias\n",
      "\tbert.encoder.layer.10.attention.self.value.weight\n",
      "\tbert.encoder.layer.10.attention.self.value.bias\n",
      "\tbert.encoder.layer.10.attention.output.dense.weight\n",
      "\tbert.encoder.layer.10.attention.output.dense.bias\n",
      "\tbert.encoder.layer.10.attention.output.LayerNorm.weight\n",
      "\tbert.encoder.layer.10.attention.output.LayerNorm.bias\n",
      "\tbert.encoder.layer.10.intermediate.dense.weight\n",
      "\tbert.encoder.layer.10.intermediate.dense.bias\n",
      "\tbert.encoder.layer.10.output.dense.weight\n",
      "\tbert.encoder.layer.10.output.dense.bias\n",
      "\tbert.encoder.layer.10.output.LayerNorm.weight\n",
      "\tbert.encoder.layer.10.output.LayerNorm.bias\n",
      "\tbert.encoder.layer.11.attention.self.query.weight\n",
      "\tbert.encoder.layer.11.attention.self.query.bias\n",
      "\tbert.encoder.layer.11.attention.self.key.weight\n",
      "\tbert.encoder.layer.11.attention.self.key.bias\n",
      "\tbert.encoder.layer.11.attention.self.value.weight\n",
      "\tbert.encoder.layer.11.attention.self.value.bias\n",
      "\tbert.encoder.layer.11.attention.output.dense.weight\n",
      "\tbert.encoder.layer.11.attention.output.dense.bias\n",
      "\tbert.encoder.layer.11.attention.output.LayerNorm.weight\n",
      "\tbert.encoder.layer.11.attention.output.LayerNorm.bias\n",
      "\tbert.encoder.layer.11.intermediate.dense.weight\n",
      "\tbert.encoder.layer.11.intermediate.dense.bias\n",
      "\tbert.encoder.layer.11.output.dense.weight\n",
      "\tbert.encoder.layer.11.output.dense.bias\n",
      "\tbert.encoder.layer.11.output.LayerNorm.weight\n",
      "\tbert.encoder.layer.11.output.LayerNorm.bias\n",
      "\tbert.pooler.dense.weight\n",
      "\tbert.pooler.dense.bias\n",
      "\tclassifier.weight\n",
      "\tclassifier.bias\n",
      "Params Trainable: 14768643\n",
      "\tbert.encoder.layer.10.attention.self.query.weight\n",
      "\tbert.encoder.layer.10.attention.self.query.bias\n",
      "\tbert.encoder.layer.10.attention.self.key.weight\n",
      "\tbert.encoder.layer.10.attention.self.key.bias\n",
      "\tbert.encoder.layer.10.attention.self.value.weight\n",
      "\tbert.encoder.layer.10.attention.self.value.bias\n",
      "\tbert.encoder.layer.10.attention.output.dense.weight\n",
      "\tbert.encoder.layer.10.attention.output.dense.bias\n",
      "\tbert.encoder.layer.10.attention.output.LayerNorm.weight\n",
      "\tbert.encoder.layer.10.attention.output.LayerNorm.bias\n",
      "\tbert.encoder.layer.10.intermediate.dense.weight\n",
      "\tbert.encoder.layer.10.intermediate.dense.bias\n",
      "\tbert.encoder.layer.10.output.dense.weight\n",
      "\tbert.encoder.layer.10.output.dense.bias\n",
      "\tbert.encoder.layer.10.output.LayerNorm.weight\n",
      "\tbert.encoder.layer.10.output.LayerNorm.bias\n",
      "\tbert.encoder.layer.11.attention.self.query.weight\n",
      "\tbert.encoder.layer.11.attention.self.query.bias\n",
      "\tbert.encoder.layer.11.attention.self.key.weight\n",
      "\tbert.encoder.layer.11.attention.self.key.bias\n",
      "\tbert.encoder.layer.11.attention.self.value.weight\n",
      "\tbert.encoder.layer.11.attention.self.value.bias\n",
      "\tbert.encoder.layer.11.attention.output.dense.weight\n",
      "\tbert.encoder.layer.11.attention.output.dense.bias\n",
      "\tbert.encoder.layer.11.attention.output.LayerNorm.weight\n",
      "\tbert.encoder.layer.11.attention.output.LayerNorm.bias\n",
      "\tbert.encoder.layer.11.intermediate.dense.weight\n",
      "\tbert.encoder.layer.11.intermediate.dense.bias\n",
      "\tbert.encoder.layer.11.output.dense.weight\n",
      "\tbert.encoder.layer.11.output.dense.bias\n",
      "\tbert.encoder.layer.11.output.LayerNorm.weight\n",
      "\tbert.encoder.layer.11.output.LayerNorm.bias\n",
      "\tbert.pooler.dense.weight\n",
      "\tbert.pooler.dense.bias\n",
      "\tclassifier.weight\n",
      "\tclassifier.bias\n"
     ]
    }
   ],
   "source": [
    "task_tokenizer, task_model = create_tokenizer_and_model(\n",
    "    \"/export/home/Experiments/20200706/\")\n",
    "\n",
    "imitator_tokenizer, imitator_model = create_tokenizer_and_model(\n",
    "    \"/export/home/Experiments/20200718/output_dir/\")\n",
    "\n",
    "train_dataset, eval_dataset = create_datasets(tokenizer=task_tokenizer)"
   ]
  },
  {
   "cell_type": "code",
   "execution_count": null,
   "metadata": {},
   "outputs": [],
   "source": []
  },
  {
   "cell_type": "code",
   "execution_count": null,
   "metadata": {},
   "outputs": [],
   "source": []
  },
  {
   "cell_type": "code",
   "execution_count": 3,
   "metadata": {},
   "outputs": [
    {
     "name": "stdout",
     "output_type": "stream",
     "text": [
      "False False\n",
      "cpu cuda:0\n"
     ]
    }
   ],
   "source": [
    "imitator_model.cuda()\n",
    "print(task_model.training, imitator_model.training)\n",
    "print(task_model.device, imitator_model.device)"
   ]
  },
  {
   "cell_type": "code",
   "execution_count": 4,
   "metadata": {},
   "outputs": [],
   "source": [
    "from transformers import glue_output_modes, TrainingArguments, glue_compute_metrics\n",
    "\n",
    "output_mode = glue_output_modes[\"mnli\"]\n",
    "def build_compute_metrics_fn(task_name: str):\n",
    "    def compute_metrics_fn(p):\n",
    "        if output_mode == \"classification\":\n",
    "            preds = np.argmax(p.predictions, axis=1)\n",
    "        elif output_mode == \"regression\":\n",
    "            preds = np.squeeze(p.predictions)\n",
    "        return glue_compute_metrics(task_name, preds, p.label_ids)\n",
    "\n",
    "    return compute_metrics_fn\n",
    "\n",
    "\n",
    "trainer = Trainer(\n",
    "    model=task_model,\n",
    "    args=TrainingArguments(output_dir=\"./tmp-output\", per_device_train_batch_size=128, per_device_eval_batch_size=128, learning_rate=5e-5, logging_steps=100),\n",
    "    data_collator=default_data_collator,\n",
    "    train_dataset=train_dataset,\n",
    "    eval_dataset=eval_dataset,\n",
    "    compute_metrics=build_compute_metrics_fn(\"mnli\"),\n",
    ")\n",
    "\n",
    "train_batch_data_loader = get_dataloader(\n",
    "    train_dataset,\n",
    "    batch_size=128,\n",
    "    data_collator=default_data_collator)\n",
    "\n",
    "train_instance_data_loader = get_dataloader(\n",
    "    train_dataset,\n",
    "    batch_size=1,\n",
    "    data_collator=default_data_collator)\n",
    "\n",
    "eval_instance_data_loader = get_dataloader(\n",
    "    eval_dataset,\n",
    "    batch_size=1,\n",
    "    data_collator=default_data_collator)"
   ]
  },
  {
   "cell_type": "code",
   "execution_count": null,
   "metadata": {},
   "outputs": [],
   "source": []
  },
  {
   "cell_type": "code",
   "execution_count": null,
   "metadata": {},
   "outputs": [],
   "source": []
  },
  {
   "cell_type": "code",
   "execution_count": 5,
   "metadata": {},
   "outputs": [],
   "source": [
    "# outputs_collections = main(\n",
    "#     label_list=train_dataset.label_list,\n",
    "#     task_model=task_model,\n",
    "#     imitator_model=imitator_model,\n",
    "#     trainer=trainer,\n",
    "#     batch_train_data_loader=train_batch_data_loader,\n",
    "#     instance_train_data_loader=train_instance_data_loader,\n",
    "#     instance_eval_data_loader=eval_instance_data_loader,\n",
    "#     test_data_point_indices=[3, 14, 15, 24, 25, 29, 31, 32, 38, 41][5:],\n",
    "#     finetune_using_ground_truth_label=False)"
   ]
  },
  {
   "cell_type": "code",
   "execution_count": 6,
   "metadata": {},
   "outputs": [],
   "source": [
    "for test_inputs in eval_instance_data_loader:\n",
    "    break\n",
    "for k, v in test_inputs.items():\n",
    "    if isinstance(v, torch.Tensor):\n",
    "        test_inputs[k] = v.to(trainer.args.device)"
   ]
  },
  {
   "cell_type": "code",
   "execution_count": 12,
   "metadata": {},
   "outputs": [
    {
     "name": "stdout",
     "output_type": "stream",
     "text": [
      "Loaded FAISS index with 392702 entries\n"
     ]
    },
    {
     "name": "stderr",
     "output_type": "stream",
     "text": [
      "781.86 | 0.32: : 302it [03:08,  1.60it/s]                        \n",
      "100%|██████████| 392702/392702 [05:33<00:00, 1177.44it/s]\n"
     ]
    }
   ],
   "source": [
    "# influences, s_test = get_influences(\n",
    "#     k=10000,\n",
    "#     model=task_model,\n",
    "#     test_inputs=test_inputs,\n",
    "#     batch_train_data_loader=train_batch_data_loader,\n",
    "#     instance_train_data_loader=train_instance_data_loader)"
   ]
  },
  {
   "cell_type": "code",
   "execution_count": 16,
   "metadata": {},
   "outputs": [],
   "source": [
    "# torch.save(s_test, \"/export/home/Experiments/20200725/s_test.trial.pt\")"
   ]
  },
  {
   "cell_type": "code",
   "execution_count": 119,
   "metadata": {},
   "outputs": [],
   "source": [
    "from influence_utils.influence import compute_s_test\n",
    "\n",
    "def get_s_test(model, n, random, scale, damp, batch_size):\n",
    "    params_filter = [\n",
    "        n for n, p in model.named_parameters()\n",
    "        if not p.requires_grad]\n",
    "\n",
    "    weight_decay_ignores = [\n",
    "        \"bias\",\n",
    "        \"LayerNorm.weight\"] + [\n",
    "        n for n, p in model.named_parameters()\n",
    "        if not p.requires_grad]\n",
    "    \n",
    "    # Make sure each dataloader is re-initialized\n",
    "    train_batch_data_loader = get_dataloader(\n",
    "        train_dataset,\n",
    "        batch_size=batch_size,\n",
    "        random=random,\n",
    "        data_collator=default_data_collator)\n",
    "\n",
    "    s_test = compute_s_test(\n",
    "        n_gpu=1,\n",
    "        device=torch.device(\"cuda\"),\n",
    "        model=model,\n",
    "        test_inputs=test_inputs,\n",
    "        train_data_loaders=[train_batch_data_loader],\n",
    "        params_filter=params_filter,\n",
    "        weight_decay=0.005,\n",
    "        weight_decay_ignores=weight_decay_ignores,\n",
    "        damp=damp,\n",
    "        scale=scale,\n",
    "        num_samples=n)\n",
    "    return [x.cpu() for x in s_test]"
   ]
  },
  {
   "cell_type": "code",
   "execution_count": 106,
   "metadata": {},
   "outputs": [
    {
     "name": "stderr",
     "output_type": "stream",
     "text": [
      "5780.57 | 11.49: : 502it [05:13,  1.60it/s]                       \n"
     ]
    }
   ],
   "source": [
    "s_test_10 = get_s_test(task_model, 500, False, scale=1e9, damp=0.0)"
   ]
  },
  {
   "cell_type": "code",
   "execution_count": 108,
   "metadata": {},
   "outputs": [
    {
     "name": "stderr",
     "output_type": "stream",
     "text": [
      "2985.56 | 2.54: : 502it [05:13,  1.60it/s]                       \n"
     ]
    }
   ],
   "source": [
    "s_test_10 = get_s_test(task_model, 500, False, scale=1e9, damp=3e-3)"
   ]
  },
  {
   "cell_type": "code",
   "execution_count": 111,
   "metadata": {},
   "outputs": [
    {
     "name": "stderr",
     "output_type": "stream",
     "text": [
      "2297.04 | 2.50: : 502it [05:13,  1.60it/s]                       \n"
     ]
    }
   ],
   "source": [
    "s_test_10 = get_s_test(task_model, 500, False, scale=1e4, damp=3e-3)"
   ]
  },
  {
   "cell_type": "code",
   "execution_count": 112,
   "metadata": {},
   "outputs": [
    {
     "name": "stderr",
     "output_type": "stream",
     "text": [
      "1141.91 | 0.07: : 502it [05:13,  1.60it/s]                       \n"
     ]
    }
   ],
   "source": [
    "s_test_10 = get_s_test(task_model, 500, False, scale=1e9, damp=1e-2)"
   ]
  },
  {
   "cell_type": "code",
   "execution_count": 113,
   "metadata": {},
   "outputs": [
    {
     "name": "stderr",
     "output_type": "stream",
     "text": [
      "909.31 | 0.43: : 502it [05:13,  1.60it/s]                        \n"
     ]
    }
   ],
   "source": [
    "s_test_10 = get_s_test(task_model, 500, False, scale=1e4, damp=1e-2)"
   ]
  },
  {
   "cell_type": "code",
   "execution_count": 114,
   "metadata": {},
   "outputs": [
    {
     "name": "stderr",
     "output_type": "stream",
     "text": [
      "814.43 | 1.48: : 502it [05:13,  1.60it/s]                        \n"
     ]
    }
   ],
   "source": [
    "s_test_10 = get_s_test(task_model, 500, False, scale=1e3, damp=1e-2)"
   ]
  },
  {
   "cell_type": "code",
   "execution_count": 116,
   "metadata": {},
   "outputs": [
    {
     "name": "stderr",
     "output_type": "stream",
     "text": [
      "785.89 | 1.97: : 502it [05:13,  1.60it/s]                        \n"
     ]
    }
   ],
   "source": [
    "s_test_10 = get_s_test(task_model, 500, False, scale=5e2, damp=1e-2)"
   ]
  },
  {
   "cell_type": "code",
   "execution_count": 134,
   "metadata": {},
   "outputs": [
    {
     "name": "stderr",
     "output_type": "stream",
     "text": [
      "1764.77 | 0.09: : 1002it [10:26,  1.60it/s]                         \n"
     ]
    }
   ],
   "source": [
    "# batch_size = 8\n",
    "s_test_n1000_s10000_damp0005_bs128 = get_s_test(task_model, 1000, False, scale=1e4, damp=5e-3, batch_size=128)"
   ]
  },
  {
   "cell_type": "code",
   "execution_count": 135,
   "metadata": {},
   "outputs": [
    {
     "name": "stderr",
     "output_type": "stream",
     "text": [
      "1759.17 | 0.04: : 1002it [00:43, 23.19it/s]                         \n",
      "1752.54 | -2.49: : 1002it [00:45, 22.13it/s]                        \n",
      "1774.95 | 0.72: : 1002it [00:46, 21.75it/s]                         \n",
      "1786.00 | 0.96: : 1002it [00:47, 21.14it/s]                         \n",
      "1797.45 | 0.97: : 1002it [00:53, 18.59it/s]                         \n",
      "1756.59 | 1.26: : 1002it [00:41, 24.42it/s]                         \n",
      "1770.05 | -6.89: : 1002it [00:45, 21.81it/s]                        \n",
      "1776.72 | 1.71: : 1002it [00:41, 24.40it/s]                         \n"
     ]
    }
   ],
   "source": [
    "s_test_n1000_s10000_damp0005_bs8s = []\n",
    "for i in range(8):\n",
    "    s_test_n1000_s10000_damp0005_bs8 = get_s_test(\n",
    "        task_model, 1000, True, scale=1e4, damp=5e-3, batch_size=2)\n",
    "    s_test_n1000_s10000_damp0005_bs8s.append(s_test_n1000_s10000_damp0005_bs8)"
   ]
  },
  {
   "cell_type": "code",
   "execution_count": null,
   "metadata": {},
   "outputs": [],
   "source": []
  },
  {
   "cell_type": "code",
   "execution_count": 145,
   "metadata": {},
   "outputs": [],
   "source": [
    "s_test_n1000_s10000_damp0005_bs128_concat = torch.cat([x.flatten() for x in s_test_n1000_s10000_damp0005_bs128])\n",
    "s_test_n1000_s10000_damp0005_bs8_concat = [\n",
    "    torch.cat([x.flatten() for x in z])\n",
    "    for z in s_test_n1000_s10000_damp0005_bs8s]"
   ]
  },
  {
   "cell_type": "code",
   "execution_count": 147,
   "metadata": {},
   "outputs": [
    {
     "name": "stdout",
     "output_type": "stream",
     "text": [
      "0 tensor(5.1845e-05) tensor(5.1845e-05)\n",
      "1 tensor(3.7352e-05) tensor(5.1169e-05)\n",
      "2 tensor(2.9541e-05) tensor(4.7000e-05)\n",
      "3 tensor(2.4624e-05) tensor(5.0938e-05)\n",
      "4 tensor(2.2320e-05) tensor(4.9171e-05)\n",
      "5 tensor(1.9976e-05) tensor(4.2579e-05)\n",
      "6 tensor(1.8349e-05) tensor(4.7223e-05)\n",
      "7 tensor(1.7582e-05) tensor(5.6914e-05)\n"
     ]
    },
    {
     "data": {
      "text/plain": [
       "[<matplotlib.lines.Line2D at 0x7f00673a7d50>]"
      ]
     },
     "execution_count": 147,
     "metadata": {},
     "output_type": "execute_result"
    },
    {
     "data": {
      "image/png": "[encoded data removed]",
      "text/plain": [
       "<Figure size 432x288 with 1 Axes>"
      ]
     },
     "metadata": {
      "needs_background": "light"
     },
     "output_type": "display_data"
    }
   ],
   "source": [
    "error_norms = []\n",
    "for i in range(len(s_test_n1000_s10000_damp0005_bs8_concat)):\n",
    "    A = s_test_n1000_s10000_damp0005_bs128_concat\n",
    "    B = torch.stack(s_test_n1000_s10000_damp0005_bs8_concat[:i+1], dim=0).mean(dim=0)\n",
    "    C = s_test_n1000_s10000_damp0005_bs8_concat[i]\n",
    "    print(i, (A - B).norm(), (A - C).norm())\n",
    "    error_norms.append((A - B).norm())\n",
    "\n",
    "plt.plot(error_norms)"
   ]
  },
  {
   "cell_type": "code",
   "execution_count": 50,
   "metadata": {},
   "outputs": [
    {
     "name": "stderr",
     "output_type": "stream",
     "text": [
      "811.18 | 0.62:  61%|██████▏   | 3068/5000 [31:56<20:07,  1.60it/s] \n",
      "813.35 | -0.34: : 1002it [10:26,  1.60it/s]                        \n",
      "814.43 | 1.48: : 502it [05:13,  1.60it/s]                        \n",
      "549.78 | 3.26: : 102it [01:03,  1.60it/s]                       \n",
      "363.01 | 4.81: : 52it [00:32,  1.60it/s]                      \n",
      "113.96 | 8.09: : 12it [00:07,  1.60it/s]                     \n"
     ]
    }
   ],
   "source": [
    "# results = {}\n",
    "# for n in [5000, 1000, 500, 100, 50, 10]:\n",
    "#     results[n] = get_s_test(task_model, n, False)"
   ]
  },
  {
   "cell_type": "code",
   "execution_count": 53,
   "metadata": {},
   "outputs": [
    {
     "data": {
      "text/plain": [
       "dict_keys([5000, 1000, 500, 100, 50, 10])"
      ]
     },
     "execution_count": 53,
     "metadata": {},
     "output_type": "execute_result"
    }
   ],
   "source": [
    "results.keys()"
   ]
  },
  {
   "cell_type": "code",
   "execution_count": 51,
   "metadata": {},
   "outputs": [],
   "source": [
    "# parallel_s_test_10s = []\n",
    "# for i in range(4):\n",
    "#     _s_test_25 = get_s_test(task_model, 25, False)\n",
    "#     parallel_s_test_10s.append(_s_test_25)"
   ]
  },
  {
   "cell_type": "code",
   "execution_count": 52,
   "metadata": {},
   "outputs": [],
   "source": []
  },
  {
   "cell_type": "code",
   "execution_count": 30,
   "metadata": {},
   "outputs": [],
   "source": [
    "# new_s_test = []\n",
    "# for j in range(len(parallel_s_test_10s[0])):\n",
    "#     new_s_test.append(\n",
    "#         torch.stack([parallel_s_test_10s[i][j] for i in range(len(parallel_s_test_10s))], dim=0).mean(dim=0))"
   ]
  },
  {
   "cell_type": "code",
   "execution_count": 59,
   "metadata": {},
   "outputs": [
    {
     "data": {
      "text/plain": [
       "tensor([-1.1038e-07,  2.4554e-08,  1.5781e-08,  ..., -5.0017e-07,\n",
       "         8.5542e-07, -3.5526e-07])"
      ]
     },
     "execution_count": 59,
     "metadata": {},
     "output_type": "execute_result"
    }
   ],
   "source": []
  },
  {
   "cell_type": "code",
   "execution_count": 60,
   "metadata": {},
   "outputs": [],
   "source": [
    "diffs = {}\n",
    "for key, val in results.items():\n",
    "    a = torch.cat([x.flatten() for x in results[key]])\n",
    "    b = torch.cat([x.flatten() for x in results[5000]])\n",
    "    diffs[key] = (a - b).norm()"
   ]
  },
  {
   "cell_type": "code",
   "execution_count": 69,
   "metadata": {},
   "outputs": [
    {
     "data": {
      "text/plain": [
       "{5000: tensor(0.),\n",
       " 1000: tensor(0.0015),\n",
       " 500: tensor(0.0037),\n",
       " 100: tensor(0.0138),\n",
       " 50: tensor(0.0182),\n",
       " 10: tensor(0.0250)}"
      ]
     },
     "execution_count": 69,
     "metadata": {},
     "output_type": "execute_result"
    },
    {
     "data": {
      "image/png": "[encoded data removed]",
      "text/plain": [
       "<Figure size 432x288 with 1 Axes>"
      ]
     },
     "metadata": {
      "needs_background": "light"
     },
     "output_type": "display_data"
    }
   ],
   "source": [
    "import matplotlib.pyplot as plt\n",
    "plt.plot(list(diffs.keys()), list(diffs.values()))\n",
    "diffs"
   ]
  },
  {
   "cell_type": "code",
   "execution_count": null,
   "metadata": {},
   "outputs": [],
   "source": []
  },
  {
   "cell_type": "code",
   "execution_count": 20,
   "metadata": {},
   "outputs": [],
   "source": [
    "from torch.utils.data.sampler import SequentialSampler, RandomSampler\n",
    "def get_dataloader(dataset: GlueDataset,\n",
    "                   batch_size: int,\n",
    "                   random: bool = False,\n",
    "                   data_collator: Optional[DataCollator] = None\n",
    "                   ) -> DataLoader:\n",
    "    if data_collator is None:\n",
    "        data_collator = default_data_collator\n",
    "\n",
    "    if random is True:\n",
    "        sampler = RandomSampler(dataset)\n",
    "    else:\n",
    "        sampler = SequentialSampler(dataset)\n",
    "\n",
    "    data_loader = DataLoader(\n",
    "        dataset,\n",
    "        sampler=sampler,\n",
    "        batch_size=batch_size,\n",
    "        collate_fn=data_collator,\n",
    "    )\n",
    "\n",
    "    return data_loader"
   ]
  },
  {
   "cell_type": "code",
   "execution_count": null,
   "metadata": {},
   "outputs": [],
   "source": []
  },
  {
   "cell_type": "code",
   "execution_count": null,
   "metadata": {},
   "outputs": [],
   "source": []
  },
  {
   "cell_type": "code",
   "execution_count": null,
   "metadata": {},
   "outputs": [],
   "source": []
  },
  {
   "cell_type": "code",
   "execution_count": null,
   "metadata": {},
   "outputs": [],
   "source": []
  },
  {
   "cell_type": "code",
   "execution_count": null,
   "metadata": {},
   "outputs": [],
   "source": []
  },
  {
   "cell_type": "code",
   "execution_count": null,
   "metadata": {},
   "outputs": [],
   "source": []
  },
  {
   "cell_type": "code",
   "execution_count": null,
   "metadata": {},
   "outputs": [],
   "source": []
  },
  {
   "cell_type": "code",
   "execution_count": null,
   "metadata": {},
   "outputs": [],
   "source": []
  },
  {
   "cell_type": "code",
   "execution_count": null,
   "metadata": {},
   "outputs": [],
   "source": []
  },
  {
   "cell_type": "code",
   "execution_count": null,
   "metadata": {},
   "outputs": [],
   "source": []
  },
  {
   "cell_type": "code",
   "execution_count": null,
   "metadata": {},
   "outputs": [],
   "source": []
  },
  {
   "cell_type": "code",
   "execution_count": null,
   "metadata": {},
   "outputs": [],
   "source": []
  },
  {
   "cell_type": "code",
   "execution_count": 11,
   "metadata": {},
   "outputs": [],
   "source": [
    "import time\n",
    "import torch\n",
    "import numpy as np\n",
    "import matplotlib.pyplot as plt\n",
    "import transformers\n",
    "from tqdm import tqdm\n",
    "from copy import deepcopy\n",
    "from collections import defaultdict\n",
    "from influence_utils import influence as nn_influence_utils\n",
    "from influence_utils import faiss_utils\n",
    "from typing import List, Dict, Tuple, Optional, Union, Any\n",
    "\n",
    "from experiments.mnli_utils import predict\n",
    "\n",
    "WEIGHT_DECAY = 0.005\n",
    "FAISS_INDEX_PATH = \"/export/home/Experiments/20200713/MNLI.index\"\n",
    "TRAIN_INPUT_COLLECTIONS_PATH = \"/export/home/Experiments/20200706/train_inputs_collections.tmp.pt.full\"\n",
    "\n",
    "\n",
    "def get_influences(\n",
    "        k: int,\n",
    "        model: torch.nn.Module,\n",
    "        test_inputs: Dict[str, torch.Tensor],\n",
    "        batch_train_data_loader: torch.utils.data.DataLoader,\n",
    "        instance_train_data_loader: torch.utils.data.DataLoader,\n",
    "        precomputed_s_test: Optional[List[torch.FloatTensor]] = None,\n",
    ") -> Tuple[Dict[int, float], List[torch.FloatTensor]]:\n",
    "\n",
    "    faiss_index = faiss_utils.FAISSIndex(768, \"Flat\")\n",
    "    faiss_index.load(FAISS_INDEX_PATH)\n",
    "    print(f\"Loaded FAISS index with {len(faiss_index)} entries\")\n",
    "\n",
    "    test_features = experimental_compute_BERT_CLS_feature(model, **test_inputs)\n",
    "    test_features = test_features.cpu().detach().numpy()\n",
    "    KNN_distances, KNN_indices = faiss_index.search(\n",
    "        k=k, queries=test_features)\n",
    "\n",
    "    # Make sure indices are sorted according to distances\n",
    "    # KNN_distances[(\n",
    "    #     KNN_indices.squeeze(axis=0)[\n",
    "    #         np.argsort(KNN_distances.squeeze(axis=0))\n",
    "    #     ] != KNN_indices)]\n",
    "\n",
    "    params_filter = [\n",
    "        n for n, p in model.named_parameters()\n",
    "        if not p.requires_grad]\n",
    "\n",
    "    weight_decay_ignores = [\n",
    "        \"bias\",\n",
    "        \"LayerNorm.weight\"] + [\n",
    "        n for n, p in model.named_parameters()\n",
    "        if not p.requires_grad]\n",
    "\n",
    "    (influences,\n",
    "     train_inputs_collections,\n",
    "     s_test) = nn_influence_utils.compute_influences(\n",
    "        n_gpu=1,\n",
    "        device=torch.device(\"cuda\"),\n",
    "        model=model,\n",
    "        test_inputs=test_inputs,\n",
    "        batch_train_data_loader=batch_train_data_loader,\n",
    "        instance_train_data_loader=instance_train_data_loader,\n",
    "        params_filter=params_filter,\n",
    "        weight_decay=WEIGHT_DECAY,\n",
    "        weight_decay_ignores=weight_decay_ignores,\n",
    "        s_test_scale=1000,\n",
    "        s_test_num_samples=300,\n",
    "        precomputed_s_test=precomputed_s_test,\n",
    "        train_indices_to_include=KNN_indices)\n",
    "\n",
    "    return influences, s_test\n",
    "\n",
    "\n",
    "class Influence(torch.nn.Module):\n",
    "    def __init__(self,\n",
    "                 n_gpu: int,\n",
    "                 model: torch.nn.Module,\n",
    "                 params_filter: Optional[List[str]] = None,\n",
    "                 weight_decay: Optional[float] = None,\n",
    "                 weight_decay_ignores: Optional[List[str]] = None):\n",
    "\n",
    "        super(Influence, self).__init__()\n",
    "\n",
    "        if weight_decay_ignores is None:\n",
    "            # https://github.com/huggingface/transformers/blob/v3.0.2/src/transformers/trainer.py#L325\n",
    "            weight_decay_ignores = [\n",
    "                \"bias\",\n",
    "                \"LayerNorm.weight\"]\n",
    "\n",
    "        self._n_gpu = n_gpu\n",
    "        self._model = model\n",
    "        self._params_filter = params_filter\n",
    "        self._weight_decay = weight_decay\n",
    "        self._weight_decay_ignores = weight_decay_ignores\n",
    "\n",
    "    def forward(self,\n",
    "                X: Dict[str, torch.Tensor],\n",
    "                s_test: List[torch.FloatTensor]\n",
    "                ) -> torch.FloatTensor:\n",
    "\n",
    "        grad_z = compute_gradients(\n",
    "            n_gpu=self._n_gpu,\n",
    "            device=self.device,\n",
    "            model=self._model,\n",
    "            inputs=X,\n",
    "            params_filter=self._params_filter,\n",
    "            weight_decay=self._weight_decay,\n",
    "            weight_decay_ignores=self._weight_decay_ignores)\n",
    "\n",
    "        with torch.no_grad():\n",
    "            influence = [\n",
    "                - torch.sum(x * y)\n",
    "                for x, y in zip(grad_z, s_test)]\n",
    "\n",
    "        return sum(influence)\n"
   ]
  },
  {
   "cell_type": "code",
   "execution_count": 6,
   "metadata": {},
   "outputs": [],
   "source": [
    "train_inputs_collections = torch.load(\n",
    "    TRAIN_INPUT_COLLECTIONS_PATH)"
   ]
  },
  {
   "cell_type": "code",
   "execution_count": null,
   "metadata": {},
   "outputs": [],
   "source": []
  },
  {
   "cell_type": "code",
   "execution_count": null,
   "metadata": {},
   "outputs": [],
   "source": []
  },
  {
   "cell_type": "code",
   "execution_count": null,
   "metadata": {},
   "outputs": [],
   "source": []
  },
  {
   "cell_type": "code",
   "execution_count": null,
   "metadata": {},
   "outputs": [],
   "source": []
  },
  {
   "cell_type": "code",
   "execution_count": null,
   "metadata": {},
   "outputs": [],
   "source": []
  },
  {
   "cell_type": "code",
   "execution_count": null,
   "metadata": {},
   "outputs": [],
   "source": []
  },
  {
   "cell_type": "code",
   "execution_count": null,
   "metadata": {},
   "outputs": [],
   "source": []
  },
  {
   "cell_type": "code",
   "execution_count": null,
   "metadata": {},
   "outputs": [],
   "source": []
  },
  {
   "cell_type": "code",
   "execution_count": null,
   "metadata": {},
   "outputs": [],
   "source": []
  },
  {
   "cell_type": "code",
   "execution_count": 1,
   "metadata": {},
   "outputs": [],
   "source": [
    "import torch"
   ]
  },
  {
   "cell_type": "code",
   "execution_count": 2,
   "metadata": {},
   "outputs": [],
   "source": [
    "s_test_large_collections = torch.load(\"/export/home/Experiments/20200727/s_test_large_collections.pt\")\n",
    "s_test_small_collections = torch.load(\"/export/home/Experiments/20200727/s_test_small_collections.pt\")"
   ]
  },
  {
   "cell_type": "code",
   "execution_count": 3,
   "metadata": {},
   "outputs": [
    {
     "data": {
      "text/plain": [
       "(10, 5)"
      ]
     },
     "execution_count": 3,
     "metadata": {},
     "output_type": "execute_result"
    }
   ],
   "source": [
    "len(s_test_large_collections), len(s_test_small_collections)"
   ]
  },
  {
   "cell_type": "code",
   "execution_count": 4,
   "metadata": {},
   "outputs": [
    {
     "data": {
      "text/plain": [
       "dict_keys([100, 200, 300, 400, 500, 600, 700, 800, 900, 1000])"
      ]
     },
     "execution_count": 4,
     "metadata": {},
     "output_type": "execute_result"
    }
   ],
   "source": [
    "s_test_large_collections.keys()"
   ]
  },
  {
   "cell_type": "code",
   "execution_count": 5,
   "metadata": {},
   "outputs": [],
   "source": [
    "import matplotlib.pyplot as plt\n",
    "def flatten_and_concat(Xs):\n",
    "    return torch.cat([X.flatten() for X in Xs], dim=0)\n",
    "\n",
    "\n",
    "target = flatten_and_concat(s_test_large_collections[1000][0])\n",
    "def compute_error_norm(Xs):\n",
    "    return (flatten_and_concat(Xs) - target).norm()\n",
    "    \n",
    "def compute_error_norm_2(list_of_Xs):\n",
    "    list_of_new_Xs = [flatten_and_concat(Xs) for Xs in list_of_Xs]\n",
    "    return (torch.stack(list_of_new_Xs, dim=0).mean(dim=0) - target).norm()"
   ]
  },
  {
   "cell_type": "code",
   "execution_count": 6,
   "metadata": {},
   "outputs": [],
   "source": [
    "all_error_norms_1 = [compute_error_norm(s_test_large_collections[k][0]) for k in sorted(s_test_large_collections.keys())]\n",
    "all_compute_times_1 = [s_test_large_collections[k][1] / 60 for k in sorted(s_test_large_collections.keys())]"
   ]
  },
  {
   "cell_type": "code",
   "execution_count": 7,
   "metadata": {},
   "outputs": [
    {
     "data": {
      "text/plain": [
       "Text(0, 0.5, 'Compute time (Minutes)')"
      ]
     },
     "execution_count": 7,
     "metadata": {},
     "output_type": "execute_result"
    },
    {
     "data": {
      "image/png": "[encoded data removed]",
      "text/plain": [
       "<Figure size 432x288 with 1 Axes>"
      ]
     },
     "metadata": {
      "needs_background": "light"
     },
     "output_type": "display_data"
    },
    {
     "data": {
      "image/png": "[encoded data removed]",
      "text/plain": [
       "<Figure size 432x288 with 1 Axes>"
      ]
     },
     "metadata": {
      "needs_background": "light"
     },
     "output_type": "display_data"
    }
   ],
   "source": [
    "plt.plot(sorted(s_test_large_collections.keys()), all_error_norms_1, color=\"skyblue\")\n",
    "plt.ylabel(\"Norm of Error Vector\")\n",
    "plt.figure()\n",
    "plt.plot(sorted(s_test_large_collections.keys()), all_compute_times_1, color=\"salmon\")\n",
    "plt.ylabel(\"Compute time (Minutes)\")"
   ]
  },
  {
   "cell_type": "code",
   "execution_count": null,
   "metadata": {},
   "outputs": [],
   "source": []
  },
  {
   "cell_type": "code",
   "execution_count": 8,
   "metadata": {},
   "outputs": [
    {
     "data": {
      "text/plain": [
       "[<matplotlib.lines.Line2D at 0x7f0715d2c850>]"
      ]
     },
     "execution_count": 8,
     "metadata": {},
     "output_type": "execute_result"
    },
    {
     "data": {
      "image/png": "[encoded data removed]",
      "text/plain": [
       "<Figure size 432x288 with 1 Axes>"
      ]
     },
     "metadata": {
      "needs_background": "light"
     },
     "output_type": "display_data"
    },
    {
     "data": {
      "image/png": "[encoded data removed]",
      "text/plain": [
       "<Figure size 432x288 with 1 Axes>"
      ]
     },
     "metadata": {
      "needs_background": "light"
     },
     "output_type": "display_data"
    }
   ],
   "source": [
    "import numpy as np\n",
    "all_error_norms_2 = []\n",
    "all_compute_times_2 = []\n",
    "all_error_norms_2_bounds = []\n",
    "for k in sorted(s_test_small_collections.keys()):\n",
    "    compute_time = (s_test_small_collections[k][1] / 8) / 60\n",
    "    all_compute_times_2.append(compute_time)\n",
    "\n",
    "    s_tests = s_test_small_collections[k][0]\n",
    "    error_norms = [compute_error_norm(s_test) for s_test in s_tests]\n",
    "    all_error_norms_2.append(np.mean(error_norms))\n",
    "    all_error_norms_2_bounds.append([np.min(error_norms), np.max(error_norms)])\n",
    "\n",
    "plt.plot(sorted(s_test_small_collections.keys()),\n",
    "         all_error_norms_2, color=\"salmon\")\n",
    "plt.fill_between(sorted(s_test_small_collections.keys()),\n",
    "                 [p[0] for p in all_error_norms_2_bounds],\n",
    "                 [p[1] for p in all_error_norms_2_bounds],\n",
    "                 color=\"salmon\", alpha=0.3)\n",
    "plt.figure()\n",
    "plt.plot(sorted(s_test_small_collections.keys()),\n",
    "         all_compute_times_2, color=\"salmon\")"
   ]
  },
  {
   "cell_type": "code",
   "execution_count": 9,
   "metadata": {},
   "outputs": [],
   "source": [
    "import numpy as np\n",
    "from collections import defaultdict\n",
    "all_error_norms_3 = defaultdict(list)\n",
    "all_compute_times_3 = defaultdict(list)\n",
    "all_compute_times_3_parallel_limit = defaultdict(list)\n",
    "for k in sorted(s_test_small_collections.keys()):\n",
    "    for i in range(8):\n",
    "        compute_time = (s_test_small_collections[k][1] / 8) / 60\n",
    "        all_compute_times_3[i + 1].append(compute_time * (i + 1))\n",
    "        all_compute_times_3_parallel_limit[i + 1].append(compute_time)\n",
    "\n",
    "        s_tests = s_test_small_collections[k][0]\n",
    "        error_norms = compute_error_norm_2(s_tests[:i + 1])\n",
    "        all_error_norms_3[i + 1].append(error_norms)"
   ]
  },
  {
   "cell_type": "code",
   "execution_count": null,
   "metadata": {},
   "outputs": [],
   "source": []
  },
  {
   "cell_type": "code",
   "execution_count": 10,
   "metadata": {},
   "outputs": [
    {
     "data": {
      "image/png": "[encoded data removed]",
      "text/plain": [
       "<Figure size 432x288 with 1 Axes>"
      ]
     },
     "metadata": {
      "needs_background": "light"
     },
     "output_type": "display_data"
    },
    {
     "data": {
      "image/png": "[encoded data removed]",
      "text/plain": [
       "<Figure size 432x288 with 1 Axes>"
      ]
     },
     "metadata": {
      "needs_background": "light"
     },
     "output_type": "display_data"
    },
    {
     "data": {
      "image/png": "[encoded data removed]",
      "text/plain": [
       "<Figure size 432x288 with 1 Axes>"
      ]
     },
     "metadata": {
      "needs_background": "light"
     },
     "output_type": "display_data"
    }
   ],
   "source": [
    "from colour import Color\n",
    "red = Color(\"lightsalmon\")\n",
    "colors = list(red.range_to(Color(\"red\"),len(all_error_norms_3)))\n",
    "\n",
    "for i, k in enumerate(sorted(all_error_norms_3.keys())):\n",
    "    plt.plot(sorted(s_test_small_collections.keys()), all_error_norms_3[k], color=colors[i].get_hex())\n",
    "plt.figure()\n",
    "for i, k in enumerate(sorted(all_error_norms_3.keys())):\n",
    "    plt.plot(sorted(s_test_small_collections.keys()), all_compute_times_3[k], color=colors[i].get_hex())\n",
    "plt.figure()\n",
    "for i, k in enumerate(sorted(all_error_norms_3.keys())):\n",
    "    plt.plot(all_compute_times_3[k], all_error_norms_3[k], color=colors[i].get_hex())"
   ]
  },
  {
   "cell_type": "code",
   "execution_count": null,
   "metadata": {},
   "outputs": [],
   "source": []
  },
  {
   "cell_type": "code",
   "execution_count": 11,
   "metadata": {},
   "outputs": [
    {
     "data": {
      "text/plain": [
       "Text(0, 0.5, 'Norm of Error Vector')"
      ]
     },
     "execution_count": 11,
     "metadata": {},
     "output_type": "execute_result"
    },
    {
     "data": {
      "image/png": "[encoded data removed]",
      "text/plain": [
       "<Figure size 432x288 with 1 Axes>"
      ]
     },
     "metadata": {
      "needs_background": "light"
     },
     "output_type": "display_data"
    }
   ],
   "source": [
    "plt.figure()\n",
    "plt.plot(all_compute_times_1, all_error_norms_1, color=\"black\")\n",
    "plt.plot(all_compute_times_2, all_error_norms_2, color=\"red\")\n",
    "plt.fill_between(all_compute_times_2,\n",
    "                 [p[0] for p in all_error_norms_2_bounds],\n",
    "                 [p[1] for p in all_error_norms_2_bounds], color=\"red\", alpha=0.3)\n",
    "\n",
    "plt.yscale(\"log\")\n",
    "plt.legend([\"Various Recursion Length\", \"Various Batch Size (n=1)\"])\n",
    "plt.xlabel(\"Compute time (Minutes)\")\n",
    "plt.ylabel(\"Norm of Error Vector\")"
   ]
  },
  {
   "cell_type": "code",
   "execution_count": 12,
   "metadata": {},
   "outputs": [
    {
     "data": {
      "image/png": "[encoded data removed]",
      "text/plain": [
       "<Figure size 432x288 with 1 Axes>"
      ]
     },
     "metadata": {
      "needs_background": "light"
     },
     "output_type": "display_data"
    }
   ],
   "source": [
    "for i, k in enumerate(sorted(all_error_norms_3.keys())):\n",
    "    plt.plot(all_compute_times_3[k], all_error_norms_3[k], color=colors[i].get_hex(), alpha=0.5)\n",
    "plt.legend([f\"Various Batch Size (n={i})\" for i in sorted(all_error_norms_3.keys())])\n",
    "plt.yscale(\"log\")"
   ]
  },
  {
   "cell_type": "code",
   "execution_count": 13,
   "metadata": {},
   "outputs": [],
   "source": [
    "target_index_1 = [index for index, err in enumerate(all_error_norms_1) if err < 2e-5][0]\n",
    "target_index_2 = [index for index, err in enumerate(all_error_norms_2) if err < 2e-5][0]\n",
    "target_index_3 = [[index for index, err in enumerate(all_error_norms_3[i]) if err < 2e-5][0] for i in range(1, 9)]"
   ]
  },
  {
   "cell_type": "code",
   "execution_count": 14,
   "metadata": {},
   "outputs": [
    {
     "data": {
      "text/plain": [
       "9"
      ]
     },
     "execution_count": 14,
     "metadata": {},
     "output_type": "execute_result"
    }
   ],
   "source": [
    "target_index_1"
   ]
  },
  {
   "cell_type": "code",
   "execution_count": 15,
   "metadata": {},
   "outputs": [
    {
     "name": "stdout",
     "output_type": "stream",
     "text": [
      "To reach 2e-5 error norm\n",
      "V1: 10.41 min\n",
      "V2: 1.53 min\n",
      "V3 (n=1) 1.53 min, or 1.53 min\n",
      "V3 (n=2) 3.06 min, or 1.53 min\n",
      "V3 (n=3) 2.49 min, or 0.83 min\n",
      "V3 (n=4) 2.42 min, or 0.60 min\n",
      "V3 (n=5) 3.02 min, or 0.60 min\n",
      "V3 (n=6) 3.62 min, or 0.60 min\n",
      "V3 (n=7) 4.23 min, or 0.60 min\n",
      "V3 (n=8) 4.77 min, or 0.60 min\n"
     ]
    }
   ],
   "source": [
    "print(\"To reach 2e-5 error norm\")\n",
    "print(f\"V1: {all_compute_times_1[target_index_1]:.2f} min\")\n",
    "print(f\"V2: {all_compute_times_2[target_index_2]:.2f} min\")\n",
    "for i in range(8):\n",
    "    print(f\"V3 (n={i + 1}) {all_compute_times_3[i + 1][target_index_3[i]]:.2f} min, \"\n",
    "          f\"or {all_compute_times_3_parallel_limit[i + 1][target_index_3[i]]:.2f} min\")"
   ]
  },
  {
   "cell_type": "code",
   "execution_count": null,
   "metadata": {},
   "outputs": [],
   "source": []
  },
  {
   "cell_type": "code",
   "execution_count": null,
   "metadata": {},
   "outputs": [],
   "source": []
  },
  {
   "cell_type": "code",
   "execution_count": null,
   "metadata": {},
   "outputs": [],
   "source": []
  },
  {
   "cell_type": "code",
   "execution_count": 1,
   "metadata": {},
   "outputs": [
    {
     "name": "stderr",
     "output_type": "stream",
     "text": [
      "\u001b[34m\u001b[1mwandb\u001b[0m: \u001b[33mWARNING\u001b[0m W&B installed but not logged in.  Run `wandb login` or set the WANDB_API_KEY env variable.\n"
     ]
    }
   ],
   "source": [
    "from experiments.s_test_speedup import *"
   ]
  },
  {
   "cell_type": "code",
   "execution_count": 3,
   "metadata": {},
   "outputs": [
    {
     "name": "stdout",
     "output_type": "stream",
     "text": [
      "Params Trainable: 14768643\n",
      "\tbert.encoder.layer.10.attention.self.query.weight\n",
      "\tbert.encoder.layer.10.attention.self.query.bias\n",
      "\tbert.encoder.layer.10.attention.self.key.weight\n",
      "\tbert.encoder.layer.10.attention.self.key.bias\n",
      "\tbert.encoder.layer.10.attention.self.value.weight\n",
      "\tbert.encoder.layer.10.attention.self.value.bias\n",
      "\tbert.encoder.layer.10.attention.output.dense.weight\n",
      "\tbert.encoder.layer.10.attention.output.dense.bias\n",
      "\tbert.encoder.layer.10.attention.output.LayerNorm.weight\n",
      "\tbert.encoder.layer.10.attention.output.LayerNorm.bias\n",
      "\tbert.encoder.layer.10.intermediate.dense.weight\n",
      "\tbert.encoder.layer.10.intermediate.dense.bias\n",
      "\tbert.encoder.layer.10.output.dense.weight\n",
      "\tbert.encoder.layer.10.output.dense.bias\n",
      "\tbert.encoder.layer.10.output.LayerNorm.weight\n",
      "\tbert.encoder.layer.10.output.LayerNorm.bias\n",
      "\tbert.encoder.layer.11.attention.self.query.weight\n",
      "\tbert.encoder.layer.11.attention.self.query.bias\n",
      "\tbert.encoder.layer.11.attention.self.key.weight\n",
      "\tbert.encoder.layer.11.attention.self.key.bias\n",
      "\tbert.encoder.layer.11.attention.self.value.weight\n",
      "\tbert.encoder.layer.11.attention.self.value.bias\n",
      "\tbert.encoder.layer.11.attention.output.dense.weight\n",
      "\tbert.encoder.layer.11.attention.output.dense.bias\n",
      "\tbert.encoder.layer.11.attention.output.LayerNorm.weight\n",
      "\tbert.encoder.layer.11.attention.output.LayerNorm.bias\n",
      "\tbert.encoder.layer.11.intermediate.dense.weight\n",
      "\tbert.encoder.layer.11.intermediate.dense.bias\n",
      "\tbert.encoder.layer.11.output.dense.weight\n",
      "\tbert.encoder.layer.11.output.dense.bias\n",
      "\tbert.encoder.layer.11.output.LayerNorm.weight\n",
      "\tbert.encoder.layer.11.output.LayerNorm.bias\n",
      "\tbert.pooler.dense.weight\n",
      "\tbert.pooler.dense.bias\n",
      "\tclassifier.weight\n",
      "\tclassifier.bias\n"
     ]
    }
   ],
   "source": [
    "task_tokenizer, task_model = create_tokenizer_and_model(\n",
    "    \"/export/home/Experiments/20200706/\")\n",
    "test_inputs = None\n",
    "train_dataset, eval_dataset = create_datasets(\n",
    "    tokenizer=task_tokenizer)"
   ]
  },
  {
   "cell_type": "code",
   "execution_count": 7,
   "metadata": {},
   "outputs": [],
   "source": [
    "eval_instance_data_loader = get_dataloader(\n",
    "    dataset=eval_dataset,\n",
    "    batch_size=1,\n",
    "    random=True)"
   ]
  },
  {
   "cell_type": "code",
   "execution_count": null,
   "metadata": {},
   "outputs": [],
   "source": []
  },
  {
   "cell_type": "code",
   "execution_count": null,
   "metadata": {},
   "outputs": [],
   "source": []
  },
  {
   "cell_type": "code",
   "execution_count": null,
   "metadata": {},
   "outputs": [],
   "source": []
  }
 ],
 "metadata": {
  "kernelspec": {
   "display_name": "Python 3",
   "language": "python",
   "name": "python3"
  },
  "language_info": {
   "codemirror_mode": {
    "name": "ipython",
    "version": 3
   },
   "file_extension": ".py",
   "mimetype": "text/x-python",
   "name": "python",
   "nbconvert_exporter": "python",
   "pygments_lexer": "ipython3",
   "version": "3.7.7"
  }
 },
 "nbformat": 4,
 "nbformat_minor": 4
}
