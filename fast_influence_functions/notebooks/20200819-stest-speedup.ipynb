{
 "cells": [
  {
   "cell_type": "code",
   "execution_count": 2,
   "metadata": {},
   "outputs": [],
   "source": [
    "import torch\n",
    "# output_collection = torch.load(\"/export/home/Experiments/20200819/s_test_speedup.repetition-3.pt\")"
   ]
  },
  {
   "cell_type": "code",
   "execution_count": 18,
   "metadata": {},
   "outputs": [
    {
     "name": "stderr",
     "output_type": "stream",
     "text": [
      "100%|██████████| 280/280 [00:13<00:00, 21.25it/s]\n"
     ]
    }
   ],
   "source": [
    "import numpy as np\n",
    "from tqdm import tqdm\n",
    "for outputs in tqdm(output_collection):\n",
    "    s_test_pytorch = outputs[\"s_test\"]\n",
    "    s_test = np.concatenate([X.numpy().flatten() for X in s_test_pytorch])\n",
    "    outputs[\"s_test\"] = s_test"
   ]
  },
  {
   "cell_type": "code",
   "execution_count": 26,
   "metadata": {},
   "outputs": [
    {
     "name": "stderr",
     "output_type": "stream",
     "text": [
      "100%|██████████| 280/280 [00:00<00:00, 512169.70it/s]\n"
     ]
    }
   ],
   "source": [
    "outputs_by_index = [[] for _ in range(5)]\n",
    "target_s_test = [None for _ in range(5)]\n",
    "for outputs in tqdm(output_collection):\n",
    "    outputs_by_index[outputs[\"test_index\"]].append(outputs)\n",
    "    if outputs[\"num_samples\"] == 1300 and outputs[\"batch_size\"] == 128:\n",
    "        target_s_test[outputs[\"test_index\"]] = outputs[\"s_test\"]"
   ]
  },
  {
   "cell_type": "code",
   "execution_count": 30,
   "metadata": {},
   "outputs": [
    {
     "data": {
      "text/plain": [
       "0.00036482935"
      ]
     },
     "execution_count": 30,
     "metadata": {},
     "output_type": "execute_result"
    }
   ],
   "source": []
  },
  {
   "cell_type": "code",
   "execution_count": 31,
   "metadata": {},
   "outputs": [
    {
     "name": "stderr",
     "output_type": "stream",
     "text": [
      "100%|██████████| 280/280 [00:06<00:00, 45.59it/s]\n"
     ]
    }
   ],
   "source": [
    "for outputs in tqdm(output_collection):\n",
    "    diff_norm = np.linalg.norm(outputs[\"s_test\"] - target_s_test[outputs[\"test_index\"]])\n",
    "    outputs[\"diff_norm\"] = diff_norm"
   ]
  },
  {
   "cell_type": "code",
   "execution_count": 34,
   "metadata": {},
   "outputs": [
    {
     "name": "stderr",
     "output_type": "stream",
     "text": [
      "100%|██████████| 280/280 [00:00<00:00, 3054.93it/s]\n"
     ]
    }
   ],
   "source": [
    "for outputs in tqdm(output_collection):\n",
    "    outputs.pop(\"s_test\")"
   ]
  },
  {
   "cell_type": "code",
   "execution_count": null,
   "metadata": {},
   "outputs": [],
   "source": []
  },
  {
   "cell_type": "code",
   "execution_count": 32,
   "metadata": {},
   "outputs": [],
   "source": [
    "import pandas as pd"
   ]
  },
  {
   "cell_type": "code",
   "execution_count": 48,
   "metadata": {},
   "outputs": [],
   "source": [
    "df = pd.DataFrame(output_collection)"
   ]
  },
  {
   "cell_type": "code",
   "execution_count": 49,
   "metadata": {},
   "outputs": [
    {
     "data": {
      "text/html": [
       "<div>\n",
       "<style scoped>\n",
       "    .dataframe tbody tr th:only-of-type {\n",
       "        vertical-align: middle;\n",
       "    }\n",
       "\n",
       "    .dataframe tbody tr th {\n",
       "        vertical-align: top;\n",
       "    }\n",
       "\n",
       "    .dataframe thead th {\n",
       "        text-align: right;\n",
       "    }\n",
       "</style>\n",
       "<table border=\"1\" class=\"dataframe\">\n",
       "  <thead>\n",
       "    <tr style=\"text-align: right;\">\n",
       "      <th></th>\n",
       "      <th>test_index</th>\n",
       "      <th>num_samples</th>\n",
       "      <th>batch_size</th>\n",
       "      <th>repetition</th>\n",
       "      <th>time_elapsed</th>\n",
       "      <th>diff_norm</th>\n",
       "    </tr>\n",
       "  </thead>\n",
       "  <tbody>\n",
       "    <tr>\n",
       "      <th>0</th>\n",
       "      <td>0</td>\n",
       "      <td>700</td>\n",
       "      <td>1</td>\n",
       "      <td>0</td>\n",
       "      <td>25.385064</td>\n",
       "      <td>3.292313e-04</td>\n",
       "    </tr>\n",
       "    <tr>\n",
       "      <th>1</th>\n",
       "      <td>0</td>\n",
       "      <td>700</td>\n",
       "      <td>2</td>\n",
       "      <td>0</td>\n",
       "      <td>24.897423</td>\n",
       "      <td>3.108057e-04</td>\n",
       "    </tr>\n",
       "    <tr>\n",
       "      <th>2</th>\n",
       "      <td>0</td>\n",
       "      <td>700</td>\n",
       "      <td>4</td>\n",
       "      <td>0</td>\n",
       "      <td>25.404797</td>\n",
       "      <td>2.949672e-04</td>\n",
       "    </tr>\n",
       "    <tr>\n",
       "      <th>3</th>\n",
       "      <td>0</td>\n",
       "      <td>700</td>\n",
       "      <td>8</td>\n",
       "      <td>0</td>\n",
       "      <td>34.759400</td>\n",
       "      <td>2.925861e-04</td>\n",
       "    </tr>\n",
       "    <tr>\n",
       "      <th>4</th>\n",
       "      <td>0</td>\n",
       "      <td>700</td>\n",
       "      <td>16</td>\n",
       "      <td>0</td>\n",
       "      <td>64.098297</td>\n",
       "      <td>2.959292e-04</td>\n",
       "    </tr>\n",
       "    <tr>\n",
       "      <th>...</th>\n",
       "      <td>...</td>\n",
       "      <td>...</td>\n",
       "      <td>...</td>\n",
       "      <td>...</td>\n",
       "      <td>...</td>\n",
       "      <td>...</td>\n",
       "    </tr>\n",
       "    <tr>\n",
       "      <th>275</th>\n",
       "      <td>4</td>\n",
       "      <td>1300</td>\n",
       "      <td>8</td>\n",
       "      <td>0</td>\n",
       "      <td>64.450214</td>\n",
       "      <td>1.063085e-07</td>\n",
       "    </tr>\n",
       "    <tr>\n",
       "      <th>276</th>\n",
       "      <td>4</td>\n",
       "      <td>1300</td>\n",
       "      <td>16</td>\n",
       "      <td>0</td>\n",
       "      <td>118.596105</td>\n",
       "      <td>9.199741e-08</td>\n",
       "    </tr>\n",
       "    <tr>\n",
       "      <th>277</th>\n",
       "      <td>4</td>\n",
       "      <td>1300</td>\n",
       "      <td>32</td>\n",
       "      <td>0</td>\n",
       "      <td>214.711344</td>\n",
       "      <td>5.772556e-08</td>\n",
       "    </tr>\n",
       "    <tr>\n",
       "      <th>278</th>\n",
       "      <td>4</td>\n",
       "      <td>1300</td>\n",
       "      <td>64</td>\n",
       "      <td>0</td>\n",
       "      <td>420.902801</td>\n",
       "      <td>4.807385e-08</td>\n",
       "    </tr>\n",
       "    <tr>\n",
       "      <th>279</th>\n",
       "      <td>4</td>\n",
       "      <td>1300</td>\n",
       "      <td>128</td>\n",
       "      <td>0</td>\n",
       "      <td>808.568413</td>\n",
       "      <td>0.000000e+00</td>\n",
       "    </tr>\n",
       "  </tbody>\n",
       "</table>\n",
       "<p>280 rows × 6 columns</p>\n",
       "</div>"
      ],
      "text/plain": [
       "     test_index  num_samples  batch_size  repetition  time_elapsed  \\\n",
       "0             0          700           1           0     25.385064   \n",
       "1             0          700           2           0     24.897423   \n",
       "2             0          700           4           0     25.404797   \n",
       "3             0          700           8           0     34.759400   \n",
       "4             0          700          16           0     64.098297   \n",
       "..          ...          ...         ...         ...           ...   \n",
       "275           4         1300           8           0     64.450214   \n",
       "276           4         1300          16           0    118.596105   \n",
       "277           4         1300          32           0    214.711344   \n",
       "278           4         1300          64           0    420.902801   \n",
       "279           4         1300         128           0    808.568413   \n",
       "\n",
       "        diff_norm  \n",
       "0    3.292313e-04  \n",
       "1    3.108057e-04  \n",
       "2    2.949672e-04  \n",
       "3    2.925861e-04  \n",
       "4    2.959292e-04  \n",
       "..            ...  \n",
       "275  1.063085e-07  \n",
       "276  9.199741e-08  \n",
       "277  5.772556e-08  \n",
       "278  4.807385e-08  \n",
       "279  0.000000e+00  \n",
       "\n",
       "[280 rows x 6 columns]"
      ]
     },
     "execution_count": 49,
     "metadata": {},
     "output_type": "execute_result"
    }
   ],
   "source": [
    "df"
   ]
  },
  {
   "cell_type": "code",
   "execution_count": 51,
   "metadata": {},
   "outputs": [],
   "source": [
    "import matplotlib.pyplot as plt"
   ]
  },
  {
   "cell_type": "code",
   "execution_count": 112,
   "metadata": {},
   "outputs": [
    {
     "data": {
      "text/html": [
       "<div>\n",
       "<style scoped>\n",
       "    .dataframe tbody tr th:only-of-type {\n",
       "        vertical-align: middle;\n",
       "    }\n",
       "\n",
       "    .dataframe tbody tr th {\n",
       "        vertical-align: top;\n",
       "    }\n",
       "\n",
       "    .dataframe thead tr th {\n",
       "        text-align: left;\n",
       "    }\n",
       "</style>\n",
       "<table border=\"1\" class=\"dataframe\">\n",
       "  <thead>\n",
       "    <tr>\n",
       "      <th>num_samples</th>\n",
       "      <th colspan=\"8\" halign=\"left\">700</th>\n",
       "      <th colspan=\"2\" halign=\"left\">800</th>\n",
       "      <th>...</th>\n",
       "      <th colspan=\"2\" halign=\"left\">1200</th>\n",
       "      <th colspan=\"8\" halign=\"left\">1300</th>\n",
       "    </tr>\n",
       "    <tr>\n",
       "      <th>batch_size</th>\n",
       "      <th>1</th>\n",
       "      <th>2</th>\n",
       "      <th>4</th>\n",
       "      <th>8</th>\n",
       "      <th>16</th>\n",
       "      <th>32</th>\n",
       "      <th>64</th>\n",
       "      <th>128</th>\n",
       "      <th>1</th>\n",
       "      <th>2</th>\n",
       "      <th>...</th>\n",
       "      <th>64</th>\n",
       "      <th>128</th>\n",
       "      <th>1</th>\n",
       "      <th>2</th>\n",
       "      <th>4</th>\n",
       "      <th>8</th>\n",
       "      <th>16</th>\n",
       "      <th>32</th>\n",
       "      <th>64</th>\n",
       "      <th>128</th>\n",
       "    </tr>\n",
       "  </thead>\n",
       "  <tbody>\n",
       "    <tr>\n",
       "      <th>time_elapsed</th>\n",
       "      <td>25.382221</td>\n",
       "      <td>25.171853</td>\n",
       "      <td>25.556941</td>\n",
       "      <td>34.794770</td>\n",
       "      <td>64.017047</td>\n",
       "      <td>115.844795</td>\n",
       "      <td>227.016209</td>\n",
       "      <td>435.986514</td>\n",
       "      <td>28.704256</td>\n",
       "      <td>28.342973</td>\n",
       "      <td>...</td>\n",
       "      <td>388.594356</td>\n",
       "      <td>746.368400</td>\n",
       "      <td>46.914661</td>\n",
       "      <td>46.477748</td>\n",
       "      <td>47.330031</td>\n",
       "      <td>64.503285</td>\n",
       "      <td>118.624598</td>\n",
       "      <td>214.729251</td>\n",
       "      <td>420.984355</td>\n",
       "      <td>808.515953</td>\n",
       "    </tr>\n",
       "    <tr>\n",
       "      <th>diff_norm</th>\n",
       "      <td>0.000285</td>\n",
       "      <td>0.000284</td>\n",
       "      <td>0.000269</td>\n",
       "      <td>0.000268</td>\n",
       "      <td>0.000271</td>\n",
       "      <td>0.000268</td>\n",
       "      <td>0.000268</td>\n",
       "      <td>0.000268</td>\n",
       "      <td>0.000213</td>\n",
       "      <td>0.000210</td>\n",
       "      <td>...</td>\n",
       "      <td>0.000028</td>\n",
       "      <td>0.000028</td>\n",
       "      <td>0.000050</td>\n",
       "      <td>0.000037</td>\n",
       "      <td>0.000028</td>\n",
       "      <td>0.000019</td>\n",
       "      <td>0.000013</td>\n",
       "      <td>0.000010</td>\n",
       "      <td>0.000008</td>\n",
       "      <td>0.000000</td>\n",
       "    </tr>\n",
       "  </tbody>\n",
       "</table>\n",
       "<p>2 rows × 56 columns</p>\n",
       "</div>"
      ],
      "text/plain": [
       "num_samples        700                                               \\\n",
       "batch_size          1          2          4          8          16    \n",
       "time_elapsed  25.382221  25.171853  25.556941  34.794770  64.017047   \n",
       "diff_norm      0.000285   0.000284   0.000269   0.000268   0.000271   \n",
       "\n",
       "num_samples                                            800              ...  \\\n",
       "batch_size           32          64          128        1          2    ...   \n",
       "time_elapsed  115.844795  227.016209  435.986514  28.704256  28.342973  ...   \n",
       "diff_norm       0.000268    0.000268    0.000268   0.000213   0.000210  ...   \n",
       "\n",
       "num_samples         1200                   1300                        \\\n",
       "batch_size           64          128        1          2          4     \n",
       "time_elapsed  388.594356  746.368400  46.914661  46.477748  47.330031   \n",
       "diff_norm       0.000028    0.000028   0.000050   0.000037   0.000028   \n",
       "\n",
       "num_samples                                                              \n",
       "batch_size          8           16          32          64          128  \n",
       "time_elapsed  64.503285  118.624598  214.729251  420.984355  808.515953  \n",
       "diff_norm      0.000019    0.000013    0.000010    0.000008    0.000000  \n",
       "\n",
       "[2 rows x 56 columns]"
      ]
     },
     "metadata": {},
     "output_type": "display_data"
    },
    {
     "data": {
      "text/html": [
       "<div>\n",
       "<style scoped>\n",
       "    .dataframe tbody tr th:only-of-type {\n",
       "        vertical-align: middle;\n",
       "    }\n",
       "\n",
       "    .dataframe tbody tr th {\n",
       "        vertical-align: top;\n",
       "    }\n",
       "\n",
       "    .dataframe thead tr th {\n",
       "        text-align: left;\n",
       "    }\n",
       "</style>\n",
       "<table border=\"1\" class=\"dataframe\">\n",
       "  <thead>\n",
       "    <tr>\n",
       "      <th>num_samples</th>\n",
       "      <th colspan=\"8\" halign=\"left\">700</th>\n",
       "      <th colspan=\"2\" halign=\"left\">800</th>\n",
       "      <th>...</th>\n",
       "      <th colspan=\"2\" halign=\"left\">1200</th>\n",
       "      <th colspan=\"8\" halign=\"left\">1300</th>\n",
       "    </tr>\n",
       "    <tr>\n",
       "      <th>batch_size</th>\n",
       "      <th>1</th>\n",
       "      <th>2</th>\n",
       "      <th>4</th>\n",
       "      <th>8</th>\n",
       "      <th>16</th>\n",
       "      <th>32</th>\n",
       "      <th>64</th>\n",
       "      <th>128</th>\n",
       "      <th>1</th>\n",
       "      <th>2</th>\n",
       "      <th>...</th>\n",
       "      <th>64</th>\n",
       "      <th>128</th>\n",
       "      <th>1</th>\n",
       "      <th>2</th>\n",
       "      <th>4</th>\n",
       "      <th>8</th>\n",
       "      <th>16</th>\n",
       "      <th>32</th>\n",
       "      <th>64</th>\n",
       "      <th>128</th>\n",
       "    </tr>\n",
       "  </thead>\n",
       "  <tbody>\n",
       "    <tr>\n",
       "      <th>time_elapsed</th>\n",
       "      <td>0.494334</td>\n",
       "      <td>0.554097</td>\n",
       "      <td>0.751375</td>\n",
       "      <td>0.045805</td>\n",
       "      <td>0.054415</td>\n",
       "      <td>0.078518</td>\n",
       "      <td>0.047066</td>\n",
       "      <td>0.199127</td>\n",
       "      <td>0.431178</td>\n",
       "      <td>0.399971</td>\n",
       "      <td>...</td>\n",
       "      <td>0.040147</td>\n",
       "      <td>0.224317</td>\n",
       "      <td>0.685342</td>\n",
       "      <td>0.660522</td>\n",
       "      <td>0.328345</td>\n",
       "      <td>0.064294</td>\n",
       "      <td>0.085348</td>\n",
       "      <td>0.095945</td>\n",
       "      <td>0.178359</td>\n",
       "      <td>0.311947</td>\n",
       "    </tr>\n",
       "    <tr>\n",
       "      <th>diff_norm</th>\n",
       "      <td>0.000274</td>\n",
       "      <td>0.000279</td>\n",
       "      <td>0.000259</td>\n",
       "      <td>0.000260</td>\n",
       "      <td>0.000264</td>\n",
       "      <td>0.000258</td>\n",
       "      <td>0.000258</td>\n",
       "      <td>0.000258</td>\n",
       "      <td>0.000204</td>\n",
       "      <td>0.000206</td>\n",
       "      <td>...</td>\n",
       "      <td>0.000027</td>\n",
       "      <td>0.000027</td>\n",
       "      <td>0.000052</td>\n",
       "      <td>0.000040</td>\n",
       "      <td>0.000030</td>\n",
       "      <td>0.000020</td>\n",
       "      <td>0.000014</td>\n",
       "      <td>0.000010</td>\n",
       "      <td>0.000008</td>\n",
       "      <td>0.000000</td>\n",
       "    </tr>\n",
       "  </tbody>\n",
       "</table>\n",
       "<p>2 rows × 56 columns</p>\n",
       "</div>"
      ],
      "text/plain": [
       "num_samples       700                                                     \\\n",
       "batch_size         1         2         4         8         16        32    \n",
       "time_elapsed  0.494334  0.554097  0.751375  0.045805  0.054415  0.078518   \n",
       "diff_norm     0.000274  0.000279  0.000259  0.000260  0.000264  0.000258   \n",
       "\n",
       "num_samples                           800             ...      1200            \\\n",
       "batch_size         64        128       1         2    ...       64        128   \n",
       "time_elapsed  0.047066  0.199127  0.431178  0.399971  ...  0.040147  0.224317   \n",
       "diff_norm     0.000258  0.000258  0.000204  0.000206  ...  0.000027  0.000027   \n",
       "\n",
       "num_samples       1300                                                    \\\n",
       "batch_size         1         2         4         8         16        32    \n",
       "time_elapsed  0.685342  0.660522  0.328345  0.064294  0.085348  0.095945   \n",
       "diff_norm     0.000052  0.000040  0.000030  0.000020  0.000014  0.000010   \n",
       "\n",
       "num_samples                       \n",
       "batch_size         64        128  \n",
       "time_elapsed  0.178359  0.311947  \n",
       "diff_norm     0.000008  0.000000  \n",
       "\n",
       "[2 rows x 56 columns]"
      ]
     },
     "metadata": {},
     "output_type": "display_data"
    }
   ],
   "source": [
    "from collections import defaultdict\n",
    "dfmeans = df.groupby([\"num_samples\", \"batch_size\"]).mean()[[\"time_elapsed\", \"diff_norm\"]]\n",
    "dfstds = df.groupby([\"num_samples\", \"batch_size\"]).std()[[\"time_elapsed\", \"diff_norm\"]]\n",
    "time_data = defaultdict(dict)\n",
    "diff_data = defaultdict(dict)\n",
    "for row_m, row_s in zip(dfmeans.iterrows(), dfstds.iterrows()):\n",
    "    if row_m[0] != row_s[0]:\n",
    "        raise ValueError\n",
    "    n, b = row_m[0]\n",
    "    time_data[n][b] = (row_m[1].time_elapsed, row_s[1].time_elapsed)\n",
    "    diff_data[n][b] = (row_m[1].diff_norm, row_s[1].diff_norm)\n",
    "    \n",
    "    \n",
    "display(dfmeans.transpose())\n",
    "display(dfstds.transpose())"
   ]
  },
  {
   "cell_type": "code",
   "execution_count": 138,
   "metadata": {},
   "outputs": [
    {
     "data": {
      "image/png": "[encoded data removed]",
      "text/plain": [
       "<Figure size 504x432 with 1 Axes>"
      ]
     },
     "metadata": {
      "needs_background": "light"
     },
     "output_type": "display_data"
    }
   ],
   "source": [
    "plt.figure(figsize=(7,6))\n",
    "for k in sorted(time_data.keys()):\n",
    "    Ys = []\n",
    "    Xs = []\n",
    "    Ys_e = []\n",
    "    for _k in sorted(time_data[k].keys()):\n",
    "        Ys.append(time_data[k][_k][0])\n",
    "        Ys_e.append(time_data[k][_k][1] * 10)\n",
    "        Xs.append(_k)\n",
    "    plt.errorbar(Xs, Ys, yerr=Ys_e, label=f\"N={k}\")\n",
    "plt.legend()\n",
    "plt.xlabel(\"Batch Size\")\n",
    "plt.ylabel(\"Time\")\n",
    "plt.xscale(\"log\")\n",
    "plt.savefig(\"./20200819-stest-speedup-time.pdf\")"
   ]
  },
  {
   "cell_type": "code",
   "execution_count": 139,
   "metadata": {},
   "outputs": [
    {
     "data": {
      "image/png": "[encoded data removed]",
      "text/plain": [
       "<Figure size 504x432 with 1 Axes>"
      ]
     },
     "metadata": {
      "needs_background": "light"
     },
     "output_type": "display_data"
    }
   ],
   "source": [
    "plt.figure(figsize=(7,6))\n",
    "for k in sorted(diff_data.keys()):\n",
    "    Ys = []\n",
    "    Xs = []\n",
    "    Ys_e = []\n",
    "    for _k in sorted(diff_data[k].keys()):\n",
    "        Ys.append(diff_data[k][_k][0])\n",
    "        Ys_e.append(diff_data[k][_k][1])\n",
    "        Xs.append(_k)\n",
    "    # plt.errorbar(Xs, Ys, yerr=Ys_e, label=f\"N={k}\")\n",
    "    plt.errorbar(Xs, Ys, label=f\"N={k}\")\n",
    "plt.legend()\n",
    "plt.xlabel(\"Batch Size\")\n",
    "plt.ylabel(\"Difference Norm\")\n",
    "plt.xscale(\"log\")\n",
    "plt.savefig(\"./20200819-stest-diffnorm-time.pdf\")"
   ]
  },
  {
   "cell_type": "code",
   "execution_count": null,
   "metadata": {},
   "outputs": [],
   "source": []
  },
  {
   "cell_type": "code",
   "execution_count": null,
   "metadata": {},
   "outputs": [],
   "source": []
  }
 ],
 "metadata": {
  "kernelspec": {
   "display_name": "Python 3",
   "language": "python",
   "name": "python3"
  },
  "language_info": {
   "codemirror_mode": {
    "name": "ipython",
    "version": 3
   },
   "file_extension": ".py",
   "mimetype": "text/x-python",
   "name": "python",
   "nbconvert_exporter": "python",
   "pygments_lexer": "ipython3",
   "version": "3.7.7"
  }
 },
 "nbformat": 4,
 "nbformat_minor": 4
}
