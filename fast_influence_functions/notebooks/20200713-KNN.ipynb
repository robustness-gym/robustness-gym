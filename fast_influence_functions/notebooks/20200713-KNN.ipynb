{
 "cells": [
  {
   "cell_type": "code",
   "execution_count": 1,
   "metadata": {},
   "outputs": [],
   "source": [
    "from transformers import (\n",
    "    AutoModelForSequenceClassification,\n",
    "    AutoTokenizer,\n",
    "    GlueDataset,\n",
    "    GlueDataTrainingArguments,\n",
    "    Trainer,\n",
    "    TrainingArguments,\n",
    "    default_data_collator,\n",
    "    glue_compute_metrics,\n",
    "    glue_output_modes)\n",
    "from influence_utils.utils_hans import HansDataset\n",
    "\n",
    "import torch\n",
    "import numpy as np\n",
    "from torch.utils.data.dataloader import DataLoader\n",
    "from torch.utils.data.sampler import RandomSampler, SequentialSampler\n",
    "from influence_utils.influence import compute_s_test\n",
    "from influence_utils import glue_utils"
   ]
  },
  {
   "cell_type": "code",
   "execution_count": 2,
   "metadata": {},
   "outputs": [],
   "source": [
    "tokenizer = AutoTokenizer.from_pretrained(\"/export/home/Experiments/20200706/\")\n",
    "model = AutoModelForSequenceClassification.from_pretrained(\"/export/home/Experiments/20200706/\")\n",
    "# model = AutoModelForSequenceClassification.from_pretrained(\"bert-base-cased\")\n",
    "model.eval()\n",
    "\n",
    "train_dataset = GlueDataset(\n",
    "    args=GlueDataTrainingArguments(\n",
    "        task_name=\"mnli\",\n",
    "        max_seq_length=128,\n",
    "        data_dir=\"/export/home/Data/Glue/MNLI/\"),\n",
    "    tokenizer=tokenizer)\n",
    "\n",
    "# eval_dataset = HansDataset(\n",
    "#     data_dir=\"/export/home/Data/HANS/\",\n",
    "#     tokenizer=tokenizer,\n",
    "#     task=\"hans\",\n",
    "#     max_seq_length=128,\n",
    "#     overwrite_cache=False,\n",
    "#     evaluate=True,\n",
    "# )\n",
    "eval_dataset = GlueDataset(\n",
    "    args=GlueDataTrainingArguments(\n",
    "        task_name=\"mnli\",\n",
    "        max_seq_length=128,\n",
    "        data_dir=\"/export/home/Data/Glue/MNLI/\"),\n",
    "    tokenizer=tokenizer,\n",
    "    mode=\"dev\")"
   ]
  },
  {
   "cell_type": "code",
   "execution_count": null,
   "metadata": {},
   "outputs": [],
   "source": []
  },
  {
   "cell_type": "code",
   "execution_count": 3,
   "metadata": {},
   "outputs": [],
   "source": [
    "def custom_forward(\n",
    "    model,\n",
    "    input_ids=None,\n",
    "    attention_mask=None,\n",
    "    token_type_ids=None,\n",
    "    position_ids=None,\n",
    "    head_mask=None,\n",
    "    inputs_embeds=None,\n",
    "    labels=None,\n",
    "    output_attentions=None,\n",
    "    output_hidden_states=None,\n",
    "    return_tuple=None,\n",
    "):\n",
    "    r\"\"\"\n",
    "    labels (:obj:`torch.LongTensor` of shape :obj:`(batch_size,)`, `optional`, defaults to :obj:`None`):\n",
    "        Labels for computing the sequence classification/regression loss.\n",
    "        Indices should be in :obj:`[0, ..., config.num_labels - 1]`.\n",
    "        If :obj:`config.num_labels == 1` a regression loss is computed (Mean-Square loss),\n",
    "        If :obj:`config.num_labels > 1` a classification loss is computed (Cross-Entropy).\n",
    "    \"\"\"\n",
    "    if model.training is True:\n",
    "        raise ValueError\n",
    "\n",
    "    outputs = model.bert(\n",
    "        input_ids,\n",
    "        attention_mask=attention_mask,\n",
    "        token_type_ids=token_type_ids,\n",
    "        position_ids=position_ids,\n",
    "        head_mask=head_mask,\n",
    "        inputs_embeds=inputs_embeds,\n",
    "        output_attentions=output_attentions,\n",
    "        output_hidden_states=output_hidden_states,\n",
    "    )\n",
    "\n",
    "    pooled_output = outputs[1]\n",
    "\n",
    "    return model.dropout(pooled_output)\n",
    "\n",
    "\n",
    "def hans_data_collator(features):\n",
    "    \"\"\"\n",
    "    Data collator that removes the \"pairID\" key if present.\n",
    "    \"\"\"\n",
    "    batch = default_data_collator(features)\n",
    "    _ = batch.pop(\"pairID\", None)\n",
    "    return batch\n",
    "\n",
    "\n",
    "def get_dataloader(dataset, batch_size, data_collator) -> DataLoader:\n",
    "    sampler = SequentialSampler(dataset)\n",
    "\n",
    "    data_loader = DataLoader(\n",
    "        dataset,\n",
    "        sampler=sampler,\n",
    "        batch_size=batch_size,\n",
    "        collate_fn=data_collator,\n",
    "    )\n",
    "\n",
    "    return data_loader\n",
    "\n",
    "\n",
    "def run_forward(model, inputs):\n",
    "    # Implicitly used trainer and model\n",
    "    has_labels = any(inputs.get(k) is not None for k in [\"labels\", \"lm_labels\", \"masked_lm_labels\"])\n",
    "\n",
    "    for k, v in inputs.items():\n",
    "        if isinstance(v, torch.Tensor):\n",
    "            inputs[k] = v.to(trainer.args.device)\n",
    "    if trainer.args.past_index >= 0:\n",
    "        inputs[\"mems\"] = past\n",
    "\n",
    "    with torch.no_grad():\n",
    "        outputs = model(**inputs)\n",
    "        if has_labels:\n",
    "            step_eval_loss, logits = outputs[:2]\n",
    "            return step_eval_loss, logits\n",
    "        else:\n",
    "            logits = outputs[0]\n",
    "            return logits\n",
    "        \n",
    "output_mode = glue_output_modes[\"mnli\"]\n",
    "def build_compute_metrics_fn(task_name: str):\n",
    "    def compute_metrics_fn(p):\n",
    "        if output_mode == \"classification\":\n",
    "            preds = np.argmax(p.predictions, axis=1)\n",
    "        elif output_mode == \"regression\":\n",
    "            preds = np.squeeze(p.predictions)\n",
    "        return glue_compute_metrics(task_name, preds, p.label_ids)\n",
    "\n",
    "    return compute_metrics_fn\n"
   ]
  },
  {
   "cell_type": "code",
   "execution_count": 4,
   "metadata": {},
   "outputs": [
    {
     "name": "stderr",
     "output_type": "stream",
     "text": [
      "You are instantiating a Trainer but Tensorboard is not installed. You should consider installing it.\n"
     ]
    },
    {
     "data": {
      "text/html": [
       "\n",
       "                Logging results to <a href=\"https://wandb.com\" target=\"_blank\">Weights & Biases</a> <a href=\"https://docs.wandb.com/integrations/jupyter.html\" target=\"_blank\">(Documentation)</a>.<br/>\n",
       "                Project page: <a href=\"https://app.wandb.ai/hanguo/huggingface\" target=\"_blank\">https://app.wandb.ai/hanguo/huggingface</a><br/>\n",
       "                Run page: <a href=\"https://app.wandb.ai/hanguo/huggingface/runs/23mbd7t3\" target=\"_blank\">https://app.wandb.ai/hanguo/huggingface/runs/23mbd7t3</a><br/>\n",
       "            "
      ],
      "text/plain": [
       "<IPython.core.display.HTML object>"
      ]
     },
     "metadata": {},
     "output_type": "display_data"
    },
    {
     "name": "stderr",
     "output_type": "stream",
     "text": [
      "\u001b[34m\u001b[1mwandb\u001b[0m: Wandb version 0.9.3 is available!  To upgrade, please run:\n",
      "\u001b[34m\u001b[1mwandb\u001b[0m:  $ pip install wandb --upgrade\n"
     ]
    },
    {
     "data": {
      "text/plain": [
       "False"
      ]
     },
     "execution_count": 4,
     "metadata": {},
     "output_type": "execute_result"
    }
   ],
   "source": [
    "import faiss\n",
    "index = faiss.index_factory(768, \"Flat\")\n",
    "\n",
    "trainer = Trainer(\n",
    "    model=model,\n",
    "    args=TrainingArguments(output_dir=\"./tmp-output\", per_device_train_batch_size=128, per_device_eval_batch_size=128, learning_rate=5e-5, logging_steps=100),\n",
    "    data_collator=hans_data_collator,\n",
    "    train_dataset=train_dataset,\n",
    "    eval_dataset=eval_dataset,\n",
    "    compute_metrics=build_compute_metrics_fn(\"mnli\"),\n",
    ")\n",
    "\n",
    "train_batch_data_loader = get_dataloader(\n",
    "    train_dataset,\n",
    "    batch_size=256,\n",
    "    data_collator=hans_data_collator)\n",
    "\n",
    "train_instance_data_loader = get_dataloader(\n",
    "    train_dataset,\n",
    "    batch_size=1,\n",
    "    data_collator=hans_data_collator)\n",
    "\n",
    "eval_instance_data_loader = get_dataloader(\n",
    "    eval_dataset,\n",
    "    batch_size=1,\n",
    "    data_collator=hans_data_collator)\n",
    "\n",
    "model.cuda();\n",
    "model.training"
   ]
  },
  {
   "cell_type": "code",
   "execution_count": null,
   "metadata": {},
   "outputs": [],
   "source": []
  },
  {
   "cell_type": "code",
   "execution_count": null,
   "metadata": {},
   "outputs": [],
   "source": []
  },
  {
   "cell_type": "code",
   "execution_count": 5,
   "metadata": {},
   "outputs": [
    {
     "name": "stderr",
     "output_type": "stream",
     "text": [
      "100%|██████████| 1534/1534 [13:44<00:00,  1.86it/s]\n"
     ]
    }
   ],
   "source": [
    "from tqdm import tqdm\n",
    "with torch.no_grad():\n",
    "    for inputs in tqdm(train_batch_data_loader):\n",
    "        # model.train()\n",
    "        for k, v in inputs.items():\n",
    "            inputs[k] = v.cuda()\n",
    "\n",
    "        outputs = custom_forward(model, **inputs)\n",
    "        index.add(outputs.cpu().detach().numpy())"
   ]
  },
  {
   "cell_type": "code",
   "execution_count": 7,
   "metadata": {},
   "outputs": [],
   "source": [
    "for i, test_inputs in enumerate(eval_instance_data_loader):\n",
    "    step_eval_loss, logits = run_forward(model, test_inputs)\n",
    "    if i > 47 and (test_inputs[\"labels\"] != logits.argmax(dim=1)).item():\n",
    "        break"
   ]
  },
  {
   "cell_type": "code",
   "execution_count": 9,
   "metadata": {},
   "outputs": [
    {
     "data": {
      "text/plain": [
       "56"
      ]
     },
     "execution_count": 9,
     "metadata": {},
     "output_type": "execute_result"
    }
   ],
   "source": [
    "i"
   ]
  },
  {
   "cell_type": "code",
   "execution_count": 10,
   "metadata": {},
   "outputs": [],
   "source": [
    "test_features = custom_forward(model, **test_inputs)\n",
    "test_features = test_features.cpu().detach().numpy()"
   ]
  },
  {
   "cell_type": "code",
   "execution_count": 14,
   "metadata": {},
   "outputs": [
    {
     "data": {
      "text/plain": [
       "392702"
      ]
     },
     "execution_count": 14,
     "metadata": {},
     "output_type": "execute_result"
    }
   ],
   "source": [
    "faiss_index = FAISSIndex(768, \"Flat\")\n",
    "# faiss.write_index(index, \"/export/home/Experiments/20200713/MNLI.index\")\n",
    "# faiss_index.load(\"/export/home/Experiments/20200711/MNLI.index\")\n",
    "faiss_index.load(\"/export/home/Experiments/20200713/MNLI.index\")\n",
    "len(faiss_index)"
   ]
  },
  {
   "cell_type": "code",
   "execution_count": null,
   "metadata": {},
   "outputs": [],
   "source": []
  },
  {
   "cell_type": "code",
   "execution_count": 17,
   "metadata": {},
   "outputs": [],
   "source": [
    "# influences = torch.load(\"/export/home/Experiments/20200706/influences.tmp.pt.full\")\n",
    "influences = torch.load(\"/export/home/Experiments/20200711/influences.tmp.pt\")"
   ]
  },
  {
   "cell_type": "code",
   "execution_count": null,
   "metadata": {},
   "outputs": [],
   "source": []
  },
  {
   "cell_type": "code",
   "execution_count": null,
   "metadata": {},
   "outputs": [],
   "source": []
  },
  {
   "cell_type": "code",
   "execution_count": 18,
   "metadata": {},
   "outputs": [],
   "source": [
    "from tqdm import trange\n",
    "import matplotlib.pyplot as plt\n",
    "from sklearn.metrics import recall_score"
   ]
  },
  {
   "cell_type": "code",
   "execution_count": 20,
   "metadata": {},
   "outputs": [
    {
     "name": "stderr",
     "output_type": "stream",
     "text": [
      "100%|██████████| 3/3 [00:07<00:00,  2.36s/it]\n",
      "100%|██████████| 3/3 [00:07<00:00,  2.41s/it]\n",
      "100%|██████████| 3/3 [00:07<00:00,  2.44s/it]\n",
      "100%|██████████| 3/3 [00:07<00:00,  2.42s/it]\n"
     ]
    },
    {
     "data": {
      "image/png": "[encoded data removed]",
      "text/plain": [
       "<Figure size 1440x360 with 4 Axes>"
      ]
     },
     "metadata": {
      "needs_background": "light"
     },
     "output_type": "display_data"
    }
   ],
   "source": [
    "plt.rcParams['figure.figsize'] = [20, 5]\n",
    "recall_ks = [10, 100, 1000]\n",
    "ks = [10, 100, 1000, 10000, 50000, 100000]\n",
    "sorted_indices_small_to_large = np.argsort(influences)\n",
    "sorted_indices_large_to_small = np.argsort(influences)[::-1]\n",
    "sorted_indices_abs_large_to_small = np.argsort(np.abs(influences))[::-1]\n",
    "sorted_indices_abs_small_to_large = np.argsort(np.abs(influences))\n",
    "\n",
    "fig, axes = plt.subplots(1, 4, sharex=True, sharey=True)\n",
    "for i, (name, sorted_indices) in enumerate(zip(\n",
    "        [\"Most Helpful\", \"Most Harmful\",\n",
    "         \"Most Influencetial\", \"Least Influential\"],\n",
    "        [sorted_indices_small_to_large,\n",
    "         sorted_indices_large_to_small,\n",
    "         sorted_indices_abs_large_to_small,\n",
    "         sorted_indices_abs_small_to_large,\n",
    "])):\n",
    "    legends = []\n",
    "    \n",
    "    for recall_k in tqdm(recall_ks):\n",
    "        recalls = []\n",
    "        influential = sorted_indices[:recall_k]\n",
    "        influential_set = set(influential.tolist())\n",
    "        for k in ks:\n",
    "            distances, indices = faiss_index.search(k=k, queries=test_features)\n",
    "            indices_set = set(indices.squeeze(axis=0).tolist())\n",
    "            recall = len(influential_set & indices_set) / len(influential_set)\n",
    "            recalls.append(recall)\n",
    "\n",
    "        axes[i].plot(ks, recalls, linestyle='--', marker='o')\n",
    "        legends.append(f\"recall@{recall_k}\")\n",
    "\n",
    "    axes[i].set_title(name)\n",
    "    axes[i].legend(legends)\n",
    "    axes[i].set_xscale(\"log\")\n",
    "    axes[i].set_ylabel(\"Recall\")\n",
    "    axes[i].set_xlabel(\"Number of Nearest Neighbors\")"
   ]
  },
  {
   "cell_type": "code",
   "execution_count": 21,
   "metadata": {},
   "outputs": [],
   "source": [
    "# fig.savefig(\"./20200714-knn-using-CLS.pdf\")"
   ]
  },
  {
   "cell_type": "code",
   "execution_count": null,
   "metadata": {},
   "outputs": [],
   "source": []
  },
  {
   "cell_type": "code",
   "execution_count": 12,
   "metadata": {},
   "outputs": [],
   "source": []
  },
  {
   "cell_type": "code",
   "execution_count": null,
   "metadata": {},
   "outputs": [],
   "source": []
  }
 ],
 "metadata": {
  "kernelspec": {
   "display_name": "Python 3",
   "language": "python",
   "name": "python3"
  },
  "language_info": {
   "codemirror_mode": {
    "name": "ipython",
    "version": 3
   },
   "file_extension": ".py",
   "mimetype": "text/x-python",
   "name": "python",
   "nbconvert_exporter": "python",
   "pygments_lexer": "ipython3",
   "version": "3.7.7"
  }
 },
 "nbformat": 4,
 "nbformat_minor": 4
}
