{
 "cells": [
  {
   "cell_type": "code",
   "execution_count": 1,
   "metadata": {},
   "outputs": [],
   "source": [
    "from transformers import (\n",
    "    AutoModelForSequenceClassification,\n",
    "    AutoTokenizer,\n",
    "    GlueDataset,\n",
    "    GlueDataTrainingArguments,\n",
    "    Trainer,\n",
    "    TrainingArguments,\n",
    "    default_data_collator,\n",
    "    glue_compute_metrics,\n",
    "    glue_output_modes)\n",
    "from influence_utils.utils_hans import HansDataset\n",
    "\n",
    "import torch\n",
    "import numpy as np\n",
    "from tqdm import tqdm\n",
    "from influence_utils.faiss_utils import FAISSIndex\n",
    "from influence_utils.influence import compute_gradients\n",
    "from torch.utils.data.dataloader import DataLoader\n",
    "from torch.utils.data.sampler import RandomSampler, SequentialSampler\n",
    "from influence_utils.influence import compute_s_test\n",
    "from influence_utils import glue_utils"
   ]
  },
  {
   "cell_type": "code",
   "execution_count": 2,
   "metadata": {},
   "outputs": [],
   "source": [
    "tokenizer = AutoTokenizer.from_pretrained(\"/export/home/Experiments/20200706/\")\n",
    "model = AutoModelForSequenceClassification.from_pretrained(\"/export/home/Experiments/20200706/\")\n",
    "# model = AutoModelForSequenceClassification.from_pretrained(\"bert-base-cased\")\n",
    "model.eval()\n",
    "\n",
    "train_dataset = GlueDataset(\n",
    "    args=GlueDataTrainingArguments(\n",
    "        task_name=\"mnli\",\n",
    "        max_seq_length=128,\n",
    "        data_dir=\"/export/home/Data/Glue/MNLI/\"),\n",
    "    tokenizer=tokenizer)\n",
    "\n",
    "# eval_dataset = HansDataset(\n",
    "#     data_dir=\"/export/home/Data/HANS/\",\n",
    "#     tokenizer=tokenizer,\n",
    "#     task=\"hans\",\n",
    "#     max_seq_length=128,\n",
    "#     overwrite_cache=False,\n",
    "#     evaluate=True,\n",
    "# )\n",
    "eval_dataset = GlueDataset(\n",
    "    args=GlueDataTrainingArguments(\n",
    "        task_name=\"mnli\",\n",
    "        max_seq_length=128,\n",
    "        data_dir=\"/export/home/Data/Glue/MNLI/\"),\n",
    "    tokenizer=tokenizer,\n",
    "    mode=\"dev\")"
   ]
  },
  {
   "cell_type": "code",
   "execution_count": 3,
   "metadata": {},
   "outputs": [
    {
     "name": "stdout",
     "output_type": "stream",
     "text": [
      "Params Trainable: 14768643\n",
      "\tbert.encoder.layer.10.attention.self.query.weight\n",
      "\tbert.encoder.layer.10.attention.self.query.bias\n",
      "\tbert.encoder.layer.10.attention.self.key.weight\n",
      "\tbert.encoder.layer.10.attention.self.key.bias\n",
      "\tbert.encoder.layer.10.attention.self.value.weight\n",
      "\tbert.encoder.layer.10.attention.self.value.bias\n",
      "\tbert.encoder.layer.10.attention.output.dense.weight\n",
      "\tbert.encoder.layer.10.attention.output.dense.bias\n",
      "\tbert.encoder.layer.10.attention.output.LayerNorm.weight\n",
      "\tbert.encoder.layer.10.attention.output.LayerNorm.bias\n",
      "\tbert.encoder.layer.10.intermediate.dense.weight\n",
      "\tbert.encoder.layer.10.intermediate.dense.bias\n",
      "\tbert.encoder.layer.10.output.dense.weight\n",
      "\tbert.encoder.layer.10.output.dense.bias\n",
      "\tbert.encoder.layer.10.output.LayerNorm.weight\n",
      "\tbert.encoder.layer.10.output.LayerNorm.bias\n",
      "\tbert.encoder.layer.11.attention.self.query.weight\n",
      "\tbert.encoder.layer.11.attention.self.query.bias\n",
      "\tbert.encoder.layer.11.attention.self.key.weight\n",
      "\tbert.encoder.layer.11.attention.self.key.bias\n",
      "\tbert.encoder.layer.11.attention.self.value.weight\n",
      "\tbert.encoder.layer.11.attention.self.value.bias\n",
      "\tbert.encoder.layer.11.attention.output.dense.weight\n",
      "\tbert.encoder.layer.11.attention.output.dense.bias\n",
      "\tbert.encoder.layer.11.attention.output.LayerNorm.weight\n",
      "\tbert.encoder.layer.11.attention.output.LayerNorm.bias\n",
      "\tbert.encoder.layer.11.intermediate.dense.weight\n",
      "\tbert.encoder.layer.11.intermediate.dense.bias\n",
      "\tbert.encoder.layer.11.output.dense.weight\n",
      "\tbert.encoder.layer.11.output.dense.bias\n",
      "\tbert.encoder.layer.11.output.LayerNorm.weight\n",
      "\tbert.encoder.layer.11.output.LayerNorm.bias\n",
      "\tbert.pooler.dense.weight\n",
      "\tbert.pooler.dense.bias\n",
      "\tclassifier.weight\n",
      "\tclassifier.bias\n"
     ]
    },
    {
     "data": {
      "text/plain": [
       "(False, device(type='cpu'))"
      ]
     },
     "execution_count": 3,
     "metadata": {},
     "output_type": "execute_result"
    }
   ],
   "source": [
    "glue_utils.freeze_BERT_parameters(model)\n",
    "model.training, model.device"
   ]
  },
  {
   "cell_type": "code",
   "execution_count": null,
   "metadata": {},
   "outputs": [],
   "source": []
  },
  {
   "cell_type": "code",
   "execution_count": 4,
   "metadata": {},
   "outputs": [
    {
     "name": "stderr",
     "output_type": "stream",
     "text": [
      "You are instantiating a Trainer but Tensorboard is not installed. You should consider installing it.\n"
     ]
    },
    {
     "data": {
      "text/html": [
       "\n",
       "                Logging results to <a href=\"https://wandb.com\" target=\"_blank\">Weights & Biases</a> <a href=\"https://docs.wandb.com/integrations/jupyter.html\" target=\"_blank\">(Documentation)</a>.<br/>\n",
       "                Project page: <a href=\"https://app.wandb.ai/hanguo/huggingface\" target=\"_blank\">https://app.wandb.ai/hanguo/huggingface</a><br/>\n",
       "                Run page: <a href=\"https://app.wandb.ai/hanguo/huggingface/runs/oxa5brcv\" target=\"_blank\">https://app.wandb.ai/hanguo/huggingface/runs/oxa5brcv</a><br/>\n",
       "            "
      ],
      "text/plain": [
       "<IPython.core.display.HTML object>"
      ]
     },
     "metadata": {},
     "output_type": "display_data"
    },
    {
     "name": "stderr",
     "output_type": "stream",
     "text": [
      "\u001b[34m\u001b[1mwandb\u001b[0m: Wandb version 0.9.3 is available!  To upgrade, please run:\n",
      "\u001b[34m\u001b[1mwandb\u001b[0m:  $ pip install wandb --upgrade\n"
     ]
    }
   ],
   "source": [
    "def custom_forward(\n",
    "    model,\n",
    "    input_ids=None,\n",
    "    attention_mask=None,\n",
    "    token_type_ids=None,\n",
    "    position_ids=None,\n",
    "    head_mask=None,\n",
    "    inputs_embeds=None,\n",
    "    labels=None,\n",
    "    output_attentions=None,\n",
    "    output_hidden_states=None,\n",
    "    return_tuple=None,\n",
    "):\n",
    "    r\"\"\"\n",
    "    labels (:obj:`torch.LongTensor` of shape :obj:`(batch_size,)`, `optional`, defaults to :obj:`None`):\n",
    "        Labels for computing the sequence classification/regression loss.\n",
    "        Indices should be in :obj:`[0, ..., config.num_labels - 1]`.\n",
    "        If :obj:`config.num_labels == 1` a regression loss is computed (Mean-Square loss),\n",
    "        If :obj:`config.num_labels > 1` a classification loss is computed (Cross-Entropy).\n",
    "    \"\"\"\n",
    "    if model.training is True:\n",
    "        raise ValueError\n",
    "\n",
    "    outputs = model.bert(\n",
    "        input_ids,\n",
    "        attention_mask=attention_mask,\n",
    "        token_type_ids=token_type_ids,\n",
    "        position_ids=position_ids,\n",
    "        head_mask=head_mask,\n",
    "        inputs_embeds=inputs_embeds,\n",
    "        output_attentions=output_attentions,\n",
    "        output_hidden_states=output_hidden_states,\n",
    "    )\n",
    "\n",
    "    pooled_output = outputs[1]\n",
    "\n",
    "    return model.dropout(pooled_output)\n",
    "\n",
    "\n",
    "def hans_data_collator(features):\n",
    "    \"\"\"\n",
    "    Data collator that removes the \"pairID\" key if present.\n",
    "    \"\"\"\n",
    "    batch = default_data_collator(features)\n",
    "    _ = batch.pop(\"pairID\", None)\n",
    "    return batch\n",
    "\n",
    "\n",
    "def get_dataloader(dataset, batch_size, data_collator) -> DataLoader:\n",
    "    sampler = SequentialSampler(dataset)\n",
    "\n",
    "    data_loader = DataLoader(\n",
    "        dataset,\n",
    "        sampler=sampler,\n",
    "        batch_size=batch_size,\n",
    "        collate_fn=data_collator,\n",
    "    )\n",
    "\n",
    "    return data_loader\n",
    "\n",
    "\n",
    "def decode_one_example(inputs, logits=None):\n",
    "    if inputs[\"input_ids\"].shape[0] != 1:\n",
    "        raise ValueError\n",
    "\n",
    "    X = tokenizer.decode(inputs[\"input_ids\"][0])\n",
    "    Y = train_dataset.label_list[inputs[\"labels\"].item()]\n",
    "    if logits is not None:\n",
    "        Y_hat = train_dataset.label_list[\n",
    "            logits.argmax(dim=-1).item()]\n",
    "        return X, Y, Y_hat\n",
    "    else:\n",
    "        return X, Y\n",
    "\n",
    "output_mode = glue_output_modes[\"mnli\"]\n",
    "def build_compute_metrics_fn(task_name: str):\n",
    "    def compute_metrics_fn(p):\n",
    "        if output_mode == \"classification\":\n",
    "            preds = np.argmax(p.predictions, axis=1)\n",
    "        elif output_mode == \"regression\":\n",
    "            preds = np.squeeze(p.predictions)\n",
    "        return glue_compute_metrics(task_name, preds, p.label_ids)\n",
    "\n",
    "    return compute_metrics_fn\n",
    "\n",
    "\n",
    "trainer = Trainer(\n",
    "    model=model,\n",
    "    args=TrainingArguments(output_dir=\"./tmp-output\", per_device_train_batch_size=128, per_device_eval_batch_size=128, learning_rate=5e-5, logging_steps=100),\n",
    "    data_collator=hans_data_collator,\n",
    "    train_dataset=train_dataset,\n",
    "    eval_dataset=eval_dataset,\n",
    "    compute_metrics=build_compute_metrics_fn(\"mnli\"),\n",
    ")\n",
    "\n",
    "train_batch_data_loader = get_dataloader(\n",
    "    train_dataset,\n",
    "    batch_size=160,\n",
    "    data_collator=hans_data_collator)\n",
    "\n",
    "train_instance_data_loader = get_dataloader(\n",
    "    train_dataset,\n",
    "    batch_size=1,\n",
    "    data_collator=hans_data_collator)\n",
    "\n",
    "eval_instance_data_loader = get_dataloader(\n",
    "    eval_dataset,\n",
    "    batch_size=1,\n",
    "    data_collator=hans_data_collator)\n",
    "\n",
    "\n",
    "def run_forward(model, inputs):\n",
    "    # Implicitly used trainer and model\n",
    "    has_labels = any(inputs.get(k) is not None for k in [\"labels\", \"lm_labels\", \"masked_lm_labels\"])\n",
    "\n",
    "    for k, v in inputs.items():\n",
    "        if isinstance(v, torch.Tensor):\n",
    "            inputs[k] = v.to(trainer.args.device)\n",
    "    if trainer.args.past_index >= 0:\n",
    "        inputs[\"mems\"] = past\n",
    "\n",
    "    with torch.no_grad():\n",
    "        outputs = model(**inputs)\n",
    "        if has_labels:\n",
    "            step_eval_loss, logits = outputs[:2]\n",
    "            return step_eval_loss, logits\n",
    "        else:\n",
    "            logits = outputs[0]\n",
    "            return logits\n",
    "        \n",
    "        \n",
    "def visualize(inputs):\n",
    "    X, Y = decode_one_example(inputs)\n",
    "    premise, hypothesis = X.split(\"[CLS]\")[1].split(\"[SEP]\")[:2]\n",
    "    print(f\"\\tP: {premise.strip()}\\n\\tH: {hypothesis.strip()}\\n\\tL: {Y}\")"
   ]
  },
  {
   "cell_type": "code",
   "execution_count": null,
   "metadata": {},
   "outputs": [],
   "source": []
  },
  {
   "cell_type": "code",
   "execution_count": null,
   "metadata": {},
   "outputs": [],
   "source": []
  },
  {
   "cell_type": "code",
   "execution_count": null,
   "metadata": {},
   "outputs": [],
   "source": []
  },
  {
   "cell_type": "code",
   "execution_count": null,
   "metadata": {},
   "outputs": [],
   "source": []
  },
  {
   "cell_type": "code",
   "execution_count": null,
   "metadata": {},
   "outputs": [],
   "source": []
  },
  {
   "cell_type": "code",
   "execution_count": 5,
   "metadata": {},
   "outputs": [],
   "source": [
    "for i, test_inputs in enumerate(eval_instance_data_loader):\n",
    "    step_eval_loss, logits = run_forward(model, test_inputs)\n",
    "    if i > 40 and (test_inputs[\"labels\"] != logits.argmax(dim=1)).item():\n",
    "        break"
   ]
  },
  {
   "cell_type": "code",
   "execution_count": 6,
   "metadata": {},
   "outputs": [
    {
     "data": {
      "text/plain": [
       "41"
      ]
     },
     "execution_count": 6,
     "metadata": {},
     "output_type": "execute_result"
    }
   ],
   "source": [
    "i"
   ]
  },
  {
   "cell_type": "code",
   "execution_count": 7,
   "metadata": {},
   "outputs": [
    {
     "data": {
      "text/plain": [
       "(\"[CLS] What's truly striking, though, is that Jobs has never really let this idea go. [SEP] Jobs never held onto an idea for long. [SEP] [PAD] [PAD] [PAD] [PAD] [PAD] [PAD] [PAD] [PAD] [PAD] [PAD] [PAD] [PAD] [PAD] [PAD] [PAD] [PAD] [PAD] [PAD] [PAD] [PAD] [PAD] [PAD] [PAD] [PAD] [PAD] [PAD] [PAD] [PAD] [PAD] [PAD] [PAD] [PAD] [PAD] [PAD] [PAD] [PAD] [PAD] [PAD] [PAD] [PAD] [PAD] [PAD] [PAD] [PAD] [PAD] [PAD] [PAD] [PAD] [PAD] [PAD] [PAD] [PAD] [PAD] [PAD] [PAD] [PAD] [PAD] [PAD] [PAD] [PAD] [PAD] [PAD] [PAD] [PAD] [PAD] [PAD] [PAD] [PAD] [PAD] [PAD] [PAD] [PAD] [PAD] [PAD] [PAD] [PAD] [PAD] [PAD] [PAD] [PAD] [PAD] [PAD] [PAD] [PAD] [PAD] [PAD] [PAD] [PAD] [PAD] [PAD] [PAD] [PAD] [PAD] [PAD] [PAD]\",\n",
       " 'contradiction',\n",
       " 'entailment')"
      ]
     },
     "execution_count": 7,
     "metadata": {},
     "output_type": "execute_result"
    }
   ],
   "source": [
    "decode_one_example(test_inputs, logits)"
   ]
  },
  {
   "cell_type": "code",
   "execution_count": 8,
   "metadata": {},
   "outputs": [
    {
     "name": "stdout",
     "output_type": "stream",
     "text": [
      "\tP: What's truly striking, though, is that Jobs has never really let this idea go.\n",
      "\tH: Jobs never held onto an idea for long.\n",
      "\tL: contradiction\n"
     ]
    }
   ],
   "source": [
    "visualize(test_inputs)"
   ]
  },
  {
   "cell_type": "code",
   "execution_count": 9,
   "metadata": {},
   "outputs": [],
   "source": [
    "params_filter = None\n",
    "weight_decay_ignores = None\n",
    "weight_decay = 0.005\n",
    "weight_decay_ignores = None\n",
    "if params_filter is None:\n",
    "    params_filter = [\n",
    "        \"bert.pooler.dense.weight\",\n",
    "        \"bert.pooler.dense.bias\"] + [\n",
    "        n for n, p in model.named_parameters()\n",
    "        if not p.requires_grad]\n",
    "\n",
    "# We actually included `bert.pooler.dense.*`\n",
    "# but this should be fine? Because the gradients\n",
    "# of these parameters are not included anyway.\n",
    "if weight_decay_ignores is None:\n",
    "    weight_decay_ignores = [\n",
    "        \"bias\",\n",
    "        \"LayerNorm.weight\"] + [\n",
    "        n for n, p in model.named_parameters()\n",
    "        if not p.requires_grad]\n",
    "\n",
    "# s_test = compute_s_test(\n",
    "#     n_gpu=1,\n",
    "#     device=torch.device(\"cuda\"),\n",
    "#     model=model,\n",
    "#     test_inputs=test_inputs,\n",
    "#     train_data_loaders=[train_batch_data_loader],\n",
    "#     params_filter=params_filter,\n",
    "#     weight_decay=weight_decay,\n",
    "#     weight_decay_ignores=weight_decay_ignores,\n",
    "#     scale=1000,\n",
    "#     num_samples=300)"
   ]
  },
  {
   "cell_type": "code",
   "execution_count": 10,
   "metadata": {},
   "outputs": [
    {
     "data": {
      "text/plain": [
       "392702"
      ]
     },
     "execution_count": 10,
     "metadata": {},
     "output_type": "execute_result"
    }
   ],
   "source": [
    "faiss_index = FAISSIndex(768, \"Flat\")\n",
    "faiss_index.load(\"/export/home/Experiments/20200713/MNLI.index\")\n",
    "# torch.save(s_test, \"/export/home/Experiments/20200711/s_test.tmp.mnli-56\")\n",
    "s_test = torch.load(\"/export/home/Experiments/20200706/s_test.tmp.mnli-3\")\n",
    "\n",
    "len(faiss_index)"
   ]
  },
  {
   "cell_type": "code",
   "execution_count": null,
   "metadata": {},
   "outputs": [],
   "source": []
  },
  {
   "cell_type": "code",
   "execution_count": 85,
   "metadata": {},
   "outputs": [],
   "source": [
    "test_features = custom_forward(model, **test_inputs)\n",
    "test_features = test_features.cpu().detach().numpy()\n",
    "KNN_distances, KNN_indices = faiss_index.search(k=1000, queries=test_features)\n",
    "# indices = set(indices.squeeze(axis=0).tolist())"
   ]
  },
  {
   "cell_type": "code",
   "execution_count": 86,
   "metadata": {},
   "outputs": [
    {
     "data": {
      "text/plain": [
       "array([], dtype=float32)"
      ]
     },
     "execution_count": 86,
     "metadata": {},
     "output_type": "execute_result"
    }
   ],
   "source": [
    "# indices.squeeze(axis=0)[np.argsort(distances.squeeze(axis=0))[-1]]\n",
    "KNN_distances[(KNN_indices.squeeze(axis=0)[np.argsort(KNN_distances.squeeze(axis=0))] != KNN_indices)]"
   ]
  },
  {
   "cell_type": "code",
   "execution_count": 87,
   "metadata": {},
   "outputs": [
    {
     "name": "stderr",
     "output_type": "stream",
     "text": [
      "  0%|          | 1665/392702 [00:00<00:48, 8069.07it/s]"
     ]
    },
    {
     "name": "stdout",
     "output_type": "stream",
     "text": [
      "\tP: Thus, with respect to the litigation services Congress has funded, there is no alternative channel for expression of the advocacy Congress seeks to restrict.\n",
      "\tH: This is the only channel of expression of the advocacy that Congress seeks to restrict.\n",
      "\tL: entailment\n",
      "0.02001420222222805\n",
      "\tP: It is impossible to draw a bright line between ultimate fighting and boxing.\n",
      "\tH: The differences between ultimate fighting and boxing are few.\n",
      "\tL: entailment\n",
      "0.02754782699048519\n",
      "\tP: Nonetheless, becoming more efficient is not enough to remain competitive.\n",
      "\tH: Success doesn't result from simply being more efficient.\n",
      "\tL: entailment\n",
      "0.0823083147406578\n"
     ]
    },
    {
     "name": "stderr",
     "output_type": "stream",
     "text": [
      "  1%|▏         | 5781/392702 [00:00<00:37, 10260.96it/s]"
     ]
    },
    {
     "name": "stdout",
     "output_type": "stream",
     "text": [
      "\tP: Although the bed dates from the 1680s, it has never been slept in by royalty.\n",
      "\tH: No one of royal blood had ever slept on the bed.\n",
      "\tL: entailment\n",
      "0.2622215449810028\n"
     ]
    },
    {
     "name": "stderr",
     "output_type": "stream",
     "text": [
      "100%|██████████| 392702/392702 [00:36<00:00, 10640.51it/s]\n"
     ]
    }
   ],
   "source": [
    "max_influence = 0.00\n",
    "influences = {}\n",
    "train_inputs_collections = {}\n",
    "with tqdm(train_instance_data_loader) as pbar:\n",
    "    for index, train_inputs in enumerate(pbar):\n",
    "        if index not in KNN_indices:\n",
    "            continue\n",
    "\n",
    "        grad_z = compute_gradients(\n",
    "            n_gpu=1,\n",
    "            device=torch.device(\"cuda\"),\n",
    "            model=model,\n",
    "            inputs=train_inputs,\n",
    "            params_filter=params_filter,\n",
    "            weight_decay=weight_decay,\n",
    "            weight_decay_ignores=weight_decay_ignores)\n",
    "\n",
    "        # experimental_clip_gradient_norm_(grad_z, max_norm=1.0)\n",
    "        with torch.no_grad():\n",
    "            influence = [\n",
    "                - torch.sum(x * y)\n",
    "                for x, y in zip(grad_z, s_test)]\n",
    "\n",
    "            if sum(influence).item() > max_influence:\n",
    "                max_influence = sum(influence).item()\n",
    "                visualize(train_inputs)\n",
    "                print(max_influence)\n",
    "\n",
    "        influences[index] = sum(influence).item()\n",
    "        train_inputs_collections[index] = train_inputs"
   ]
  },
  {
   "cell_type": "code",
   "execution_count": 88,
   "metadata": {},
   "outputs": [],
   "source": [
    "# influences = torch.load(\"/export/home/Experiments/20200706/influences.tmp.pt.full\")\n",
    "# train_inputs_collections = torch.load(\"/export/home/Experiments/20200706/train_inputs_collections.tmp.pt.full\")"
   ]
  },
  {
   "cell_type": "code",
   "execution_count": 89,
   "metadata": {},
   "outputs": [],
   "source": [
    "# np.argsort(influences)[-20:], np.array(influences)[np.argsort(influences)][-20:]"
   ]
  },
  {
   "cell_type": "code",
   "execution_count": 16,
   "metadata": {},
   "outputs": [],
   "source": [
    "# np.argsort(influences)[:20], np.array(influences)[np.argsort(influences)][:20]"
   ]
  },
  {
   "cell_type": "code",
   "execution_count": 17,
   "metadata": {},
   "outputs": [],
   "source": [
    "# print(\"Top 3 Influential (harmful)\")\n",
    "# visualize(train_inputs_collections[201907])\n",
    "# print()\n",
    "# visualize(train_inputs_collections[140485])\n",
    "# print()\n",
    "# visualize(train_inputs_collections[102963])"
   ]
  },
  {
   "cell_type": "code",
   "execution_count": 18,
   "metadata": {},
   "outputs": [],
   "source": [
    "# print(\"Top 3 Influential (helpful)\")\n",
    "# visualize(train_inputs_collections[58075])\n",
    "# print()\n",
    "# visualize(train_inputs_collections[9102])\n",
    "# print()\n",
    "# visualize(train_inputs_collections[153048])"
   ]
  },
  {
   "cell_type": "code",
   "execution_count": null,
   "metadata": {},
   "outputs": [],
   "source": []
  },
  {
   "cell_type": "code",
   "execution_count": 90,
   "metadata": {},
   "outputs": [
    {
     "data": {
      "text/plain": [
       "((27036, -0.5494213700294495), (2869, 0.2622215449810028))"
      ]
     },
     "execution_count": 90,
     "metadata": {},
     "output_type": "execute_result"
    }
   ],
   "source": [
    "most_harmful = sorted(influences.items(), key=lambda p: p[1])[-1]\n",
    "most_helpful = sorted(influences.items(), key=lambda p: p[1])[0]\n",
    "most_helpful, most_harmful"
   ]
  },
  {
   "cell_type": "code",
   "execution_count": 91,
   "metadata": {},
   "outputs": [],
   "source": [
    "from copy import deepcopy\n",
    "import matplotlib.pyplot as plt"
   ]
  },
  {
   "cell_type": "code",
   "execution_count": 57,
   "metadata": {},
   "outputs": [],
   "source": [
    "params_to_freeze = [\n",
    "    \"bert.embeddings.\",\n",
    "    \"bert.encoder.layer.0.\",\n",
    "    \"bert.encoder.layer.1.\",\n",
    "    \"bert.encoder.layer.2.\",\n",
    "    \"bert.encoder.layer.3.\",\n",
    "    \"bert.encoder.layer.4.\",\n",
    "    \"bert.encoder.layer.5.\",\n",
    "    \"bert.encoder.layer.6.\",\n",
    "    \"bert.encoder.layer.7.\",\n",
    "    \"bert.encoder.layer.8.\",\n",
    "    \"bert.encoder.layer.9.\",\n",
    "] + [\n",
    "    \"bert.pooler.dense.weight\",\n",
    "    \"bert.pooler.dense.bias\"]"
   ]
  },
  {
   "cell_type": "code",
   "execution_count": 83,
   "metadata": {},
   "outputs": [
    {
     "data": {
      "image/png": "[encoded data removed]",
      "text/plain": [
       "<Figure size 720x720 with 1 Axes>"
      ]
     },
     "metadata": {
      "needs_background": "light"
     },
     "output_type": "display_data"
    }
   ],
   "source": [
    "plt.rcParams[\"figure.figsize\"] = (10, 10)\n",
    "for j, c in zip(# [58075, 201907, 134448, 192584, 275967, 381952, 361464, 179400, 177993, 114332],\n",
    "                [129406, 146949, 134448, 192584, 275967, 381952, 361464, 179400, 177993, 114332, 289717, 132860],\n",
    "                [\"darkred\", \"steelblue\", \"lightskyblue\", \"lightsalmon\", \"grey\", \"grey\", \"grey\", \"grey\", \"lightskyblue\", \"lightsalmon\", \"red\", \"blue\"]):\n",
    "\n",
    "    learning_rates = np.logspace(-5, -1.5, 50)\n",
    "    helpful_grad_z = compute_gradients(\n",
    "        n_gpu=1,\n",
    "        device=torch.device(\"cuda\"),\n",
    "        model=model,\n",
    "        inputs=train_inputs_collections[j],\n",
    "        params_filter=params_filter,\n",
    "        weight_decay=weight_decay,\n",
    "        weight_decay_ignores=weight_decay_ignores)\n",
    "\n",
    "    step_eval_losses = []\n",
    "    for lr in learning_rates:\n",
    "        new_model = deepcopy(model)\n",
    "        params_to_update = [p for name, p in new_model.named_parameters()\n",
    "                            if not any(pfreeze in name for pfreeze in params_to_freeze)]\n",
    "        with torch.no_grad():\n",
    "            [p.sub_(lr * grad_z) for p, grad_z in zip(params_to_update, helpful_grad_z)]\n",
    "\n",
    "        step_eval_loss, logits = run_forward(new_model, test_inputs)\n",
    "        step_eval_losses.append(step_eval_loss)\n",
    "\n",
    "    plt.plot(learning_rates, step_eval_losses, color=c)\n",
    "plt.legend([\"Most helpful (entailment)\",\n",
    "            \"Most harmful (neutral)\",\n",
    "            \"Random (contradiction)\",\n",
    "            \"Random (entailment)\",\n",
    "            \"Random (neutral)\",\n",
    "            \"Random (neutral)\",\n",
    "            \"Random (neutral)\",\n",
    "            \"Random (neutral)\",\n",
    "            \"Random (contradiction)\",\n",
    "            \"Random (entailment)\",\n",
    "            \"Lowest NN Distance (contradiction)\",\n",
    "            \"Largest NN Distance (contradiction)\"])\n",
    "plt.xlabel(\"learning rate\")\n",
    "plt.title(\"Loss\")\n",
    "# plt.savefig(\"./20200713-fig1.pdf\")"
   ]
  },
  {
   "cell_type": "code",
   "execution_count": 59,
   "metadata": {},
   "outputs": [
    {
     "data": {
      "text/plain": [
       "['contradiction', 'entailment', 'neutral']"
      ]
     },
     "execution_count": 59,
     "metadata": {},
     "output_type": "execute_result"
    }
   ],
   "source": [
    "train_dataset.label_list"
   ]
  },
  {
   "cell_type": "code",
   "execution_count": null,
   "metadata": {},
   "outputs": [],
   "source": []
  },
  {
   "cell_type": "code",
   "execution_count": 342,
   "metadata": {},
   "outputs": [
    {
     "data": {
      "text/plain": [
       "114332"
      ]
     },
     "execution_count": 342,
     "metadata": {},
     "output_type": "execute_result"
    }
   ],
   "source": [
    "np.random.randint(len(train_inputs_collections))"
   ]
  },
  {
   "cell_type": "code",
   "execution_count": null,
   "metadata": {},
   "outputs": [],
   "source": []
  },
  {
   "cell_type": "code",
   "execution_count": null,
   "metadata": {},
   "outputs": [],
   "source": []
  },
  {
   "cell_type": "code",
   "execution_count": 363,
   "metadata": {},
   "outputs": [
    {
     "data": {
      "text/plain": [
       "(tensor([[0.0848, 0.7960, 0.1192]], device='cuda:0'),\n",
       " tensor(2.4675, device='cuda:0'))"
      ]
     },
     "execution_count": 363,
     "metadata": {},
     "output_type": "execute_result"
    }
   ],
   "source": [
    "step_eval_loss, logits = run_forward(model, test_inputs)\n",
    "decode_one_example(test_inputs, logits)\n",
    "logits.softmax(dim=-1), step_eval_loss"
   ]
  },
  {
   "cell_type": "code",
   "execution_count": 358,
   "metadata": {},
   "outputs": [
    {
     "data": {
      "text/plain": [
       "(\"[CLS] What's truly striking, though, is that Jobs has never really let this idea go. [SEP] Jobs never held onto an idea for long. [SEP] [PAD] [PAD] [PAD] [PAD] [PAD] [PAD] [PAD] [PAD] [PAD] [PAD] [PAD] [PAD] [PAD] [PAD] [PAD] [PAD] [PAD] [PAD] [PAD] [PAD] [PAD] [PAD] [PAD] [PAD] [PAD] [PAD] [PAD] [PAD] [PAD] [PAD] [PAD] [PAD] [PAD] [PAD] [PAD] [PAD] [PAD] [PAD] [PAD] [PAD] [PAD] [PAD] [PAD] [PAD] [PAD] [PAD] [PAD] [PAD] [PAD] [PAD] [PAD] [PAD] [PAD] [PAD] [PAD] [PAD] [PAD] [PAD] [PAD] [PAD] [PAD] [PAD] [PAD] [PAD] [PAD] [PAD] [PAD] [PAD] [PAD] [PAD] [PAD] [PAD] [PAD] [PAD] [PAD] [PAD] [PAD] [PAD] [PAD] [PAD] [PAD] [PAD] [PAD] [PAD] [PAD] [PAD] [PAD] [PAD] [PAD] [PAD] [PAD] [PAD] [PAD] [PAD] [PAD]\",\n",
       " 'contradiction',\n",
       " 'entailment')"
      ]
     },
     "execution_count": 358,
     "metadata": {},
     "output_type": "execute_result"
    }
   ],
   "source": [
    "step_eval_loss, logits = run_forward(new_model, test_inputs)\n",
    "decode_one_example(test_inputs, logits)"
   ]
  },
  {
   "cell_type": "code",
   "execution_count": null,
   "metadata": {},
   "outputs": [],
   "source": []
  },
  {
   "cell_type": "code",
   "execution_count": null,
   "metadata": {},
   "outputs": [],
   "source": []
  },
  {
   "cell_type": "code",
   "execution_count": null,
   "metadata": {},
   "outputs": [],
   "source": []
  },
  {
   "cell_type": "code",
   "execution_count": null,
   "metadata": {},
   "outputs": [],
   "source": []
  },
  {
   "cell_type": "code",
   "execution_count": 92,
   "metadata": {},
   "outputs": [],
   "source": [
    "with open(\"/export/home/Data/Glue/MNLI/train.tsv\") as f:\n",
    "    lines = f.readlines()"
   ]
  },
  {
   "cell_type": "code",
   "execution_count": 93,
   "metadata": {},
   "outputs": [
    {
     "data": {
      "text/plain": [
       "['contradiction', 'entailment', 'neutral']"
      ]
     },
     "execution_count": 93,
     "metadata": {},
     "output_type": "execute_result"
    }
   ],
   "source": [
    "# sorted_influences = np.argsort(influences)\n",
    "most_harmful = [p[0] for p in sorted(influences.items(), key=lambda p: p[1])][::-1]\n",
    "most_helpful = [p[0] for p in sorted(influences.items(), key=lambda p: p[1])]\n",
    "smallest_distance = KNN_indices.squeeze(axis=0).tolist()\n",
    "train_dataset.label_list"
   ]
  },
  {
   "cell_type": "code",
   "execution_count": 94,
   "metadata": {},
   "outputs": [],
   "source": [
    "# contradiction_indices = [i for i, d in enumerate(train_inputs_collections) if d[\"labels\"].item() == 0]\n",
    "# entailment_indices = [i for i, d in enumerate(train_inputs_collections) if d[\"labels\"].item() == 1]\n",
    "# neutral_indices = [i for i, d in enumerate(train_inputs_collections) if d[\"labels\"].item() == 2]"
   ]
  },
  {
   "cell_type": "code",
   "execution_count": 95,
   "metadata": {},
   "outputs": [
    {
     "data": {
      "text/plain": [
       "([27036, 162804, 197547, 317492, 179957, 2774, 368576, 28457, 272004, 97813],\n",
       " [2869, 50388, 123908, 207378, 275023, 231785, 264879, 99877, 95952, 93177])"
      ]
     },
     "execution_count": 95,
     "metadata": {},
     "output_type": "execute_result"
    }
   ],
   "source": [
    "# np.argsort(influences)[-20:]\n",
    "# most_helpful[-100:][::-1] == most_harmful[:100]\n",
    "most_helpful[:10], most_harmful[:10]"
   ]
  },
  {
   "cell_type": "code",
   "execution_count": null,
   "metadata": {},
   "outputs": [],
   "source": []
  },
  {
   "cell_type": "code",
   "execution_count": 96,
   "metadata": {},
   "outputs": [
    {
     "name": "stdout",
     "output_type": "stream",
     "text": [
      "Wrote 392702 to ./MNLI_data/remove_1_harmful_1000/\n",
      "Wrote 392702 to ./MNLI_data/remove_1_helpful_1000/\n",
      "Wrote 392702 to ./MNLI_data/remove_1_smallest_distance_1000/\n",
      "Wrote 392683 to ./MNLI_data/remove_20_harmful_1000/\n",
      "Wrote 392683 to ./MNLI_data/remove_20_helpful_1000/\n",
      "Wrote 392683 to ./MNLI_data/remove_20_smallest_distance_1000/\n",
      "Wrote 392603 to ./MNLI_data/remove_100_harmful_1000/\n",
      "Wrote 392603 to ./MNLI_data/remove_100_helpful_1000/\n",
      "Wrote 392603 to ./MNLI_data/remove_100_smallest_distance_1000/\n"
     ]
    }
   ],
   "source": [
    "import os\n",
    "for num in [1, 20, 100]:\n",
    "# for num in [1000, 3000]:\n",
    "#     random_dir_name = f\"./MNLI_data/remove_{num}_random/\"\n",
    "#     harmful_dir_name = f\"./MNLI_data/remove_{num}_harmful/\"\n",
    "#     helpful_dir_name = f\"./MNLI_data/remove_{num}_helpful/\"\n",
    "    harmful_dir_name = f\"./MNLI_data/remove_{num}_harmful_1000/\"\n",
    "    helpful_dir_name = f\"./MNLI_data/remove_{num}_helpful_1000/\"\n",
    "#     harmful_dir_name = f\"./MNLI_data/remove_{num}_harmful_10000/\"\n",
    "#     helpful_dir_name = f\"./MNLI_data/remove_{num}_helpful_10000/\"\n",
    "    smallest_distance_dir_name = f\"./MNLI_data/remove_{num}_smallest_distance_1000/\"\n",
    "#     smallest_distance_dir_name = f\"./MNLI_data/remove_{num}_smallest_distance_10000/\"\n",
    "#     random_contradiction_dir_name = f\"./MNLI_data/remove_{num}_random_contradiction/\"\n",
    "#     random_entailment_dir_name = f\"./MNLI_data/remove_{num}_random_entailment/\"\n",
    "#     random_neutral_dir_name = f\"./MNLI_data/remove_{num}_random_neutral/\"\n",
    "\n",
    "#     random_indices = np.random.choice(\n",
    "#         len(influences), size=num, replace=False)\n",
    "#     harmful_indices = sorted_influences[-num:]\n",
    "#     helpful_indices = sorted_influences[:num]\n",
    "    harmful_indices = most_harmful[:num]\n",
    "    helpful_indices = most_helpful[:num]\n",
    "    smallest_distance_indices = smallest_distance[:num]\n",
    "#     random_contradiction_indices = np.random.choice(\n",
    "#         contradiction_indices, size=num, replace=False)\n",
    "#     random_entailment_indices = np.random.choice(\n",
    "#         entailment_indices, size=num, replace=False)\n",
    "#     random_neutral_indices = np.random.choice(\n",
    "#         neutral_indices, size=num, replace=False)\n",
    "\n",
    "    \n",
    "    for dir_name, indices in zip([\n",
    "                                  # random_dir_name,\n",
    "                                  harmful_dir_name,\n",
    "                                  helpful_dir_name,\n",
    "                                  # random_contradiction_dir_name,\n",
    "                                  # random_entailment_dir_name,\n",
    "                                  # random_neutral_dir_name,\n",
    "                                  smallest_distance_dir_name,\n",
    "                                 ],\n",
    "                                 [\n",
    "                                  # random_indices,\n",
    "                                  harmful_indices,\n",
    "                                  helpful_indices,\n",
    "                                  # random_contradiction_indices,\n",
    "                                  # random_entailment_indices,\n",
    "                                  # random_neutral_indices,\n",
    "                                  smallest_distance_indices,\n",
    "                                 ]):\n",
    "        if not os.path.isdir(dir_name):\n",
    "            os.makedirs(dir_name)\n",
    "        else:\n",
    "            raise ValueError\n",
    "\n",
    "        with open(os.path.join(dir_name, \"train.tsv\"), \"w\") as f:\n",
    "            lines_to_write = [\n",
    "                # \"-1\" because of the header line\n",
    "                l for i, l in enumerate(lines)\n",
    "                if i - 1 not in indices]\n",
    "\n",
    "            f.write(\"\".join(lines_to_write))\n",
    "            print(f\"Wrote {len(lines_to_write)} to {dir_name}\")\n",
    "\n",
    "        # Sanity checks\n",
    "#         print(dir_name)\n",
    "#         lines_to_remove = [\n",
    "#             # \"-1\" because of the header line\n",
    "#             l for i, l in enumerate(lines)\n",
    "#             if i - 1 in indices]\n",
    "#         print(\"\\n\\t\".join([\"     \".join(l.split(\"\\t\")[-4:-2]) for l in lines_to_remove][:1]))\n",
    "#         print(\"\")"
   ]
  },
  {
   "cell_type": "code",
   "execution_count": null,
   "metadata": {},
   "outputs": [],
   "source": []
  },
  {
   "cell_type": "code",
   "execution_count": null,
   "metadata": {},
   "outputs": [],
   "source": []
  },
  {
   "cell_type": "code",
   "execution_count": null,
   "metadata": {},
   "outputs": [],
   "source": []
  }
 ],
 "metadata": {
  "kernelspec": {
   "display_name": "Python 3",
   "language": "python",
   "name": "python3"
  },
  "language_info": {
   "codemirror_mode": {
    "name": "ipython",
    "version": 3
   },
   "file_extension": ".py",
   "mimetype": "text/x-python",
   "name": "python",
   "nbconvert_exporter": "python",
   "pygments_lexer": "ipython3",
   "version": "3.7.7"
  }
 },
 "nbformat": 4,
 "nbformat_minor": 4
}
