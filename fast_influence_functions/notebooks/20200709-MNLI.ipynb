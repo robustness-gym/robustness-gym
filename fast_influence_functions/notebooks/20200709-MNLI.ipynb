{
 "cells": [
  {
   "cell_type": "code",
   "execution_count": 1,
   "metadata": {},
   "outputs": [],
   "source": [
    "from transformers import (\n",
    "    AutoModelForSequenceClassification,\n",
    "    AutoTokenizer,\n",
    "    GlueDataset,\n",
    "    GlueDataTrainingArguments,\n",
    "    Trainer,\n",
    "    TrainingArguments,\n",
    "    default_data_collator,\n",
    "    glue_compute_metrics,\n",
    "    glue_output_modes)\n",
    "from influence_utils.utils_hans import HansDataset\n",
    "\n",
    "import torch\n",
    "import numpy as np\n",
    "from torch.utils.data.dataloader import DataLoader\n",
    "from torch.utils.data.sampler import RandomSampler, SequentialSampler\n",
    "from influence_utils.influence import compute_s_test\n",
    "from influence_utils import glue_utils"
   ]
  },
  {
   "cell_type": "code",
   "execution_count": 2,
   "metadata": {},
   "outputs": [],
   "source": [
    "tokenizer = AutoTokenizer.from_pretrained(\"/export/home/Experiments/20200706/\")\n",
    "model = AutoModelForSequenceClassification.from_pretrained(\"/export/home/Experiments/20200706/\")\n",
    "# model = AutoModelForSequenceClassification.from_pretrained(\"bert-base-cased\")\n",
    "model.eval()\n",
    "\n",
    "train_dataset = GlueDataset(\n",
    "    args=GlueDataTrainingArguments(\n",
    "        task_name=\"mnli\",\n",
    "        max_seq_length=128,\n",
    "        data_dir=\"/export/home/Data/Glue/MNLI/\"),\n",
    "    tokenizer=tokenizer)\n",
    "\n",
    "# eval_dataset = HansDataset(\n",
    "#     data_dir=\"/export/home/Data/HANS/\",\n",
    "#     tokenizer=tokenizer,\n",
    "#     task=\"hans\",\n",
    "#     max_seq_length=128,\n",
    "#     overwrite_cache=False,\n",
    "#     evaluate=True,\n",
    "# )\n",
    "eval_dataset = GlueDataset(\n",
    "    args=GlueDataTrainingArguments(\n",
    "        task_name=\"mnli\",\n",
    "        max_seq_length=128,\n",
    "        data_dir=\"/export/home/Data/Glue/MNLI/\"),\n",
    "    tokenizer=tokenizer,\n",
    "    mode=\"dev\")"
   ]
  },
  {
   "cell_type": "code",
   "execution_count": 3,
   "metadata": {},
   "outputs": [
    {
     "name": "stdout",
     "output_type": "stream",
     "text": [
      "Params Trainable: 14768643\n",
      "\tbert.encoder.layer.10.attention.self.query.weight\n",
      "\tbert.encoder.layer.10.attention.self.query.bias\n",
      "\tbert.encoder.layer.10.attention.self.key.weight\n",
      "\tbert.encoder.layer.10.attention.self.key.bias\n",
      "\tbert.encoder.layer.10.attention.self.value.weight\n",
      "\tbert.encoder.layer.10.attention.self.value.bias\n",
      "\tbert.encoder.layer.10.attention.output.dense.weight\n",
      "\tbert.encoder.layer.10.attention.output.dense.bias\n",
      "\tbert.encoder.layer.10.attention.output.LayerNorm.weight\n",
      "\tbert.encoder.layer.10.attention.output.LayerNorm.bias\n",
      "\tbert.encoder.layer.10.intermediate.dense.weight\n",
      "\tbert.encoder.layer.10.intermediate.dense.bias\n",
      "\tbert.encoder.layer.10.output.dense.weight\n",
      "\tbert.encoder.layer.10.output.dense.bias\n",
      "\tbert.encoder.layer.10.output.LayerNorm.weight\n",
      "\tbert.encoder.layer.10.output.LayerNorm.bias\n",
      "\tbert.encoder.layer.11.attention.self.query.weight\n",
      "\tbert.encoder.layer.11.attention.self.query.bias\n",
      "\tbert.encoder.layer.11.attention.self.key.weight\n",
      "\tbert.encoder.layer.11.attention.self.key.bias\n",
      "\tbert.encoder.layer.11.attention.self.value.weight\n",
      "\tbert.encoder.layer.11.attention.self.value.bias\n",
      "\tbert.encoder.layer.11.attention.output.dense.weight\n",
      "\tbert.encoder.layer.11.attention.output.dense.bias\n",
      "\tbert.encoder.layer.11.attention.output.LayerNorm.weight\n",
      "\tbert.encoder.layer.11.attention.output.LayerNorm.bias\n",
      "\tbert.encoder.layer.11.intermediate.dense.weight\n",
      "\tbert.encoder.layer.11.intermediate.dense.bias\n",
      "\tbert.encoder.layer.11.output.dense.weight\n",
      "\tbert.encoder.layer.11.output.dense.bias\n",
      "\tbert.encoder.layer.11.output.LayerNorm.weight\n",
      "\tbert.encoder.layer.11.output.LayerNorm.bias\n",
      "\tbert.pooler.dense.weight\n",
      "\tbert.pooler.dense.bias\n",
      "\tclassifier.weight\n",
      "\tclassifier.bias\n"
     ]
    },
    {
     "data": {
      "text/plain": [
       "(False, device(type='cpu'))"
      ]
     },
     "execution_count": 3,
     "metadata": {},
     "output_type": "execute_result"
    }
   ],
   "source": [
    "glue_utils.freeze_BERT_parameters(model)\n",
    "model.training, model.device"
   ]
  },
  {
   "cell_type": "code",
   "execution_count": null,
   "metadata": {},
   "outputs": [],
   "source": []
  },
  {
   "cell_type": "code",
   "execution_count": 4,
   "metadata": {},
   "outputs": [
    {
     "name": "stderr",
     "output_type": "stream",
     "text": [
      "You are instantiating a Trainer but Tensorboard is not installed. You should consider installing it.\n"
     ]
    },
    {
     "data": {
      "text/html": [
       "\n",
       "                Logging results to <a href=\"https://wandb.com\" target=\"_blank\">Weights & Biases</a> <a href=\"https://docs.wandb.com/integrations/jupyter.html\" target=\"_blank\">(Documentation)</a>.<br/>\n",
       "                Project page: <a href=\"https://app.wandb.ai/hanguo/huggingface\" target=\"_blank\">https://app.wandb.ai/hanguo/huggingface</a><br/>\n",
       "                Run page: <a href=\"https://app.wandb.ai/hanguo/huggingface/runs/1gxrsro1\" target=\"_blank\">https://app.wandb.ai/hanguo/huggingface/runs/1gxrsro1</a><br/>\n",
       "            "
      ],
      "text/plain": [
       "<IPython.core.display.HTML object>"
      ]
     },
     "metadata": {},
     "output_type": "display_data"
    },
    {
     "name": "stderr",
     "output_type": "stream",
     "text": [
      "\u001b[34m\u001b[1mwandb\u001b[0m: Wandb version 0.9.3 is available!  To upgrade, please run:\n",
      "\u001b[34m\u001b[1mwandb\u001b[0m:  $ pip install wandb --upgrade\n"
     ]
    }
   ],
   "source": [
    "def hans_data_collator(features):\n",
    "    \"\"\"\n",
    "    Data collator that removes the \"pairID\" key if present.\n",
    "    \"\"\"\n",
    "    batch = default_data_collator(features)\n",
    "    _ = batch.pop(\"pairID\", None)\n",
    "    return batch\n",
    "\n",
    "\n",
    "def get_dataloader(dataset, batch_size, data_collator) -> DataLoader:\n",
    "    sampler = SequentialSampler(dataset)\n",
    "\n",
    "    data_loader = DataLoader(\n",
    "        dataset,\n",
    "        sampler=sampler,\n",
    "        batch_size=batch_size,\n",
    "        collate_fn=data_collator,\n",
    "    )\n",
    "\n",
    "    return data_loader\n",
    "\n",
    "\n",
    "def decode_one_example(inputs, logits=None):\n",
    "    if inputs[\"input_ids\"].shape[0] != 1:\n",
    "        raise ValueError\n",
    "\n",
    "    X = tokenizer.decode(inputs[\"input_ids\"][0])\n",
    "    Y = train_dataset.label_list[inputs[\"labels\"].item()]\n",
    "    if logits is not None:\n",
    "        Y_hat = train_dataset.label_list[\n",
    "            logits.argmax(dim=-1).item()]\n",
    "        return X, Y, Y_hat\n",
    "    else:\n",
    "        return X, Y\n",
    "\n",
    "output_mode = glue_output_modes[\"mnli\"]\n",
    "def build_compute_metrics_fn(task_name: str):\n",
    "    def compute_metrics_fn(p):\n",
    "        if output_mode == \"classification\":\n",
    "            preds = np.argmax(p.predictions, axis=1)\n",
    "        elif output_mode == \"regression\":\n",
    "            preds = np.squeeze(p.predictions)\n",
    "        return glue_compute_metrics(task_name, preds, p.label_ids)\n",
    "\n",
    "    return compute_metrics_fn\n",
    "\n",
    "\n",
    "trainer = Trainer(\n",
    "    model=model,\n",
    "    args=TrainingArguments(output_dir=\"./tmp-output\", per_device_train_batch_size=128, per_device_eval_batch_size=128, learning_rate=5e-5, logging_steps=100),\n",
    "    data_collator=hans_data_collator,\n",
    "    train_dataset=train_dataset,\n",
    "    eval_dataset=eval_dataset,\n",
    "    compute_metrics=build_compute_metrics_fn(\"mnli\"),\n",
    ")\n",
    "\n",
    "train_batch_data_loader = get_dataloader(\n",
    "    train_dataset,\n",
    "    batch_size=160,\n",
    "    data_collator=hans_data_collator)\n",
    "\n",
    "train_instance_data_loader = get_dataloader(\n",
    "    train_dataset,\n",
    "    batch_size=1,\n",
    "    data_collator=hans_data_collator)\n",
    "\n",
    "eval_instance_data_loader = get_dataloader(\n",
    "    eval_dataset,\n",
    "    batch_size=1,\n",
    "    data_collator=hans_data_collator)\n",
    "\n",
    "\n",
    "def run_forward(model, inputs):\n",
    "    # Implicitly used trainer and model\n",
    "    has_labels = any(inputs.get(k) is not None for k in [\"labels\", \"lm_labels\", \"masked_lm_labels\"])\n",
    "\n",
    "    for k, v in inputs.items():\n",
    "        if isinstance(v, torch.Tensor):\n",
    "            inputs[k] = v.to(trainer.args.device)\n",
    "    if trainer.args.past_index >= 0:\n",
    "        inputs[\"mems\"] = past\n",
    "\n",
    "    with torch.no_grad():\n",
    "        outputs = model(**inputs)\n",
    "        if has_labels:\n",
    "            step_eval_loss, logits = outputs[:2]\n",
    "            return step_eval_loss, logits\n",
    "        else:\n",
    "            logits = outputs[0]\n",
    "            return logits\n",
    "        \n",
    "        \n",
    "def visualize(inputs):\n",
    "    X, Y = decode_one_example(inputs)\n",
    "    premise, hypothesis = X.split(\"[CLS]\")[1].split(\"[SEP]\")[:2]\n",
    "    print(f\"\\tP: {premise.strip()}\\n\\tH: {hypothesis.strip()}\\n\\tL: {Y}\")"
   ]
  },
  {
   "cell_type": "code",
   "execution_count": 5,
   "metadata": {},
   "outputs": [],
   "source": [
    "# trainer.evaluate()"
   ]
  },
  {
   "cell_type": "code",
   "execution_count": null,
   "metadata": {},
   "outputs": [],
   "source": []
  },
  {
   "cell_type": "code",
   "execution_count": null,
   "metadata": {},
   "outputs": [],
   "source": []
  },
  {
   "cell_type": "code",
   "execution_count": null,
   "metadata": {},
   "outputs": [],
   "source": []
  },
  {
   "cell_type": "code",
   "execution_count": null,
   "metadata": {},
   "outputs": [],
   "source": []
  },
  {
   "cell_type": "code",
   "execution_count": 6,
   "metadata": {},
   "outputs": [],
   "source": [
    "for i, test_inputs in enumerate(eval_instance_data_loader):\n",
    "    step_eval_loss, logits = run_forward(model, test_inputs)\n",
    "    if i > 47 and (test_inputs[\"labels\"] != logits.argmax(dim=1)).item():\n",
    "        break"
   ]
  },
  {
   "cell_type": "code",
   "execution_count": 7,
   "metadata": {},
   "outputs": [
    {
     "data": {
      "text/plain": [
       "56"
      ]
     },
     "execution_count": 7,
     "metadata": {},
     "output_type": "execute_result"
    }
   ],
   "source": [
    "# i == 41\n",
    "i"
   ]
  },
  {
   "cell_type": "code",
   "execution_count": 8,
   "metadata": {},
   "outputs": [
    {
     "data": {
      "text/plain": [
       "('[CLS] But when the cushion is spent in a year or two, or when the next recession arrives, the disintermediating voters will find themselves playing the roles of budget analysts and tax wonks. [SEP] The cushion will likely be spent in under two years. [SEP] [PAD] [PAD] [PAD] [PAD] [PAD] [PAD] [PAD] [PAD] [PAD] [PAD] [PAD] [PAD] [PAD] [PAD] [PAD] [PAD] [PAD] [PAD] [PAD] [PAD] [PAD] [PAD] [PAD] [PAD] [PAD] [PAD] [PAD] [PAD] [PAD] [PAD] [PAD] [PAD] [PAD] [PAD] [PAD] [PAD] [PAD] [PAD] [PAD] [PAD] [PAD] [PAD] [PAD] [PAD] [PAD] [PAD] [PAD] [PAD] [PAD] [PAD] [PAD] [PAD] [PAD] [PAD] [PAD] [PAD] [PAD] [PAD] [PAD] [PAD] [PAD] [PAD] [PAD] [PAD] [PAD] [PAD] [PAD] [PAD] [PAD] [PAD] [PAD] [PAD] [PAD] [PAD]',\n",
       " 'entailment',\n",
       " 'contradiction')"
      ]
     },
     "execution_count": 8,
     "metadata": {},
     "output_type": "execute_result"
    }
   ],
   "source": [
    "decode_one_example(test_inputs, logits)"
   ]
  },
  {
   "cell_type": "code",
   "execution_count": 9,
   "metadata": {},
   "outputs": [
    {
     "name": "stdout",
     "output_type": "stream",
     "text": [
      "\tP: But when the cushion is spent in a year or two, or when the next recession arrives, the disintermediating voters will find themselves playing the roles of budget analysts and tax wonks.\n",
      "\tH: The cushion will likely be spent in under two years.\n",
      "\tL: entailment\n"
     ]
    }
   ],
   "source": [
    "visualize(test_inputs)"
   ]
  },
  {
   "cell_type": "code",
   "execution_count": 10,
   "metadata": {},
   "outputs": [
    {
     "name": "stderr",
     "output_type": "stream",
     "text": [
      "\u001b[34m\u001b[1mwandb\u001b[0m: Wandb version 0.9.3 is available!  To upgrade, please run:\n",
      "\u001b[34m\u001b[1mwandb\u001b[0m:  $ pip install wandb --upgrade\n",
      "2004.46 | 0.42: : 502it [06:32,  1.28it/s]                        \n"
     ]
    }
   ],
   "source": [
    "params_filter = None\n",
    "weight_decay_ignores = None\n",
    "weight_decay = 0.005\n",
    "weight_decay_ignores = None\n",
    "if params_filter is None:\n",
    "    params_filter = [\n",
    "        \"bert.pooler.dense.weight\",\n",
    "        \"bert.pooler.dense.bias\"] + [\n",
    "        n for n, p in model.named_parameters()\n",
    "        if not p.requires_grad]\n",
    "\n",
    "# We actually included `bert.pooler.dense.*`\n",
    "# but this should be fine? Because the gradients\n",
    "# of these parameters are not included anyway.\n",
    "if weight_decay_ignores is None:\n",
    "    weight_decay_ignores = [\n",
    "        \"bias\",\n",
    "        \"LayerNorm.weight\"] + [\n",
    "        n for n, p in model.named_parameters()\n",
    "        if not p.requires_grad]\n",
    "\n",
    "s_test = compute_s_test(\n",
    "    n_gpu=1,\n",
    "    device=torch.device(\"cuda\"),\n",
    "    model=model,\n",
    "    test_inputs=test_inputs,\n",
    "    train_data_loaders=[train_batch_data_loader],\n",
    "    params_filter=params_filter,\n",
    "    weight_decay=weight_decay,\n",
    "    weight_decay_ignores=weight_decay_ignores,\n",
    "    scale=1000,\n",
    "    num_samples=500)"
   ]
  },
  {
   "cell_type": "code",
   "execution_count": 11,
   "metadata": {},
   "outputs": [],
   "source": [
    "# torch.save(s_test, \"/export/home/Experiments/20200711/s_test.tmp.mnli-56\")\n",
    "s_test = torch.load(\"/export/home/Experiments/20200711/s_test.tmp.mnli-56\")\n",
    "from tqdm import tqdm\n",
    "from influence_utils.influence import compute_gradients"
   ]
  },
  {
   "cell_type": "code",
   "execution_count": null,
   "metadata": {},
   "outputs": [],
   "source": []
  },
  {
   "cell_type": "code",
   "execution_count": null,
   "metadata": {},
   "outputs": [],
   "source": []
  },
  {
   "cell_type": "code",
   "execution_count": 1,
   "metadata": {},
   "outputs": [],
   "source": [
    "# torch.save(influences, \"/export/home/Experiments/20200705/influences.mnli.datapoint.1.pt\")\n",
    "# torch.save(influences, \"/export/home/Experiments/20200711/influences.tmp.pt.full\")\n",
    "# torch.save(train_inputs_collections, \"/export/home/Experiments/20200711/train_inputs_collections.tmp.pt.full\")"
   ]
  },
  {
   "cell_type": "code",
   "execution_count": 14,
   "metadata": {},
   "outputs": [
    {
     "data": {
      "text/plain": [
       "(array([216836, 326431, 218816,  36867, 380352, 223326, 237604, 268553,\n",
       "        381986, 363628,  89700, 279334,  95249, 323822, 319395, 194456,\n",
       "         90841, 168688, 262535,  85353]),\n",
       " array([0.14036317, 0.14306031, 0.14378235, 0.1461273 , 0.14649993,\n",
       "        0.14799848, 0.14945602, 0.15174684, 0.15752681, 0.16009359,\n",
       "        0.16218759, 0.16474044, 0.16808179, 0.16993859, 0.1724104 ,\n",
       "        0.17394313, 0.18596108, 0.18791838, 0.19952127, 0.20359795]))"
      ]
     },
     "execution_count": 14,
     "metadata": {},
     "output_type": "execute_result"
    }
   ],
   "source": [
    "np.argsort(influences)[-20:], np.array(influences)[np.argsort(influences)][-20:]"
   ]
  },
  {
   "cell_type": "code",
   "execution_count": 15,
   "metadata": {},
   "outputs": [
    {
     "data": {
      "text/plain": [
       "(array([110640,  81545, 177068, 122861, 358305, 222796, 129406,  76226,\n",
       "        296437, 164286, 307177, 161378, 215776, 183249,  55903, 217762,\n",
       "        275820, 135803,  13489, 208537]),\n",
       " array([-0.27781412, -0.27341488, -0.26386681, -0.25751019, -0.24746615,\n",
       "        -0.24185036, -0.23961194, -0.23698696, -0.23616295, -0.23593372,\n",
       "        -0.23433471, -0.23358932, -0.22788872, -0.22712232, -0.2270966 ,\n",
       "        -0.22686641, -0.22297204, -0.22289623, -0.22128047, -0.21829918]))"
      ]
     },
     "execution_count": 15,
     "metadata": {},
     "output_type": "execute_result"
    }
   ],
   "source": [
    "np.argsort(influences)[:20], np.array(influences)[np.argsort(influences)][:20]"
   ]
  },
  {
   "cell_type": "code",
   "execution_count": 16,
   "metadata": {},
   "outputs": [
    {
     "name": "stdout",
     "output_type": "stream",
     "text": [
      "Top 3 Influential (harmful)\n",
      "\tP: Photos and documents tell the life story of the physician - revolutionary - statesman, who lived for a time in Macau, but never in this building.\n",
      "\tH: He never lived in this building.\n",
      "\tL: entailment\n",
      "\n",
      "\tP: He said he's never lost interest in having lawyers do what they can to help those in need.\n",
      "\tH: He's always been interesting in having lawyers help those who need it.\n",
      "\tL: entailment\n",
      "\n",
      "\tP: He did the saints Petronius and Proculus, and the angel on the right the first and last time he ever put wings on an angel.\n",
      "\tH: He had never put wings on any angels before.\n",
      "\tL: entailment\n"
     ]
    }
   ],
   "source": [
    "print(\"Top 3 Influential (harmful)\")\n",
    "visualize(train_inputs_collections[201907])\n",
    "print()\n",
    "visualize(train_inputs_collections[140485])\n",
    "print()\n",
    "visualize(train_inputs_collections[102963])"
   ]
  },
  {
   "cell_type": "code",
   "execution_count": 17,
   "metadata": {},
   "outputs": [
    {
     "name": "stdout",
     "output_type": "stream",
     "text": [
      "Top 3 Influential (helpful)\n",
      "\tP: i was surprised that last year was my first trip out there i'd never been to California and i went through out to Death Valley and\n",
      "\tH: I never went to California or Death Valley.\n",
      "\tL: contradiction\n",
      "\n",
      "\tP: I never noticed it when I took the tray up, but when I came to take it into the mistress's room I saw it at once, and I suppose I ought to have taken it down again, and asked Cook to make some fresh.\n",
      "\tH: I never noticed anything wrong with the tray.\n",
      "\tL: contradiction\n",
      "\n",
      "\tP: well that that that and that's an interesting point i've never i you know i've thought about it i've asked myself you know this question before i've never taken the time to do the research to answer my own question but i know that at least during the deliberations of the jury\n",
      "\tH: I have never asked myself questions.\n",
      "\tL: contradiction\n"
     ]
    }
   ],
   "source": [
    "print(\"Top 3 Influential (helpful)\")\n",
    "visualize(train_inputs_collections[58075])\n",
    "print()\n",
    "visualize(train_inputs_collections[9102])\n",
    "print()\n",
    "visualize(train_inputs_collections[153048])"
   ]
  },
  {
   "cell_type": "code",
   "execution_count": null,
   "metadata": {},
   "outputs": [],
   "source": []
  },
  {
   "cell_type": "code",
   "execution_count": 31,
   "metadata": {},
   "outputs": [],
   "source": []
  },
  {
   "cell_type": "code",
   "execution_count": 222,
   "metadata": {},
   "outputs": [],
   "source": [
    "from copy import deepcopy\n",
    "import matplotlib.pyplot as plt"
   ]
  },
  {
   "cell_type": "code",
   "execution_count": 128,
   "metadata": {},
   "outputs": [],
   "source": [
    "params_to_freeze = [\n",
    "    \"bert.embeddings.\",\n",
    "    \"bert.encoder.layer.0.\",\n",
    "    \"bert.encoder.layer.1.\",\n",
    "    \"bert.encoder.layer.2.\",\n",
    "    \"bert.encoder.layer.3.\",\n",
    "    \"bert.encoder.layer.4.\",\n",
    "    \"bert.encoder.layer.5.\",\n",
    "    \"bert.encoder.layer.6.\",\n",
    "    \"bert.encoder.layer.7.\",\n",
    "    \"bert.encoder.layer.8.\",\n",
    "    \"bert.encoder.layer.9.\",\n",
    "] + [\n",
    "    \"bert.pooler.dense.weight\",\n",
    "    \"bert.pooler.dense.bias\"]"
   ]
  },
  {
   "cell_type": "code",
   "execution_count": 357,
   "metadata": {},
   "outputs": [
    {
     "data": {
      "text/plain": [
       "Text(0.5, 1.0, 'Loss')"
      ]
     },
     "execution_count": 357,
     "metadata": {},
     "output_type": "execute_result"
    },
    {
     "data": {
      "image/png": "[encoded data removed]",
      "text/plain": [
       "<Figure size 720x720 with 1 Axes>"
      ]
     },
     "metadata": {
      "needs_background": "light"
     },
     "output_type": "display_data"
    }
   ],
   "source": [
    "plt.rcParams[\"figure.figsize\"] = (10, 10)\n",
    "for j, c in zip([58075, 201907, 134448, 192584, 275967, 381952, 361464, 179400, 177993, 114332],\n",
    "                [\"steelblue\", \"darkred\", \"lightskyblue\", \"lightsalmon\", \"grey\", \"grey\", \"grey\", \"grey\", \"lightskyblue\", \"lightsalmon\"]):\n",
    "\n",
    "    learning_rates = np.logspace(-5, -1.5, 50)\n",
    "    helpful_grad_z = compute_gradients(\n",
    "        n_gpu=1,\n",
    "        device=torch.device(\"cuda\"),\n",
    "        model=model,\n",
    "        inputs=train_inputs_collections[j],\n",
    "        params_filter=params_filter,\n",
    "        weight_decay=weight_decay,\n",
    "        weight_decay_ignores=weight_decay_ignores)\n",
    "\n",
    "    step_eval_losses = []\n",
    "    for lr in learning_rates:\n",
    "        new_model = deepcopy(model)\n",
    "        params_to_update = [p for name, p in new_model.named_parameters()\n",
    "                            if not any(pfreeze in name for pfreeze in params_to_freeze)]\n",
    "        with torch.no_grad():\n",
    "            [p.sub_(lr * grad_z) for p, grad_z in zip(params_to_update, helpful_grad_z)]\n",
    "\n",
    "        step_eval_loss, logits = run_forward(new_model, test_inputs)\n",
    "        step_eval_losses.append(step_eval_loss)\n",
    "\n",
    "    plt.plot(learning_rates, step_eval_losses, color=c)\n",
    "plt.legend([\"Most helpful (contradiction)\",\n",
    "            \"Most harmful (entailment)\",\n",
    "            \"Random (contradiction)\",\n",
    "            \"Random (entailment)\",\n",
    "            \"Random (neutral)\",\n",
    "            \"Random (neutral)\",\n",
    "            \"Random (neutral)\",\n",
    "            \"Random (neutral)\",\n",
    "            \"Random (contradiction)\",\n",
    "            \"Random (entailment)\",])\n",
    "plt.xlabel(\"learning rate\")\n",
    "plt.title(\"Loss\")\n",
    "# plt.savefig(\"./20200709-fig2.pdf\")"
   ]
  },
  {
   "cell_type": "code",
   "execution_count": 254,
   "metadata": {},
   "outputs": [
    {
     "data": {
      "text/plain": [
       "['contradiction', 'entailment', 'neutral']"
      ]
     },
     "execution_count": 254,
     "metadata": {},
     "output_type": "execute_result"
    }
   ],
   "source": [
    "train_dataset.label_list"
   ]
  },
  {
   "cell_type": "code",
   "execution_count": null,
   "metadata": {},
   "outputs": [],
   "source": []
  },
  {
   "cell_type": "code",
   "execution_count": 342,
   "metadata": {},
   "outputs": [
    {
     "data": {
      "text/plain": [
       "114332"
      ]
     },
     "execution_count": 342,
     "metadata": {},
     "output_type": "execute_result"
    }
   ],
   "source": [
    "np.random.randint(len(train_inputs_collections))"
   ]
  },
  {
   "cell_type": "code",
   "execution_count": null,
   "metadata": {},
   "outputs": [],
   "source": []
  },
  {
   "cell_type": "code",
   "execution_count": null,
   "metadata": {},
   "outputs": [],
   "source": []
  },
  {
   "cell_type": "code",
   "execution_count": 363,
   "metadata": {},
   "outputs": [
    {
     "data": {
      "text/plain": [
       "(tensor([[0.0848, 0.7960, 0.1192]], device='cuda:0'),\n",
       " tensor(2.4675, device='cuda:0'))"
      ]
     },
     "execution_count": 363,
     "metadata": {},
     "output_type": "execute_result"
    }
   ],
   "source": [
    "step_eval_loss, logits = run_forward(model, test_inputs)\n",
    "decode_one_example(test_inputs, logits)\n",
    "logits.softmax(dim=-1), step_eval_loss"
   ]
  },
  {
   "cell_type": "code",
   "execution_count": 358,
   "metadata": {},
   "outputs": [
    {
     "data": {
      "text/plain": [
       "(\"[CLS] What's truly striking, though, is that Jobs has never really let this idea go. [SEP] Jobs never held onto an idea for long. [SEP] [PAD] [PAD] [PAD] [PAD] [PAD] [PAD] [PAD] [PAD] [PAD] [PAD] [PAD] [PAD] [PAD] [PAD] [PAD] [PAD] [PAD] [PAD] [PAD] [PAD] [PAD] [PAD] [PAD] [PAD] [PAD] [PAD] [PAD] [PAD] [PAD] [PAD] [PAD] [PAD] [PAD] [PAD] [PAD] [PAD] [PAD] [PAD] [PAD] [PAD] [PAD] [PAD] [PAD] [PAD] [PAD] [PAD] [PAD] [PAD] [PAD] [PAD] [PAD] [PAD] [PAD] [PAD] [PAD] [PAD] [PAD] [PAD] [PAD] [PAD] [PAD] [PAD] [PAD] [PAD] [PAD] [PAD] [PAD] [PAD] [PAD] [PAD] [PAD] [PAD] [PAD] [PAD] [PAD] [PAD] [PAD] [PAD] [PAD] [PAD] [PAD] [PAD] [PAD] [PAD] [PAD] [PAD] [PAD] [PAD] [PAD] [PAD] [PAD] [PAD] [PAD] [PAD] [PAD]\",\n",
       " 'contradiction',\n",
       " 'entailment')"
      ]
     },
     "execution_count": 358,
     "metadata": {},
     "output_type": "execute_result"
    }
   ],
   "source": [
    "step_eval_loss, logits = run_forward(new_model, test_inputs)\n",
    "decode_one_example(test_inputs, logits)"
   ]
  },
  {
   "cell_type": "code",
   "execution_count": null,
   "metadata": {},
   "outputs": [],
   "source": []
  },
  {
   "cell_type": "code",
   "execution_count": null,
   "metadata": {},
   "outputs": [],
   "source": []
  },
  {
   "cell_type": "code",
   "execution_count": null,
   "metadata": {},
   "outputs": [],
   "source": []
  },
  {
   "cell_type": "code",
   "execution_count": null,
   "metadata": {},
   "outputs": [],
   "source": []
  },
  {
   "cell_type": "code",
   "execution_count": 172,
   "metadata": {},
   "outputs": [],
   "source": [
    "with open(\"/export/home/Data/Glue/MNLI/train.tsv\") as f:\n",
    "    lines = f.readlines()"
   ]
  },
  {
   "cell_type": "code",
   "execution_count": 173,
   "metadata": {},
   "outputs": [],
   "source": [
    "sorted_influences = np.argsort(influences)"
   ]
  },
  {
   "cell_type": "code",
   "execution_count": 167,
   "metadata": {},
   "outputs": [
    {
     "data": {
      "text/plain": [
       "(392703, 392683)"
      ]
     },
     "execution_count": 167,
     "metadata": {},
     "output_type": "execute_result"
    }
   ],
   "source": []
  },
  {
   "cell_type": "code",
   "execution_count": 163,
   "metadata": {},
   "outputs": [
    {
     "data": {
      "text/plain": [
       "array([ 25247, 148338, 217718, 369818, 162620,  79083, 380042, 103922,\n",
       "       181647,   8238, 190388, 194137, 215463,  91299, 144572,  92812,\n",
       "       158783, 102963, 140485, 201907])"
      ]
     },
     "execution_count": 163,
     "metadata": {},
     "output_type": "execute_result"
    }
   ],
   "source": [
    "np.argsort(influences)[-20:]"
   ]
  },
  {
   "cell_type": "code",
   "execution_count": 209,
   "metadata": {},
   "outputs": [
    {
     "name": "stdout",
     "output_type": "stream",
     "text": [
      "Wrote 391703 to ./MNLI_data/remove_1000_harmful/\n",
      "Wrote 391703 to ./MNLI_data/remove_1000_helpful/\n",
      "Wrote 389703 to ./MNLI_data/remove_3000_harmful/\n",
      "Wrote 389703 to ./MNLI_data/remove_3000_helpful/\n"
     ]
    }
   ],
   "source": [
    "import os\n",
    "# for num in [1, 20, 100]:\n",
    "for num in [1000, 3000]:\n",
    "    random_dir_name = f\"./MNLI_data/remove_{num}_random/\"\n",
    "    harmful_dir_name = f\"./MNLI_data/remove_{num}_harmful/\"\n",
    "    helpful_dir_name = f\"./MNLI_data/remove_{num}_helpful/\"\n",
    "    random_indices = np.random.choice(\n",
    "        len(influences), size=num, replace=False)\n",
    "    harmful_indices = sorted_influences[-num:]\n",
    "    helpful_indices = sorted_influences[:num]\n",
    "\n",
    "    \n",
    "    for dir_name, indices in zip([\n",
    "                                  # random_dir_name,\n",
    "                                  harmful_dir_name,\n",
    "                                  helpful_dir_name\n",
    "                                 ],\n",
    "                                 [\n",
    "                                  # random_indices,\n",
    "                                  harmful_indices,\n",
    "                                  helpful_indices\n",
    "                                 ]):\n",
    "#         if not os.path.isdir(dir_name):\n",
    "#             os.makedirs(dir_name)\n",
    "#         else:\n",
    "#             raise ValueError\n",
    "\n",
    "#         with open(os.path.join(dir_name, \"train.tsv\"), \"w\") as f:\n",
    "#             lines_to_write = [\n",
    "#                 # \"-1\" because of the header line\n",
    "#                 l for i, l in enumerate(lines)\n",
    "#                 if i - 1 not in indices]\n",
    "\n",
    "#             f.write(\"\".join(lines_to_write))\n",
    "#             print(f\"Wrote {len(lines_to_write)} to {dir_name}\")\n",
    "\n",
    "        # Sanity checks\n",
    "        print(dir_name)\n",
    "        lines_to_remove = [\n",
    "            # \"-1\" because of the header line\n",
    "            l for i, l in enumerate(lines)\n",
    "            if i - 1 in indices]\n",
    "        print(\"\\n\\t\".join([\"     \".join(l.split(\"\\t\")[-4:-2]) for l in lines_to_remove][:1]))\n",
    "        print(\"\")"
   ]
  },
  {
   "cell_type": "code",
   "execution_count": null,
   "metadata": {},
   "outputs": [],
   "source": []
  },
  {
   "cell_type": "code",
   "execution_count": null,
   "metadata": {},
   "outputs": [],
   "source": []
  },
  {
   "cell_type": "code",
   "execution_count": null,
   "metadata": {},
   "outputs": [],
   "source": []
  }
 ],
 "metadata": {
  "kernelspec": {
   "display_name": "Python 3",
   "language": "python",
   "name": "python3"
  },
  "language_info": {
   "codemirror_mode": {
    "name": "ipython",
    "version": 3
   },
   "file_extension": ".py",
   "mimetype": "text/x-python",
   "name": "python",
   "nbconvert_exporter": "python",
   "pygments_lexer": "ipython3",
   "version": "3.7.7"
  }
 },
 "nbformat": 4,
 "nbformat_minor": 4
}
