{
 "cells": [
  {
   "cell_type": "code",
   "execution_count": 1,
   "metadata": {},
   "outputs": [
    {
     "name": "stderr",
     "output_type": "stream",
     "text": [
      "\u001b[34m\u001b[1mwandb\u001b[0m: \u001b[33mWARNING\u001b[0m W&B installed but not logged in.  Run `wandb login` or set the WANDB_API_KEY env variable.\n"
     ]
    }
   ],
   "source": [
    "from experiments.mnli_utils import *"
   ]
  },
  {
   "cell_type": "code",
   "execution_count": 2,
   "metadata": {},
   "outputs": [
    {
     "name": "stdout",
     "output_type": "stream",
     "text": [
      "Params Trainable: 14768643\n",
      "\tbert.encoder.layer.10.attention.self.query.weight\n",
      "\tbert.encoder.layer.10.attention.self.query.bias\n",
      "\tbert.encoder.layer.10.attention.self.key.weight\n",
      "\tbert.encoder.layer.10.attention.self.key.bias\n",
      "\tbert.encoder.layer.10.attention.self.value.weight\n",
      "\tbert.encoder.layer.10.attention.self.value.bias\n",
      "\tbert.encoder.layer.10.attention.output.dense.weight\n",
      "\tbert.encoder.layer.10.attention.output.dense.bias\n",
      "\tbert.encoder.layer.10.attention.output.LayerNorm.weight\n",
      "\tbert.encoder.layer.10.attention.output.LayerNorm.bias\n",
      "\tbert.encoder.layer.10.intermediate.dense.weight\n",
      "\tbert.encoder.layer.10.intermediate.dense.bias\n",
      "\tbert.encoder.layer.10.output.dense.weight\n",
      "\tbert.encoder.layer.10.output.dense.bias\n",
      "\tbert.encoder.layer.10.output.LayerNorm.weight\n",
      "\tbert.encoder.layer.10.output.LayerNorm.bias\n",
      "\tbert.encoder.layer.11.attention.self.query.weight\n",
      "\tbert.encoder.layer.11.attention.self.query.bias\n",
      "\tbert.encoder.layer.11.attention.self.key.weight\n",
      "\tbert.encoder.layer.11.attention.self.key.bias\n",
      "\tbert.encoder.layer.11.attention.self.value.weight\n",
      "\tbert.encoder.layer.11.attention.self.value.bias\n",
      "\tbert.encoder.layer.11.attention.output.dense.weight\n",
      "\tbert.encoder.layer.11.attention.output.dense.bias\n",
      "\tbert.encoder.layer.11.attention.output.LayerNorm.weight\n",
      "\tbert.encoder.layer.11.attention.output.LayerNorm.bias\n",
      "\tbert.encoder.layer.11.intermediate.dense.weight\n",
      "\tbert.encoder.layer.11.intermediate.dense.bias\n",
      "\tbert.encoder.layer.11.output.dense.weight\n",
      "\tbert.encoder.layer.11.output.dense.bias\n",
      "\tbert.encoder.layer.11.output.LayerNorm.weight\n",
      "\tbert.encoder.layer.11.output.LayerNorm.bias\n",
      "\tbert.pooler.dense.weight\n",
      "\tbert.pooler.dense.bias\n",
      "\tclassifier.weight\n",
      "\tclassifier.bias\n",
      "Params Trainable: 14768643\n",
      "\tbert.encoder.layer.10.attention.self.query.weight\n",
      "\tbert.encoder.layer.10.attention.self.query.bias\n",
      "\tbert.encoder.layer.10.attention.self.key.weight\n",
      "\tbert.encoder.layer.10.attention.self.key.bias\n",
      "\tbert.encoder.layer.10.attention.self.value.weight\n",
      "\tbert.encoder.layer.10.attention.self.value.bias\n",
      "\tbert.encoder.layer.10.attention.output.dense.weight\n",
      "\tbert.encoder.layer.10.attention.output.dense.bias\n",
      "\tbert.encoder.layer.10.attention.output.LayerNorm.weight\n",
      "\tbert.encoder.layer.10.attention.output.LayerNorm.bias\n",
      "\tbert.encoder.layer.10.intermediate.dense.weight\n",
      "\tbert.encoder.layer.10.intermediate.dense.bias\n",
      "\tbert.encoder.layer.10.output.dense.weight\n",
      "\tbert.encoder.layer.10.output.dense.bias\n",
      "\tbert.encoder.layer.10.output.LayerNorm.weight\n",
      "\tbert.encoder.layer.10.output.LayerNorm.bias\n",
      "\tbert.encoder.layer.11.attention.self.query.weight\n",
      "\tbert.encoder.layer.11.attention.self.query.bias\n",
      "\tbert.encoder.layer.11.attention.self.key.weight\n",
      "\tbert.encoder.layer.11.attention.self.key.bias\n",
      "\tbert.encoder.layer.11.attention.self.value.weight\n",
      "\tbert.encoder.layer.11.attention.self.value.bias\n",
      "\tbert.encoder.layer.11.attention.output.dense.weight\n",
      "\tbert.encoder.layer.11.attention.output.dense.bias\n",
      "\tbert.encoder.layer.11.attention.output.LayerNorm.weight\n",
      "\tbert.encoder.layer.11.attention.output.LayerNorm.bias\n",
      "\tbert.encoder.layer.11.intermediate.dense.weight\n",
      "\tbert.encoder.layer.11.intermediate.dense.bias\n",
      "\tbert.encoder.layer.11.output.dense.weight\n",
      "\tbert.encoder.layer.11.output.dense.bias\n",
      "\tbert.encoder.layer.11.output.LayerNorm.weight\n",
      "\tbert.encoder.layer.11.output.LayerNorm.bias\n",
      "\tbert.pooler.dense.weight\n",
      "\tbert.pooler.dense.bias\n",
      "\tclassifier.weight\n",
      "\tclassifier.bias\n"
     ]
    }
   ],
   "source": [
    "task_tokenizer, task_model = create_tokenizer_and_model(\n",
    "    \"/export/home/Experiments/20200706/\")\n",
    "\n",
    "imitator_tokenizer, imitator_model = create_tokenizer_and_model(\n",
    "    \"/export/home/Experiments/20200718/output_dir/\")\n",
    "\n",
    "train_dataset, eval_dataset = create_datasets(tokenizer=task_tokenizer)"
   ]
  },
  {
   "cell_type": "code",
   "execution_count": null,
   "metadata": {},
   "outputs": [],
   "source": []
  },
  {
   "cell_type": "code",
   "execution_count": 3,
   "metadata": {},
   "outputs": [
    {
     "data": {
      "text/plain": [
       "(False, False)"
      ]
     },
     "execution_count": 3,
     "metadata": {},
     "output_type": "execute_result"
    }
   ],
   "source": [
    "task_model.training, imitator_model.training"
   ]
  },
  {
   "cell_type": "code",
   "execution_count": 4,
   "metadata": {},
   "outputs": [
    {
     "data": {
      "text/plain": [
       "(device(type='cpu'), device(type='cuda', index=0))"
      ]
     },
     "execution_count": 4,
     "metadata": {},
     "output_type": "execute_result"
    }
   ],
   "source": [
    "imitator_model.cuda()\n",
    "task_model.device, imitator_model.device"
   ]
  },
  {
   "cell_type": "code",
   "execution_count": 5,
   "metadata": {},
   "outputs": [
    {
     "name": "stderr",
     "output_type": "stream",
     "text": [
      "You are instantiating a Trainer but Tensorboard is not installed. You should consider installing it.\n"
     ]
    }
   ],
   "source": [
    "from transformers import glue_output_modes, TrainingArguments, glue_compute_metrics\n",
    "\n",
    "output_mode = glue_output_modes[\"mnli\"]\n",
    "def build_compute_metrics_fn(task_name: str):\n",
    "    def compute_metrics_fn(p):\n",
    "        if output_mode == \"classification\":\n",
    "            preds = np.argmax(p.predictions, axis=1)\n",
    "        elif output_mode == \"regression\":\n",
    "            preds = np.squeeze(p.predictions)\n",
    "        return glue_compute_metrics(task_name, preds, p.label_ids)\n",
    "\n",
    "    return compute_metrics_fn\n",
    "\n",
    "\n",
    "trainer = Trainer(\n",
    "    model=task_model,\n",
    "    args=TrainingArguments(output_dir=\"./tmp-output\", per_device_train_batch_size=128, per_device_eval_batch_size=128, learning_rate=5e-5, logging_steps=100),\n",
    "    data_collator=default_data_collator,\n",
    "    train_dataset=train_dataset,\n",
    "    eval_dataset=eval_dataset,\n",
    "    compute_metrics=build_compute_metrics_fn(\"mnli\"),\n",
    ")\n",
    "\n",
    "train_batch_data_loader = get_dataloader(\n",
    "    train_dataset,\n",
    "    batch_size=160,\n",
    "    data_collator=default_data_collator)\n",
    "\n",
    "train_instance_data_loader = get_dataloader(\n",
    "    train_dataset,\n",
    "    batch_size=1,\n",
    "    data_collator=default_data_collator)\n",
    "\n",
    "eval_instance_data_loader = get_dataloader(\n",
    "    eval_dataset,\n",
    "    batch_size=1,\n",
    "    data_collator=default_data_collator)"
   ]
  },
  {
   "cell_type": "code",
   "execution_count": null,
   "metadata": {},
   "outputs": [],
   "source": []
  },
  {
   "cell_type": "code",
   "execution_count": null,
   "metadata": {},
   "outputs": [],
   "source": []
  },
  {
   "cell_type": "code",
   "execution_count": null,
   "metadata": {},
   "outputs": [],
   "source": []
  },
  {
   "cell_type": "code",
   "execution_count": null,
   "metadata": {},
   "outputs": [],
   "source": []
  },
  {
   "cell_type": "code",
   "execution_count": null,
   "metadata": {},
   "outputs": [],
   "source": []
  },
  {
   "cell_type": "code",
   "execution_count": null,
   "metadata": {},
   "outputs": [],
   "source": []
  },
  {
   "cell_type": "code",
   "execution_count": 6,
   "metadata": {},
   "outputs": [],
   "source": [
    "for i, test_inputs in enumerate(eval_instance_data_loader):\n",
    "    logits, labels, step_eval_loss = predict(\n",
    "        trainer=trainer, model=task_model, inputs=test_inputs)\n",
    "    if i >= 40 and labels[0] != logits.argmax(axis=1)[0]:\n",
    "        break"
   ]
  },
  {
   "cell_type": "code",
   "execution_count": 7,
   "metadata": {},
   "outputs": [
    {
     "data": {
      "text/plain": [
       "41"
      ]
     },
     "execution_count": 7,
     "metadata": {},
     "output_type": "execute_result"
    }
   ],
   "source": [
    "i"
   ]
  },
  {
   "cell_type": "code",
   "execution_count": 8,
   "metadata": {},
   "outputs": [
    {
     "data": {
      "text/plain": [
       "(\"[CLS] What's truly striking, though, is that Jobs has never really let this idea go. [SEP] Jobs never held onto an idea for long. [SEP] [PAD] [PAD] [PAD] [PAD] [PAD] [PAD] [PAD] [PAD] [PAD] [PAD] [PAD] [PAD] [PAD] [PAD] [PAD] [PAD] [PAD] [PAD] [PAD] [PAD] [PAD] [PAD] [PAD] [PAD] [PAD] [PAD] [PAD] [PAD] [PAD] [PAD] [PAD] [PAD] [PAD] [PAD] [PAD] [PAD] [PAD] [PAD] [PAD] [PAD] [PAD] [PAD] [PAD] [PAD] [PAD] [PAD] [PAD] [PAD] [PAD] [PAD] [PAD] [PAD] [PAD] [PAD] [PAD] [PAD] [PAD] [PAD] [PAD] [PAD] [PAD] [PAD] [PAD] [PAD] [PAD] [PAD] [PAD] [PAD] [PAD] [PAD] [PAD] [PAD] [PAD] [PAD] [PAD] [PAD] [PAD] [PAD] [PAD] [PAD] [PAD] [PAD] [PAD] [PAD] [PAD] [PAD] [PAD] [PAD] [PAD] [PAD] [PAD] [PAD] [PAD] [PAD] [PAD]\",\n",
       " 'contradiction',\n",
       " 'entailment')"
      ]
     },
     "execution_count": 8,
     "metadata": {},
     "output_type": "execute_result"
    }
   ],
   "source": [
    "decode_one_example(tokenizer=task_tokenizer, label_list=train_dataset.label_list, inputs=test_inputs, logits=torch.tensor(logits))"
   ]
  },
  {
   "cell_type": "code",
   "execution_count": 9,
   "metadata": {},
   "outputs": [
    {
     "data": {
      "text/plain": [
       "({'labels': tensor([0], device='cuda:0'),\n",
       "  'input_ids': tensor([[  101,  1327,   112,   188,  5098,  8261,   117,  1463,   117,  1110,\n",
       "            1115, 18235,  1116,  1144,  1309,  1541,  1519,  1142,  1911,  1301,\n",
       "             119,   102, 18235,  1116,  1309,  1316,  2135,  1126,  1911,  1111,\n",
       "            1263,   119,   102,     0,     0,     0,     0,     0,     0,     0,\n",
       "               0,     0,     0,     0,     0,     0,     0,     0,     0,     0,\n",
       "               0,     0,     0,     0,     0,     0,     0,     0,     0,     0,\n",
       "               0,     0,     0,     0,     0,     0,     0,     0,     0,     0,\n",
       "               0,     0,     0,     0,     0,     0,     0,     0,     0,     0,\n",
       "               0,     0,     0,     0,     0,     0,     0,     0,     0,     0,\n",
       "               0,     0,     0,     0,     0,     0,     0,     0,     0,     0,\n",
       "               0,     0,     0,     0,     0,     0,     0,     0,     0,     0,\n",
       "               0,     0,     0,     0,     0,     0,     0,     0,     0,     0,\n",
       "               0,     0,     0,     0,     0,     0,     0,     0]],\n",
       "         device='cuda:0'),\n",
       "  'attention_mask': tensor([[1, 1, 1, 1, 1, 1, 1, 1, 1, 1, 1, 1, 1, 1, 1, 1, 1, 1, 1, 1, 1, 1, 1, 1,\n",
       "           1, 1, 1, 1, 1, 1, 1, 1, 1, 0, 0, 0, 0, 0, 0, 0, 0, 0, 0, 0, 0, 0, 0, 0,\n",
       "           0, 0, 0, 0, 0, 0, 0, 0, 0, 0, 0, 0, 0, 0, 0, 0, 0, 0, 0, 0, 0, 0, 0, 0,\n",
       "           0, 0, 0, 0, 0, 0, 0, 0, 0, 0, 0, 0, 0, 0, 0, 0, 0, 0, 0, 0, 0, 0, 0, 0,\n",
       "           0, 0, 0, 0, 0, 0, 0, 0, 0, 0, 0, 0, 0, 0, 0, 0, 0, 0, 0, 0, 0, 0, 0, 0,\n",
       "           0, 0, 0, 0, 0, 0, 0, 0]], device='cuda:0'),\n",
       "  'token_type_ids': tensor([[0, 0, 0, 0, 0, 0, 0, 0, 0, 0, 0, 0, 0, 0, 0, 0, 0, 0, 0, 0, 0, 0, 1, 1,\n",
       "           1, 1, 1, 1, 1, 1, 1, 1, 1, 0, 0, 0, 0, 0, 0, 0, 0, 0, 0, 0, 0, 0, 0, 0,\n",
       "           0, 0, 0, 0, 0, 0, 0, 0, 0, 0, 0, 0, 0, 0, 0, 0, 0, 0, 0, 0, 0, 0, 0, 0,\n",
       "           0, 0, 0, 0, 0, 0, 0, 0, 0, 0, 0, 0, 0, 0, 0, 0, 0, 0, 0, 0, 0, 0, 0, 0,\n",
       "           0, 0, 0, 0, 0, 0, 0, 0, 0, 0, 0, 0, 0, 0, 0, 0, 0, 0, 0, 0, 0, 0, 0, 0,\n",
       "           0, 0, 0, 0, 0, 0, 0, 0]], device='cuda:0')},\n",
       " {'labels': tensor([1]),\n",
       "  'input_ids': tensor([[  101,  1327,   112,   188,  5098,  8261,   117,  1463,   117,  1110,\n",
       "            1115, 18235,  1116,  1144,  1309,  1541,  1519,  1142,  1911,  1301,\n",
       "             119,   102, 18235,  1116,  1309,  1316,  2135,  1126,  1911,  1111,\n",
       "            1263,   119,   102,     0,     0,     0,     0,     0,     0,     0,\n",
       "               0,     0,     0,     0,     0,     0,     0,     0,     0,     0,\n",
       "               0,     0,     0,     0,     0,     0,     0,     0,     0,     0,\n",
       "               0,     0,     0,     0,     0,     0,     0,     0,     0,     0,\n",
       "               0,     0,     0,     0,     0,     0,     0,     0,     0,     0,\n",
       "               0,     0,     0,     0,     0,     0,     0,     0,     0,     0,\n",
       "               0,     0,     0,     0,     0,     0,     0,     0,     0,     0,\n",
       "               0,     0,     0,     0,     0,     0,     0,     0,     0,     0,\n",
       "               0,     0,     0,     0,     0,     0,     0,     0,     0,     0,\n",
       "               0,     0,     0,     0,     0,     0,     0,     0]],\n",
       "         device='cuda:0'),\n",
       "  'attention_mask': tensor([[1, 1, 1, 1, 1, 1, 1, 1, 1, 1, 1, 1, 1, 1, 1, 1, 1, 1, 1, 1, 1, 1, 1, 1,\n",
       "           1, 1, 1, 1, 1, 1, 1, 1, 1, 0, 0, 0, 0, 0, 0, 0, 0, 0, 0, 0, 0, 0, 0, 0,\n",
       "           0, 0, 0, 0, 0, 0, 0, 0, 0, 0, 0, 0, 0, 0, 0, 0, 0, 0, 0, 0, 0, 0, 0, 0,\n",
       "           0, 0, 0, 0, 0, 0, 0, 0, 0, 0, 0, 0, 0, 0, 0, 0, 0, 0, 0, 0, 0, 0, 0, 0,\n",
       "           0, 0, 0, 0, 0, 0, 0, 0, 0, 0, 0, 0, 0, 0, 0, 0, 0, 0, 0, 0, 0, 0, 0, 0,\n",
       "           0, 0, 0, 0, 0, 0, 0, 0]], device='cuda:0'),\n",
       "  'token_type_ids': tensor([[0, 0, 0, 0, 0, 0, 0, 0, 0, 0, 0, 0, 0, 0, 0, 0, 0, 0, 0, 0, 0, 0, 1, 1,\n",
       "           1, 1, 1, 1, 1, 1, 1, 1, 1, 0, 0, 0, 0, 0, 0, 0, 0, 0, 0, 0, 0, 0, 0, 0,\n",
       "           0, 0, 0, 0, 0, 0, 0, 0, 0, 0, 0, 0, 0, 0, 0, 0, 0, 0, 0, 0, 0, 0, 0, 0,\n",
       "           0, 0, 0, 0, 0, 0, 0, 0, 0, 0, 0, 0, 0, 0, 0, 0, 0, 0, 0, 0, 0, 0, 0, 0,\n",
       "           0, 0, 0, 0, 0, 0, 0, 0, 0, 0, 0, 0, 0, 0, 0, 0, 0, 0, 0, 0, 0, 0, 0, 0,\n",
       "           0, 0, 0, 0, 0, 0, 0, 0]], device='cuda:0')})"
      ]
     },
     "execution_count": 9,
     "metadata": {},
     "output_type": "execute_result"
    }
   ],
   "source": [
    "from copy import deepcopy\n",
    "imitator_test_inputs = deepcopy(test_inputs)\n",
    "imitator_test_inputs[\"labels\"] = torch.tensor(logits.argmax(axis=1))\n",
    "test_inputs, imitator_test_inputs"
   ]
  },
  {
   "cell_type": "code",
   "execution_count": null,
   "metadata": {},
   "outputs": [],
   "source": []
  },
  {
   "cell_type": "code",
   "execution_count": null,
   "metadata": {},
   "outputs": [],
   "source": []
  },
  {
   "cell_type": "code",
   "execution_count": 10,
   "metadata": {},
   "outputs": [],
   "source": [
    "influences = torch.load(\"/export/home/Experiments/20200706/influences.tmp.pt.full\")\n",
    "train_inputs_collections = torch.load(\"/export/home/Experiments/20200706/train_inputs_collections.tmp.pt.full\")"
   ]
  },
  {
   "cell_type": "code",
   "execution_count": null,
   "metadata": {},
   "outputs": [],
   "source": []
  },
  {
   "cell_type": "code",
   "execution_count": null,
   "metadata": {},
   "outputs": [],
   "source": []
  },
  {
   "cell_type": "code",
   "execution_count": 11,
   "metadata": {},
   "outputs": [],
   "source": [
    "entailment_examples = [i for i in range(len(train_inputs_collections))\n",
    "                       if train_dataset.label_list[train_inputs_collections[i][\"labels\"]] == \"entailment\"]\n",
    "\n",
    "contradiction_examples = [i for i in range(len(train_inputs_collections))\n",
    "                       if train_dataset.label_list[train_inputs_collections[i][\"labels\"]] == \"contradiction\"]\n",
    "\n",
    "neutral_examples = [i for i in range(len(train_inputs_collections))\n",
    "                       if train_dataset.label_list[train_inputs_collections[i][\"labels\"]] == \"neutral\"]"
   ]
  },
  {
   "cell_type": "code",
   "execution_count": null,
   "metadata": {},
   "outputs": [],
   "source": []
  },
  {
   "cell_type": "code",
   "execution_count": 12,
   "metadata": {},
   "outputs": [],
   "source": [
    "from tqdm import tqdm\n",
    "import numpy as np\n",
    "import matplotlib.pyplot as plt\n",
    "from influence_utils.influence import compute_gradients\n",
    "from collections import defaultdict\n",
    "\n",
    "\n",
    "params_to_freeze = [\n",
    "    \"bert.embeddings.\",\n",
    "    \"bert.encoder.layer.0.\",\n",
    "    \"bert.encoder.layer.1.\",\n",
    "    \"bert.encoder.layer.2.\",\n",
    "    \"bert.encoder.layer.3.\",\n",
    "    \"bert.encoder.layer.4.\",\n",
    "    \"bert.encoder.layer.5.\",\n",
    "    \"bert.encoder.layer.6.\",\n",
    "    \"bert.encoder.layer.7.\",\n",
    "    \"bert.encoder.layer.8.\",\n",
    "    \"bert.encoder.layer.9.\",\n",
    "] + [\n",
    "    \"bert.pooler.dense.weight\",\n",
    "    \"bert.pooler.dense.bias\"]\n",
    "\n",
    "params_filter = None\n",
    "weight_decay_ignores = None\n",
    "weight_decay = 0.005\n",
    "weight_decay_ignores = None\n",
    "if params_filter is None:\n",
    "    params_filter = [\n",
    "        \"bert.pooler.dense.weight\",\n",
    "        \"bert.pooler.dense.bias\"] + [\n",
    "        n for n, p in imitator_model.named_parameters()\n",
    "        if not p.requires_grad]\n",
    "\n",
    "# We actually included `bert.pooler.dense.*`\n",
    "# but this should be fine? Because the gradients\n",
    "# of these parameters are not included anyway.\n",
    "if weight_decay_ignores is None:\n",
    "    weight_decay_ignores = [\n",
    "        \"bias\",\n",
    "        \"LayerNorm.weight\"] + [\n",
    "        n for n, p in imitator_model.named_parameters()\n",
    "        if not p.requires_grad]\n",
    "    \n",
    "\n",
    "learning_rates = np.logspace(-5, -2.5, 50)\n",
    "def prepare_plot_data(indices, labels):\n",
    "    losses = defaultdict(list)\n",
    "    for index, label in zip(tqdm(indices), labels):\n",
    "        helpful_grad_z = compute_gradients(\n",
    "            n_gpu=1,\n",
    "            device=torch.device(\"cuda\"),\n",
    "            model=imitator_model,\n",
    "            inputs=train_inputs_collections[index],\n",
    "            params_filter=params_filter,\n",
    "            weight_decay=weight_decay,\n",
    "            weight_decay_ignores=weight_decay_ignores)\n",
    "\n",
    "        step_eval_losses = []\n",
    "        for lr in learning_rates:\n",
    "            new_imitator_model = deepcopy(imitator_model)\n",
    "            params_to_update = [p for name, p in new_imitator_model.named_parameters()\n",
    "                                if not any(pfreeze in name for pfreeze in params_to_freeze)]\n",
    "            with torch.no_grad():\n",
    "                [p.sub_(lr * grad_z) for p, grad_z in zip(params_to_update, helpful_grad_z)]\n",
    "\n",
    "            _, _, imitator_step_eval_loss = predict(\n",
    "                trainer=trainer,\n",
    "                model=new_imitator_model,\n",
    "                inputs=imitator_test_inputs)\n",
    "            step_eval_losses.append(imitator_step_eval_loss)\n",
    "        losses[label].append(step_eval_losses)\n",
    "\n",
    "    return losses"
   ]
  },
  {
   "cell_type": "code",
   "execution_count": null,
   "metadata": {},
   "outputs": [],
   "source": []
  },
  {
   "cell_type": "code",
   "execution_count": 13,
   "metadata": {},
   "outputs": [
    {
     "name": "stderr",
     "output_type": "stream",
     "text": [
      "100%|██████████| 500/500 [12:45<00:00,  1.53s/it]\n"
     ]
    }
   ],
   "source": [
    "data_indices = (\n",
    "    np.argsort(influences)[:100].tolist() +\n",
    "    np.argsort(influences)[-100:].tolist() +\n",
    "    [np.random.choice(contradiction_examples) for _ in range(100)] +\n",
    "    [np.random.choice(entailment_examples) for _ in range(100)] +\n",
    "    [np.random.choice(neutral_examples) for _ in range(100)]\n",
    ")\n",
    "\n",
    "data_labels = (\n",
    "    [\"least-influential\" for _ in range(100)] +\n",
    "    [\"most-influential\" for _ in range(100)] +\n",
    "    [\"random-contradiction\" for _ in range(100)] +\n",
    "    [\"random-entailment\" for _ in range(100)] +\n",
    "    [\"random-neutral\" for _ in range(100)]\n",
    ")\n",
    "\n",
    "losses = prepare_plot_data(indices=data_indices, labels=data_labels)"
   ]
  },
  {
   "cell_type": "code",
   "execution_count": null,
   "metadata": {},
   "outputs": [],
   "source": []
  },
  {
   "cell_type": "code",
   "execution_count": 17,
   "metadata": {},
   "outputs": [
    {
     "data": {
      "image/png": "[encoded data removed]",
      "text/plain": [
       "<Figure size 720x720 with 1 Axes>"
      ]
     },
     "metadata": {
      "needs_background": "light"
     },
     "output_type": "display_data"
    }
   ],
   "source": [
    "plt.rcParams[\"figure.figsize\"] = (10, 10)\n",
    "legends = []\n",
    "for label in losses.keys():\n",
    "    c = {\n",
    "        \"most-influential\": \"darkred\",\n",
    "        \"least-influential\": \"steelblue\",\n",
    "        \"random-neutral\": \"grey\",\n",
    "        \"random-entailment\": \"salmon\",\n",
    "        \"random-contradiction\": \"skyblue\"\n",
    "    }[label]\n",
    "    data_for_visualization = np.array(losses[label])\n",
    "    if data_for_visualization.shape[0] != 1:\n",
    "        data_mean = data_for_visualization.mean(axis=0)\n",
    "        data_max = data_for_visualization.max(axis=0)\n",
    "        data_min = data_for_visualization.min(axis=0)\n",
    "        data_std = data_for_visualization.std(axis=0)\n",
    "        plt.plot(\n",
    "            learning_rates,\n",
    "            data_mean,\n",
    "            color=c,\n",
    "            linestyle=(\n",
    "                \"--\" if \"random\" in label else None))\n",
    "        plt.fill_between(\n",
    "            learning_rates,\n",
    "            data_mean + 1. * data_std,\n",
    "            data_mean - 1. * data_std,\n",
    "            alpha=(\n",
    "                0.1 if \"random\" in label else 0.2),\n",
    "            color=c)\n",
    "#         plt.fill_between(\n",
    "#             learning_rates,\n",
    "#             data_max,\n",
    "#             data_min, alpha=0.1, color=c)\n",
    "        legends.append(label)\n",
    "    else:\n",
    "        plt.plot(\n",
    "            learning_rates,\n",
    "            data_for_visualization[0, ...],\n",
    "            color=c)\n",
    "        legends.append(label)\n",
    "\n",
    "plt.legend(legends, fontsize=15)\n",
    "plt.xlabel(\"learning rate\", fontsize=30)\n",
    "plt.ylabel(\"Loss\", fontsize=30)\n",
    "plt.title(\"Loss of the Imitator Model\", fontsize=30)\n",
    "plt.xscale(\"log\")\n",
    "plt.yscale(\"log\")\n",
    "plt.savefig(\"./20200719-fig1.pdf\")"
   ]
  },
  {
   "cell_type": "code",
   "execution_count": null,
   "metadata": {},
   "outputs": [],
   "source": []
  },
  {
   "cell_type": "code",
   "execution_count": null,
   "metadata": {},
   "outputs": [],
   "source": []
  },
  {
   "cell_type": "code",
   "execution_count": null,
   "metadata": {},
   "outputs": [],
   "source": []
  }
 ],
 "metadata": {
  "kernelspec": {
   "display_name": "Python 3",
   "language": "python",
   "name": "python3"
  },
  "language_info": {
   "codemirror_mode": {
    "name": "ipython",
    "version": 3
   },
   "file_extension": ".py",
   "mimetype": "text/x-python",
   "name": "python",
   "nbconvert_exporter": "python",
   "pygments_lexer": "ipython3",
   "version": "3.7.7"
  }
 },
 "nbformat": 4,
 "nbformat_minor": 4
}
