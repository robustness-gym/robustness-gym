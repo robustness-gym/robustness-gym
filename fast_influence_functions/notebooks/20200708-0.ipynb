{
 "cells": [
  {
   "cell_type": "code",
   "execution_count": 1,
   "metadata": {},
   "outputs": [],
   "source": [
    "from transformers import (\n",
    "    AutoModelForSequenceClassification,\n",
    "    AutoTokenizer,\n",
    "    GlueDataset,\n",
    "    GlueDataTrainingArguments,\n",
    "    Trainer,\n",
    "    TrainingArguments,\n",
    "    default_data_collator,\n",
    "    glue_compute_metrics,\n",
    "    glue_output_modes)\n",
    "from influence_utils.utils_hans import HansDataset\n",
    "\n",
    "import torch\n",
    "import numpy as np\n",
    "from torch.utils.data.dataloader import DataLoader\n",
    "from torch.utils.data.sampler import RandomSampler, SequentialSampler\n",
    "from influence_utils.influence import compute_s_test\n",
    "from influence_utils import glue_utils"
   ]
  },
  {
   "cell_type": "code",
   "execution_count": 2,
   "metadata": {},
   "outputs": [],
   "source": [
    "# dir_name = \"/export/home/Experiments/20200708/MNLI_data/remove_100_harmful/output_dir/\""
   ]
  },
  {
   "cell_type": "code",
   "execution_count": 3,
   "metadata": {},
   "outputs": [
    {
     "data": {
      "text/plain": [
       "['/export/home/Experiments/20200708/MNLI_data/remove_100_random/output_dir/',\n",
       " '/export/home/Experiments/20200708/MNLI_data/remove_100_helpful/output_dir/',\n",
       " '/export/home/Experiments/20200708/MNLI_data/remove_100_harmful/output_dir/',\n",
       " '/export/home/Experiments/20200708/MNLI_data/remove_20_helpful/output_dir/',\n",
       " '/export/home/Experiments/20200708/MNLI_data/remove_1_harmful/output_dir/',\n",
       " '/export/home/Experiments/20200708/MNLI_data/remove_1_helpful/output_dir/',\n",
       " '/export/home/Experiments/20200708/MNLI_data/remove_1_random/output_dir/',\n",
       " '/export/home/Experiments/20200708/MNLI_data/remove_20_random/output_dir/',\n",
       " '/export/home/Experiments/20200708/MNLI_data/remove_20_harmful/output_dir/',\n",
       " '/export/home/Experiments/20200706/']"
      ]
     },
     "execution_count": 3,
     "metadata": {},
     "output_type": "execute_result"
    }
   ],
   "source": [
    "from glob import glob\n",
    "from collections import defaultdict\n",
    "glob(\"/export/home/Experiments/20200708/MNLI_data/remove_*/output_dir/\") + [\"/export/home/Experiments/20200706/\"]"
   ]
  },
  {
   "cell_type": "code",
   "execution_count": 4,
   "metadata": {},
   "outputs": [
    {
     "name": "stderr",
     "output_type": "stream",
     "text": [
      "You are instantiating a Trainer but Tensorboard is not installed. You should consider installing it.\n"
     ]
    },
    {
     "data": {
      "text/html": [
       "\n",
       "                Logging results to <a href=\"https://wandb.com\" target=\"_blank\">Weights & Biases</a> <a href=\"https://docs.wandb.com/integrations/jupyter.html\" target=\"_blank\">(Documentation)</a>.<br/>\n",
       "                Project page: <a href=\"https://app.wandb.ai/hanguo/huggingface\" target=\"_blank\">https://app.wandb.ai/hanguo/huggingface</a><br/>\n",
       "                Run page: <a href=\"https://app.wandb.ai/hanguo/huggingface/runs/1wqqjc90\" target=\"_blank\">https://app.wandb.ai/hanguo/huggingface/runs/1wqqjc90</a><br/>\n",
       "            "
      ],
      "text/plain": [
       "<IPython.core.display.HTML object>"
      ]
     },
     "metadata": {},
     "output_type": "display_data"
    },
    {
     "name": "stdout",
     "output_type": "stream",
     "text": [
      "Dirname: /export/home/Experiments/20200708/MNLI_data/remove_100_random/output_dir/\n",
      "tensor([[-1.0040,  1.2066, -0.6275]], device='cuda:0') tensor([[0.0864, 0.7878, 0.1259]], device='cuda:0') tensor(2.4491, device='cuda:0')\n"
     ]
    },
    {
     "name": "stderr",
     "output_type": "stream",
     "text": [
      "You are instantiating a Trainer but Tensorboard is not installed. You should consider installing it.\n"
     ]
    },
    {
     "data": {
      "text/html": [
       "\n",
       "                Logging results to <a href=\"https://wandb.com\" target=\"_blank\">Weights & Biases</a> <a href=\"https://docs.wandb.com/integrations/jupyter.html\" target=\"_blank\">(Documentation)</a>.<br/>\n",
       "                Project page: <a href=\"https://app.wandb.ai/hanguo/huggingface\" target=\"_blank\">https://app.wandb.ai/hanguo/huggingface</a><br/>\n",
       "                Run page: <a href=\"https://app.wandb.ai/hanguo/huggingface/runs/1c2xnhxa\" target=\"_blank\">https://app.wandb.ai/hanguo/huggingface/runs/1c2xnhxa</a><br/>\n",
       "            "
      ],
      "text/plain": [
       "<IPython.core.display.HTML object>"
      ]
     },
     "metadata": {},
     "output_type": "display_data"
    },
    {
     "name": "stdout",
     "output_type": "stream",
     "text": [
      "Dirname: /export/home/Experiments/20200708/MNLI_data/remove_100_helpful/output_dir/\n",
      "tensor([[-1.7610,  1.6030, -0.5113]], device='cuda:0') tensor([[0.0299, 0.8656, 0.1045]], device='cuda:0') tensor(3.5084, device='cuda:0')\n"
     ]
    },
    {
     "name": "stderr",
     "output_type": "stream",
     "text": [
      "You are instantiating a Trainer but Tensorboard is not installed. You should consider installing it.\n"
     ]
    },
    {
     "data": {
      "text/html": [
       "\n",
       "                Logging results to <a href=\"https://wandb.com\" target=\"_blank\">Weights & Biases</a> <a href=\"https://docs.wandb.com/integrations/jupyter.html\" target=\"_blank\">(Documentation)</a>.<br/>\n",
       "                Project page: <a href=\"https://app.wandb.ai/hanguo/huggingface\" target=\"_blank\">https://app.wandb.ai/hanguo/huggingface</a><br/>\n",
       "                Run page: <a href=\"https://app.wandb.ai/hanguo/huggingface/runs/3fc71ug6\" target=\"_blank\">https://app.wandb.ai/hanguo/huggingface/runs/3fc71ug6</a><br/>\n",
       "            "
      ],
      "text/plain": [
       "<IPython.core.display.HTML object>"
      ]
     },
     "metadata": {},
     "output_type": "display_data"
    },
    {
     "name": "stdout",
     "output_type": "stream",
     "text": [
      "Dirname: /export/home/Experiments/20200708/MNLI_data/remove_100_harmful/output_dir/\n",
      "tensor([[-0.7497,  0.6718, -0.3156]], device='cuda:0') tensor([[0.1496, 0.6196, 0.2308]], device='cuda:0') tensor(1.9001, device='cuda:0')\n"
     ]
    },
    {
     "name": "stderr",
     "output_type": "stream",
     "text": [
      "You are instantiating a Trainer but Tensorboard is not installed. You should consider installing it.\n"
     ]
    },
    {
     "data": {
      "text/html": [
       "\n",
       "                Logging results to <a href=\"https://wandb.com\" target=\"_blank\">Weights & Biases</a> <a href=\"https://docs.wandb.com/integrations/jupyter.html\" target=\"_blank\">(Documentation)</a>.<br/>\n",
       "                Project page: <a href=\"https://app.wandb.ai/hanguo/huggingface\" target=\"_blank\">https://app.wandb.ai/hanguo/huggingface</a><br/>\n",
       "                Run page: <a href=\"https://app.wandb.ai/hanguo/huggingface/runs/gu0lmfs1\" target=\"_blank\">https://app.wandb.ai/hanguo/huggingface/runs/gu0lmfs1</a><br/>\n",
       "            "
      ],
      "text/plain": [
       "<IPython.core.display.HTML object>"
      ]
     },
     "metadata": {},
     "output_type": "display_data"
    },
    {
     "name": "stdout",
     "output_type": "stream",
     "text": [
      "Dirname: /export/home/Experiments/20200708/MNLI_data/remove_20_helpful/output_dir/\n",
      "tensor([[-1.3308,  1.3717, -0.5758]], device='cuda:0') tensor([[0.0554, 0.8267, 0.1179]], device='cuda:0') tensor(2.8928, device='cuda:0')\n"
     ]
    },
    {
     "name": "stderr",
     "output_type": "stream",
     "text": [
      "You are instantiating a Trainer but Tensorboard is not installed. You should consider installing it.\n"
     ]
    },
    {
     "data": {
      "text/html": [
       "\n",
       "                Logging results to <a href=\"https://wandb.com\" target=\"_blank\">Weights & Biases</a> <a href=\"https://docs.wandb.com/integrations/jupyter.html\" target=\"_blank\">(Documentation)</a>.<br/>\n",
       "                Project page: <a href=\"https://app.wandb.ai/hanguo/huggingface\" target=\"_blank\">https://app.wandb.ai/hanguo/huggingface</a><br/>\n",
       "                Run page: <a href=\"https://app.wandb.ai/hanguo/huggingface/runs/23mu4vdu\" target=\"_blank\">https://app.wandb.ai/hanguo/huggingface/runs/23mu4vdu</a><br/>\n",
       "            "
      ],
      "text/plain": [
       "<IPython.core.display.HTML object>"
      ]
     },
     "metadata": {},
     "output_type": "display_data"
    },
    {
     "name": "stdout",
     "output_type": "stream",
     "text": [
      "Dirname: /export/home/Experiments/20200708/MNLI_data/remove_1_harmful/output_dir/\n",
      "tensor([[-1.1228,  1.1602, -0.6199]], device='cuda:0') tensor([[0.0803, 0.7870, 0.1327]], device='cuda:0') tensor(2.5225, device='cuda:0')\n"
     ]
    },
    {
     "name": "stderr",
     "output_type": "stream",
     "text": [
      "You are instantiating a Trainer but Tensorboard is not installed. You should consider installing it.\n"
     ]
    },
    {
     "data": {
      "text/html": [
       "\n",
       "                Logging results to <a href=\"https://wandb.com\" target=\"_blank\">Weights & Biases</a> <a href=\"https://docs.wandb.com/integrations/jupyter.html\" target=\"_blank\">(Documentation)</a>.<br/>\n",
       "                Project page: <a href=\"https://app.wandb.ai/hanguo/huggingface\" target=\"_blank\">https://app.wandb.ai/hanguo/huggingface</a><br/>\n",
       "                Run page: <a href=\"https://app.wandb.ai/hanguo/huggingface/runs/rsbm8ppf\" target=\"_blank\">https://app.wandb.ai/hanguo/huggingface/runs/rsbm8ppf</a><br/>\n",
       "            "
      ],
      "text/plain": [
       "<IPython.core.display.HTML object>"
      ]
     },
     "metadata": {},
     "output_type": "display_data"
    },
    {
     "name": "stdout",
     "output_type": "stream",
     "text": [
      "Dirname: /export/home/Experiments/20200708/MNLI_data/remove_1_helpful/output_dir/\n",
      "tensor([[-1.0725,  1.2105, -0.6713]], device='cuda:0') tensor([[0.0813, 0.7973, 0.1214]], device='cuda:0') tensor(2.5096, device='cuda:0')\n"
     ]
    },
    {
     "name": "stderr",
     "output_type": "stream",
     "text": [
      "You are instantiating a Trainer but Tensorboard is not installed. You should consider installing it.\n"
     ]
    },
    {
     "data": {
      "text/html": [
       "\n",
       "                Logging results to <a href=\"https://wandb.com\" target=\"_blank\">Weights & Biases</a> <a href=\"https://docs.wandb.com/integrations/jupyter.html\" target=\"_blank\">(Documentation)</a>.<br/>\n",
       "                Project page: <a href=\"https://app.wandb.ai/hanguo/huggingface\" target=\"_blank\">https://app.wandb.ai/hanguo/huggingface</a><br/>\n",
       "                Run page: <a href=\"https://app.wandb.ai/hanguo/huggingface/runs/takagc9r\" target=\"_blank\">https://app.wandb.ai/hanguo/huggingface/runs/takagc9r</a><br/>\n",
       "            "
      ],
      "text/plain": [
       "<IPython.core.display.HTML object>"
      ]
     },
     "metadata": {},
     "output_type": "display_data"
    },
    {
     "name": "stdout",
     "output_type": "stream",
     "text": [
      "Dirname: /export/home/Experiments/20200708/MNLI_data/remove_1_random/output_dir/\n",
      "tensor([[-1.0991,  1.1363, -0.6035]], device='cuda:0') tensor([[0.0834, 0.7797, 0.1369]], device='cuda:0') tensor(2.4842, device='cuda:0')\n"
     ]
    },
    {
     "name": "stderr",
     "output_type": "stream",
     "text": [
      "You are instantiating a Trainer but Tensorboard is not installed. You should consider installing it.\n"
     ]
    },
    {
     "data": {
      "text/html": [
       "\n",
       "                Logging results to <a href=\"https://wandb.com\" target=\"_blank\">Weights & Biases</a> <a href=\"https://docs.wandb.com/integrations/jupyter.html\" target=\"_blank\">(Documentation)</a>.<br/>\n",
       "                Project page: <a href=\"https://app.wandb.ai/hanguo/huggingface\" target=\"_blank\">https://app.wandb.ai/hanguo/huggingface</a><br/>\n",
       "                Run page: <a href=\"https://app.wandb.ai/hanguo/huggingface/runs/1c64fcoj\" target=\"_blank\">https://app.wandb.ai/hanguo/huggingface/runs/1c64fcoj</a><br/>\n",
       "            "
      ],
      "text/plain": [
       "<IPython.core.display.HTML object>"
      ]
     },
     "metadata": {},
     "output_type": "display_data"
    },
    {
     "name": "stdout",
     "output_type": "stream",
     "text": [
      "Dirname: /export/home/Experiments/20200708/MNLI_data/remove_20_random/output_dir/\n",
      "tensor([[-1.0223,  1.3247, -0.8949]], device='cuda:0') tensor([[0.0794, 0.8304, 0.0902]], device='cuda:0') tensor(2.5329, device='cuda:0')\n"
     ]
    },
    {
     "name": "stderr",
     "output_type": "stream",
     "text": [
      "You are instantiating a Trainer but Tensorboard is not installed. You should consider installing it.\n"
     ]
    },
    {
     "data": {
      "text/html": [
       "\n",
       "                Logging results to <a href=\"https://wandb.com\" target=\"_blank\">Weights & Biases</a> <a href=\"https://docs.wandb.com/integrations/jupyter.html\" target=\"_blank\">(Documentation)</a>.<br/>\n",
       "                Project page: <a href=\"https://app.wandb.ai/hanguo/huggingface\" target=\"_blank\">https://app.wandb.ai/hanguo/huggingface</a><br/>\n",
       "                Run page: <a href=\"https://app.wandb.ai/hanguo/huggingface/runs/1sne09v9\" target=\"_blank\">https://app.wandb.ai/hanguo/huggingface/runs/1sne09v9</a><br/>\n",
       "            "
      ],
      "text/plain": [
       "<IPython.core.display.HTML object>"
      ]
     },
     "metadata": {},
     "output_type": "display_data"
    },
    {
     "name": "stdout",
     "output_type": "stream",
     "text": [
      "Dirname: /export/home/Experiments/20200708/MNLI_data/remove_20_harmful/output_dir/\n",
      "tensor([[-0.9332,  1.1125, -0.6165]], device='cuda:0') tensor([[0.0989, 0.7653, 0.1358]], device='cuda:0') tensor(2.3132, device='cuda:0')\n"
     ]
    },
    {
     "name": "stderr",
     "output_type": "stream",
     "text": [
      "You are instantiating a Trainer but Tensorboard is not installed. You should consider installing it.\n"
     ]
    },
    {
     "data": {
      "text/html": [
       "\n",
       "                Logging results to <a href=\"https://wandb.com\" target=\"_blank\">Weights & Biases</a> <a href=\"https://docs.wandb.com/integrations/jupyter.html\" target=\"_blank\">(Documentation)</a>.<br/>\n",
       "                Project page: <a href=\"https://app.wandb.ai/hanguo/huggingface\" target=\"_blank\">https://app.wandb.ai/hanguo/huggingface</a><br/>\n",
       "                Run page: <a href=\"https://app.wandb.ai/hanguo/huggingface/runs/m91ti7cv\" target=\"_blank\">https://app.wandb.ai/hanguo/huggingface/runs/m91ti7cv</a><br/>\n",
       "            "
      ],
      "text/plain": [
       "<IPython.core.display.HTML object>"
      ]
     },
     "metadata": {},
     "output_type": "display_data"
    },
    {
     "name": "stdout",
     "output_type": "stream",
     "text": [
      "Dirname: /export/home/Experiments/20200706/\n",
      "tensor([[-1.0180,  1.2213, -0.6772]], device='cuda:0') tensor([[0.0848, 0.7960, 0.1192]], device='cuda:0') tensor(2.4675, device='cuda:0')\n"
     ]
    }
   ],
   "source": [
    "output_collections = defaultdict(dict)\n",
    "for dir_name in glob(\"/export/home/Experiments/20200708/MNLI_data/remove_*/output_dir/\") + [\"/export/home/Experiments/20200706/\"]:\n",
    "    tokenizer = AutoTokenizer.from_pretrained(dir_name)\n",
    "    model = AutoModelForSequenceClassification.from_pretrained(dir_name)\n",
    "    model.eval()\n",
    "\n",
    "    train_dataset = GlueDataset(\n",
    "        args=GlueDataTrainingArguments(\n",
    "            task_name=\"mnli\",\n",
    "            max_seq_length=128,\n",
    "            data_dir=\"/export/home/Data/Glue/MNLI/\"),\n",
    "        tokenizer=tokenizer)\n",
    "\n",
    "    eval_dataset = GlueDataset(\n",
    "        args=GlueDataTrainingArguments(\n",
    "            task_name=\"mnli\",\n",
    "            max_seq_length=128,\n",
    "            data_dir=\"/export/home/Data/Glue/MNLI/\"),\n",
    "        tokenizer=tokenizer,\n",
    "        mode=\"dev\")\n",
    "\n",
    "\n",
    "    def hans_data_collator(features):\n",
    "        \"\"\"\n",
    "        Data collator that removes the \"pairID\" key if present.\n",
    "        \"\"\"\n",
    "        batch = default_data_collator(features)\n",
    "        _ = batch.pop(\"pairID\", None)\n",
    "        return batch\n",
    "\n",
    "\n",
    "    def get_dataloader(dataset, batch_size, data_collator) -> DataLoader:\n",
    "        sampler = SequentialSampler(dataset)\n",
    "\n",
    "        data_loader = DataLoader(\n",
    "            dataset,\n",
    "            sampler=sampler,\n",
    "            batch_size=batch_size,\n",
    "            collate_fn=data_collator,\n",
    "        )\n",
    "\n",
    "        return data_loader\n",
    "\n",
    "\n",
    "    def decode_one_example(inputs, logits=None):\n",
    "        if inputs[\"input_ids\"].shape[0] != 1:\n",
    "            raise ValueError\n",
    "\n",
    "        X = tokenizer.decode(inputs[\"input_ids\"][0])\n",
    "        Y = train_dataset.label_list[inputs[\"labels\"].item()]\n",
    "        if logits is not None:\n",
    "            Y_hat = train_dataset.label_list[\n",
    "                logits.argmax(dim=-1).item()]\n",
    "            return X, Y, Y_hat\n",
    "        else:\n",
    "            return X, Y\n",
    "\n",
    "    output_mode = glue_output_modes[\"mnli\"]\n",
    "    def build_compute_metrics_fn(task_name: str):\n",
    "        def compute_metrics_fn(p):\n",
    "            if output_mode == \"classification\":\n",
    "                preds = np.argmax(p.predictions, axis=1)\n",
    "            elif output_mode == \"regression\":\n",
    "                preds = np.squeeze(p.predictions)\n",
    "            return glue_compute_metrics(task_name, preds, p.label_ids)\n",
    "\n",
    "        return compute_metrics_fn\n",
    "\n",
    "\n",
    "    trainer = Trainer(\n",
    "        model=model,\n",
    "        args=TrainingArguments(output_dir=\"./tmp-output\", per_device_train_batch_size=128, per_device_eval_batch_size=128, learning_rate=5e-5, logging_steps=100),\n",
    "        data_collator=hans_data_collator,\n",
    "        train_dataset=train_dataset,\n",
    "        eval_dataset=eval_dataset,\n",
    "        compute_metrics=build_compute_metrics_fn(\"mnli\"),\n",
    "    )\n",
    "\n",
    "    train_batch_data_loader = get_dataloader(\n",
    "        train_dataset,\n",
    "        batch_size=160,\n",
    "        data_collator=hans_data_collator)\n",
    "\n",
    "    train_instance_data_loader = get_dataloader(\n",
    "        train_dataset,\n",
    "        batch_size=1,\n",
    "        data_collator=hans_data_collator)\n",
    "\n",
    "    eval_instance_data_loader = get_dataloader(\n",
    "        eval_dataset,\n",
    "        batch_size=1,\n",
    "        data_collator=hans_data_collator)\n",
    "\n",
    "\n",
    "    def run_forward(model, inputs):\n",
    "        # Implicitly used trainer and model\n",
    "        has_labels = any(inputs.get(k) is not None for k in [\"labels\", \"lm_labels\", \"masked_lm_labels\"])\n",
    "\n",
    "        for k, v in inputs.items():\n",
    "            if isinstance(v, torch.Tensor):\n",
    "                inputs[k] = v.to(trainer.args.device)\n",
    "        if trainer.args.past_index >= 0:\n",
    "            inputs[\"mems\"] = past\n",
    "\n",
    "        with torch.no_grad():\n",
    "            outputs = model(**inputs)\n",
    "            if has_labels:\n",
    "                step_eval_loss, logits = outputs[:2]\n",
    "                return step_eval_loss, logits\n",
    "            else:\n",
    "                logits = outputs[0]\n",
    "                return logits\n",
    "\n",
    "\n",
    "    def visualize(inputs):\n",
    "        X, Y = decode_one_example(inputs)\n",
    "        premise, hypothesis = X.split(\"[CLS]\")[1].split(\"[SEP]\")[:2]\n",
    "        print(f\"\\tP: {premise.strip()}\\n\\tH: {hypothesis.strip()}\\n\\tL: {Y}\")\n",
    "        \n",
    "        \n",
    "    for i, test_inputs in enumerate(eval_instance_data_loader):\n",
    "        step_eval_loss, logits = run_forward(model, test_inputs)\n",
    "        if i == 41:\n",
    "            break\n",
    "\n",
    "    print(f\"Dirname: {dir_name}\")\n",
    "    print(logits, logits.softmax(dim=-1), step_eval_loss)\n",
    "    if \"20200706\" in dir_name:\n",
    "        for remove_type in [\"random\", \"harmful\", \"helpful\"]:\n",
    "            output_collections[remove_type][0] = (logits.softmax(dim=-1), step_eval_loss)\n",
    "    else:\n",
    "        if \"remove_100_random\" in dir_name:\n",
    "            remove_type = \"random\"\n",
    "            num_remove = 100\n",
    "        if \"remove_20_random\" in dir_name:\n",
    "            remove_type = \"random\"\n",
    "            num_remove = 20\n",
    "        if \"remove_1_random\" in dir_name:\n",
    "            remove_type = \"random\"\n",
    "            num_remove = 1\n",
    "        if \"remove_100_harmful\" in dir_name:\n",
    "            remove_type = \"harmful\"\n",
    "            num_remove = 100\n",
    "        if \"remove_20_harmful\" in dir_name:\n",
    "            remove_type = \"harmful\"\n",
    "            num_remove = 20\n",
    "        if \"remove_1_harmful\" in dir_name:\n",
    "            remove_type = \"harmful\"\n",
    "            num_remove = 1\n",
    "        if \"remove_100_helpful\" in dir_name:\n",
    "            remove_type = \"helpful\"\n",
    "            num_remove = 100\n",
    "        if \"remove_20_helpful\" in dir_name:\n",
    "            remove_type = \"helpful\"\n",
    "            num_remove = 20\n",
    "        if \"remove_1_helpful\" in dir_name:\n",
    "            remove_type = \"helpful\"\n",
    "            num_remove = 1\n",
    "        \n",
    "        output_collections[remove_type][num_remove] = (logits.softmax(dim=-1), step_eval_loss)"
   ]
  },
  {
   "cell_type": "code",
   "execution_count": 5,
   "metadata": {},
   "outputs": [],
   "source": [
    "import matplotlib.pyplot as plt"
   ]
  },
  {
   "cell_type": "code",
   "execution_count": null,
   "metadata": {},
   "outputs": [],
   "source": []
  },
  {
   "cell_type": "code",
   "execution_count": 6,
   "metadata": {},
   "outputs": [
    {
     "data": {
      "text/plain": [
       "Text(0.5, 0, 'Number of data-points removed')"
      ]
     },
     "execution_count": 6,
     "metadata": {},
     "output_type": "execute_result"
    },
    {
     "data": {
      "image/png": "[encoded data removed]",
      "text/plain": [
       "<Figure size 1440x216 with 4 Axes>"
      ]
     },
     "metadata": {
      "needs_background": "light"
     },
     "output_type": "display_data"
    }
   ],
   "source": [
    "plt.rcParams[\"figure.figsize\"] = (20,3)\n",
    "\n",
    "for j in range(3):\n",
    "    plt.subplot(1, 4, j + 1)\n",
    "    plt.title(f\"Probs of {train_dataset.label_list[j]}\")\n",
    "    remove_types = []\n",
    "    for remove_type in output_collections.keys():\n",
    "        output_tuple = output_collections[remove_type]\n",
    "        Y = [output_tuple[0][0].squeeze(dim=0)[j], output_tuple[1][0].squeeze(dim=0)[j], output_tuple[20][0].squeeze(dim=0)[j], output_tuple[100][0].squeeze(dim=0)[j]]\n",
    "        X = [0, 1, 20, 100]\n",
    "        plt.plot(X, Y)\n",
    "        remove_types.append(remove_type)\n",
    "    plt.legend(remove_types)\n",
    "    plt.xlabel(\"Number of data-points removed\")\n",
    "    \n",
    "\n",
    "plt.subplot(1, 4, 4)\n",
    "plt.title(\"Loss\")\n",
    "remove_types = []\n",
    "for remove_type in output_collections.keys():\n",
    "    output_tuple = output_collections[remove_type]\n",
    "    Y = [output_tuple[0][1], output_tuple[1][1], output_tuple[20][1], output_tuple[100][1]]\n",
    "    X = [0, 1, 20, 100]\n",
    "    plt.plot(X, Y)\n",
    "    remove_types.append(remove_type)\n",
    "plt.legend(remove_types)\n",
    "plt.xlabel(\"Number of data-points removed\")"
   ]
  },
  {
   "cell_type": "code",
   "execution_count": null,
   "metadata": {},
   "outputs": [],
   "source": []
  },
  {
   "cell_type": "code",
   "execution_count": null,
   "metadata": {},
   "outputs": [],
   "source": []
  },
  {
   "cell_type": "code",
   "execution_count": null,
   "metadata": {},
   "outputs": [],
   "source": []
  },
  {
   "cell_type": "code",
   "execution_count": null,
   "metadata": {},
   "outputs": [],
   "source": []
  },
  {
   "cell_type": "code",
   "execution_count": null,
   "metadata": {},
   "outputs": [],
   "source": []
  },
  {
   "cell_type": "code",
   "execution_count": null,
   "metadata": {},
   "outputs": [],
   "source": []
  },
  {
   "cell_type": "code",
   "execution_count": null,
   "metadata": {},
   "outputs": [],
   "source": []
  }
 ],
 "metadata": {
  "kernelspec": {
   "display_name": "Python 3",
   "language": "python",
   "name": "python3"
  },
  "language_info": {
   "codemirror_mode": {
    "name": "ipython",
    "version": 3
   },
   "file_extension": ".py",
   "mimetype": "text/x-python",
   "name": "python",
   "nbconvert_exporter": "python",
   "pygments_lexer": "ipython3",
   "version": "3.7.7"
  }
 },
 "nbformat": 4,
 "nbformat_minor": 4
}
