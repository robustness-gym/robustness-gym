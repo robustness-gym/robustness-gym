{
 "cells": [
  {
   "cell_type": "code",
   "execution_count": 1,
   "metadata": {},
   "outputs": [],
   "source": [
    "import torch\n",
    "from typing import List\n",
    "from collections import defaultdict"
   ]
  },
  {
   "cell_type": "code",
   "execution_count": 2,
   "metadata": {},
   "outputs": [],
   "source": [
    "with open(\"/export/home/Data/WikiText-2/wikitext-2-raw/wiki.train.raw\") as f:\n",
    "    full_data = [d.strip() for d in f.readlines()]"
   ]
  },
  {
   "cell_type": "code",
   "execution_count": 3,
   "metadata": {},
   "outputs": [],
   "source": [
    "def partition_wikitext2_data(lines: List[str]) -> List[List[List[str]]]:\n",
    "    \"\"\"Partition the WikiText2 Data into the following format:\n",
    "    \n",
    "    [\n",
    "        # Article 0\n",
    "        [\n",
    "            # Section 0\n",
    "            [line-i, line-i+1, ..., ]\n",
    "            # Section 1\n",
    "            [line-i, line-i+1, ..., ]\n",
    "            ...\n",
    "        ]\n",
    "        # Article 1\n",
    "        [\n",
    "            # Section 0\n",
    "            [line-i, line-i+1, ..., ]\n",
    "            # Section 1\n",
    "            [line-i, line-i+1, ..., ]\n",
    "            ...\n",
    "        ]\n",
    "    ]\n",
    "    \"\"\"\n",
    "    if lines[0] != \"\":\n",
    "        raise ValueError\n",
    "\n",
    "    article_index = 0\n",
    "    subsections = []\n",
    "    sections = []\n",
    "    articles = []\n",
    "    last_line = lines[0]\n",
    "    for line in lines[1:]:\n",
    "        maybe_new_something = last_line == \"\"\n",
    "        maybe_new_article = line.startswith(\"=\")\n",
    "        maybe_new_section = line.startswith(\"= =\")\n",
    "        maybe_new_subsection = line.startswith(\"= = =\")\n",
    "        corner_article_case = line.startswith(\"= De dezas a espwa\")\n",
    "        \n",
    "        if maybe_new_something and maybe_new_subsection:\n",
    "            subsections.append(line)\n",
    "        elif maybe_new_something and maybe_new_section:\n",
    "            # new section\n",
    "            sections.append(subsections)\n",
    "            subsections = [line]\n",
    "        elif maybe_new_something and maybe_new_article and not corner_article_case:\n",
    "            sections.append(subsections)\n",
    "            subsections = [line]\n",
    "            articles.append(sections)\n",
    "            sections = []\n",
    "        else:\n",
    "            subsections.append(line)\n",
    "        \n",
    "        last_line = line\n",
    "\n",
    "    sections.append(subsections)\n",
    "    articles.append(sections)\n",
    "    return articles"
   ]
  },
  {
   "cell_type": "code",
   "execution_count": 4,
   "metadata": {},
   "outputs": [
    {
     "data": {
      "text/plain": [
       "601"
      ]
     },
     "execution_count": 4,
     "metadata": {},
     "output_type": "execute_result"
    }
   ],
   "source": [
    "articles = partition_wikitext2_data(full_data)\n",
    "# print(partitioned_data[1])\n",
    "len(articles)"
   ]
  },
  {
   "cell_type": "code",
   "execution_count": null,
   "metadata": {},
   "outputs": [],
   "source": []
  },
  {
   "cell_type": "code",
   "execution_count": 5,
   "metadata": {},
   "outputs": [],
   "source": [
    "def join_sections(sections: List[List[str]]) -> str:\n",
    "    # each section is a list of subsections\n",
    "    joined_subsections = [\n",
    "        \"\\n\".join(subsections)\n",
    "        for subsections in sections]\n",
    "    return \"\\n\".join(joined_subsections)\n",
    "\n",
    "\n",
    "def join_articles(articles: List[List[List[str]]]) -> str:\n",
    "    # Each article in a list of sections\n",
    "    joined_sections = [\n",
    "        join_sections(sections)\n",
    "        for sections in articles]\n",
    "    return \"\\n\".join(joined_sections)"
   ]
  },
  {
   "cell_type": "code",
   "execution_count": 6,
   "metadata": {},
   "outputs": [
    {
     "data": {
      "text/plain": [
       "True"
      ]
     },
     "execution_count": 6,
     "metadata": {},
     "output_type": "execute_result"
    }
   ],
   "source": [
    "# Sanity check\n",
    "join_articles(articles).splitlines() == full_data[:-1]"
   ]
  },
  {
   "cell_type": "code",
   "execution_count": null,
   "metadata": {},
   "outputs": [],
   "source": []
  },
  {
   "cell_type": "code",
   "execution_count": 7,
   "metadata": {},
   "outputs": [
    {
     "name": "stderr",
     "output_type": "stream",
     "text": [
      "100%|██████████| 600/600 [01:05<00:00,  9.19it/s]\n"
     ]
    }
   ],
   "source": [
    "import os\n",
    "from copy import deepcopy\n",
    "from tqdm import trange\n",
    "base_directory = \"/export/home/Data/WikiText-2/articles/\"\n",
    "\n",
    "if articles[0] != [[]]:\n",
    "    raise ValueError\n",
    "\n",
    "cleaned_articles = articles[1:]\n",
    "for i in trange(len(cleaned_articles)):\n",
    "    cleaned_articles_copy = deepcopy(cleaned_articles)\n",
    "    cleaned_article_i = cleaned_articles_copy.pop(i)\n",
    "    if len(cleaned_articles_copy) != len(cleaned_articles) - 1:\n",
    "        raise ValueError\n",
    "    \n",
    "    article_i_file_name = os.path.join(\n",
    "        base_directory, f\"article-{i}.txt\")\n",
    "    article_no_i_file_name = os.path.join(\n",
    "        base_directory, f\"article-no-{i}.txt\")\n",
    "    article_i_string = join_sections(cleaned_article_i)\n",
    "    article_no_i_string = join_articles(cleaned_articles_copy)\n",
    "    with open(article_i_file_name, \"w\") as f:\n",
    "        f.write(article_i_string)\n",
    "    with open(article_no_i_file_name, \"w\") as f:\n",
    "        f.write(article_no_i_string)"
   ]
  },
  {
   "cell_type": "code",
   "execution_count": null,
   "metadata": {},
   "outputs": [],
   "source": []
  },
  {
   "cell_type": "code",
   "execution_count": null,
   "metadata": {},
   "outputs": [],
   "source": []
  },
  {
   "cell_type": "code",
   "execution_count": null,
   "metadata": {},
   "outputs": [],
   "source": []
  }
 ],
 "metadata": {
  "kernelspec": {
   "display_name": "Python 3",
   "language": "python",
   "name": "python3"
  },
  "language_info": {
   "codemirror_mode": {
    "name": "ipython",
    "version": 3
   },
   "file_extension": ".py",
   "mimetype": "text/x-python",
   "name": "python",
   "nbconvert_exporter": "python",
   "pygments_lexer": "ipython3",
   "version": "3.7.7"
  }
 },
 "nbformat": 4,
 "nbformat_minor": 4
}
