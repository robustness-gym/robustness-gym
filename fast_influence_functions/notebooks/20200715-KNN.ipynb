{
 "cells": [
  {
   "cell_type": "code",
   "execution_count": 1,
   "metadata": {},
   "outputs": [],
   "source": [
    "from transformers import (\n",
    "    AutoModelForSequenceClassification,\n",
    "    AutoTokenizer,\n",
    "    GlueDataset,\n",
    "    GlueDataTrainingArguments,\n",
    "    Trainer,\n",
    "    TrainingArguments,\n",
    "    default_data_collator,\n",
    "    glue_compute_metrics,\n",
    "    glue_output_modes)\n",
    "from influence_utils.utils_hans import HansDataset\n",
    "\n",
    "import torch\n",
    "import numpy as np\n",
    "from torch.utils.data.dataloader import DataLoader\n",
    "from torch.utils.data.sampler import RandomSampler, SequentialSampler\n",
    "from influence_utils.influence import compute_s_test\n",
    "from influence_utils import glue_utils"
   ]
  },
  {
   "cell_type": "code",
   "execution_count": 2,
   "metadata": {},
   "outputs": [],
   "source": [
    "# dir_name = \"/export/home/Experiments/20200708/MNLI_data/remove_100_harmful/output_dir/\""
   ]
  },
  {
   "cell_type": "code",
   "execution_count": 3,
   "metadata": {},
   "outputs": [
    {
     "data": {
      "text/plain": [
       "(1, 9, 26, 36, 36)"
      ]
     },
     "execution_count": 3,
     "metadata": {},
     "output_type": "execute_result"
    }
   ],
   "source": [
    "from glob import glob\n",
    "from collections import defaultdict\n",
    "original_model_dirs = [\"/export/home/Experiments/20200706/\"]\n",
    "remove_dirs_0 = glob(\"/export/home/Experiments/20200708/MNLI_data/remove_*/output_dir/\")\n",
    "remove_dirs_1 = glob(\"/export/home/Experiments/20200714/MNLI_data/remove_*/output_dir/\")\n",
    "experiment_dirs = original_model_dirs + remove_dirs_0 + remove_dirs_1\n",
    "combined_num_entried = len(original_model_dirs) + len(remove_dirs_0) + len(remove_dirs_1)\n",
    "if len(set(experiment_dirs)) != combined_num_entried:\n",
    "    raise ValueError\n",
    "len(original_model_dirs), len(remove_dirs_0), len(remove_dirs_1), combined_num_entried, len(experiment_dirs)"
   ]
  },
  {
   "cell_type": "code",
   "execution_count": 4,
   "metadata": {},
   "outputs": [],
   "source": [
    "# [_dir.split(\"/\")[-3].split(\"_\") for _dir in experiment_dirs[1:]][13][2:]\n",
    "# glob(\"/export/home/Experiments/20200708/MNLI_data/remove_*/output_dir/\") + [\"/export/home/Experiments/20200706/\"]"
   ]
  },
  {
   "cell_type": "code",
   "execution_count": 5,
   "metadata": {},
   "outputs": [
    {
     "name": "stderr",
     "output_type": "stream",
     "text": [
      "  0%|          | 0/36 [00:00<?, ?it/s]You are instantiating a Trainer but Tensorboard is not installed. You should consider installing it.\n"
     ]
    },
    {
     "data": {
      "text/html": [
       "\n",
       "                Logging results to <a href=\"https://wandb.com\" target=\"_blank\">Weights & Biases</a> <a href=\"https://docs.wandb.com/integrations/jupyter.html\" target=\"_blank\">(Documentation)</a>.<br/>\n",
       "                Project page: <a href=\"https://app.wandb.ai/hanguo/huggingface\" target=\"_blank\">https://app.wandb.ai/hanguo/huggingface</a><br/>\n",
       "                Run page: <a href=\"https://app.wandb.ai/hanguo/huggingface/runs/fhbacgq7\" target=\"_blank\">https://app.wandb.ai/hanguo/huggingface/runs/fhbacgq7</a><br/>\n",
       "            "
      ],
      "text/plain": [
       "<IPython.core.display.HTML object>"
      ]
     },
     "metadata": {},
     "output_type": "display_data"
    },
    {
     "name": "stderr",
     "output_type": "stream",
     "text": [
      "  3%|▎         | 1/36 [00:19<11:12, 19.23s/it]"
     ]
    },
    {
     "name": "stdout",
     "output_type": "stream",
     "text": [
      "Dirname: /export/home/Experiments/20200706/\n",
      "tensor([[-1.0180,  1.2213, -0.6772]], device='cuda:0') tensor([[0.0848, 0.7960, 0.1192]], device='cuda:0') tensor(2.4675, device='cuda:0')\n"
     ]
    },
    {
     "name": "stderr",
     "output_type": "stream",
     "text": [
      "You are instantiating a Trainer but Tensorboard is not installed. You should consider installing it.\n"
     ]
    },
    {
     "data": {
      "text/html": [
       "\n",
       "                Logging results to <a href=\"https://wandb.com\" target=\"_blank\">Weights & Biases</a> <a href=\"https://docs.wandb.com/integrations/jupyter.html\" target=\"_blank\">(Documentation)</a>.<br/>\n",
       "                Project page: <a href=\"https://app.wandb.ai/hanguo/huggingface\" target=\"_blank\">https://app.wandb.ai/hanguo/huggingface</a><br/>\n",
       "                Run page: <a href=\"https://app.wandb.ai/hanguo/huggingface/runs/qfgab9d9\" target=\"_blank\">https://app.wandb.ai/hanguo/huggingface/runs/qfgab9d9</a><br/>\n",
       "            "
      ],
      "text/plain": [
       "<IPython.core.display.HTML object>"
      ]
     },
     "metadata": {},
     "output_type": "display_data"
    },
    {
     "name": "stderr",
     "output_type": "stream",
     "text": [
      "  6%|▌         | 2/36 [00:37<10:48, 19.07s/it]"
     ]
    },
    {
     "name": "stdout",
     "output_type": "stream",
     "text": [
      "Dirname: /export/home/Experiments/20200708/MNLI_data/remove_100_random/output_dir/\n",
      "tensor([[-1.0040,  1.2066, -0.6275]], device='cuda:0') tensor([[0.0864, 0.7878, 0.1259]], device='cuda:0') tensor(2.4491, device='cuda:0')\n"
     ]
    },
    {
     "name": "stderr",
     "output_type": "stream",
     "text": [
      "You are instantiating a Trainer but Tensorboard is not installed. You should consider installing it.\n"
     ]
    },
    {
     "data": {
      "text/html": [
       "\n",
       "                Logging results to <a href=\"https://wandb.com\" target=\"_blank\">Weights & Biases</a> <a href=\"https://docs.wandb.com/integrations/jupyter.html\" target=\"_blank\">(Documentation)</a>.<br/>\n",
       "                Project page: <a href=\"https://app.wandb.ai/hanguo/huggingface\" target=\"_blank\">https://app.wandb.ai/hanguo/huggingface</a><br/>\n",
       "                Run page: <a href=\"https://app.wandb.ai/hanguo/huggingface/runs/3hsnok44\" target=\"_blank\">https://app.wandb.ai/hanguo/huggingface/runs/3hsnok44</a><br/>\n",
       "            "
      ],
      "text/plain": [
       "<IPython.core.display.HTML object>"
      ]
     },
     "metadata": {},
     "output_type": "display_data"
    },
    {
     "name": "stderr",
     "output_type": "stream",
     "text": [
      "  8%|▊         | 3/36 [00:58<10:42, 19.46s/it]"
     ]
    },
    {
     "name": "stdout",
     "output_type": "stream",
     "text": [
      "Dirname: /export/home/Experiments/20200708/MNLI_data/remove_100_helpful/output_dir/\n",
      "tensor([[-1.7610,  1.6030, -0.5113]], device='cuda:0') tensor([[0.0299, 0.8656, 0.1045]], device='cuda:0') tensor(3.5084, device='cuda:0')\n"
     ]
    },
    {
     "name": "stderr",
     "output_type": "stream",
     "text": [
      "You are instantiating a Trainer but Tensorboard is not installed. You should consider installing it.\n"
     ]
    },
    {
     "data": {
      "text/html": [
       "\n",
       "                Logging results to <a href=\"https://wandb.com\" target=\"_blank\">Weights & Biases</a> <a href=\"https://docs.wandb.com/integrations/jupyter.html\" target=\"_blank\">(Documentation)</a>.<br/>\n",
       "                Project page: <a href=\"https://app.wandb.ai/hanguo/huggingface\" target=\"_blank\">https://app.wandb.ai/hanguo/huggingface</a><br/>\n",
       "                Run page: <a href=\"https://app.wandb.ai/hanguo/huggingface/runs/15y0cdc3\" target=\"_blank\">https://app.wandb.ai/hanguo/huggingface/runs/15y0cdc3</a><br/>\n",
       "            "
      ],
      "text/plain": [
       "<IPython.core.display.HTML object>"
      ]
     },
     "metadata": {},
     "output_type": "display_data"
    },
    {
     "name": "stderr",
     "output_type": "stream",
     "text": [
      " 11%|█         | 4/36 [01:14<09:52, 18.53s/it]"
     ]
    },
    {
     "name": "stdout",
     "output_type": "stream",
     "text": [
      "Dirname: /export/home/Experiments/20200708/MNLI_data/remove_100_harmful/output_dir/\n",
      "tensor([[-0.7497,  0.6718, -0.3156]], device='cuda:0') tensor([[0.1496, 0.6196, 0.2308]], device='cuda:0') tensor(1.9001, device='cuda:0')\n"
     ]
    },
    {
     "name": "stderr",
     "output_type": "stream",
     "text": [
      "You are instantiating a Trainer but Tensorboard is not installed. You should consider installing it.\n"
     ]
    },
    {
     "data": {
      "text/html": [
       "\n",
       "                Logging results to <a href=\"https://wandb.com\" target=\"_blank\">Weights & Biases</a> <a href=\"https://docs.wandb.com/integrations/jupyter.html\" target=\"_blank\">(Documentation)</a>.<br/>\n",
       "                Project page: <a href=\"https://app.wandb.ai/hanguo/huggingface\" target=\"_blank\">https://app.wandb.ai/hanguo/huggingface</a><br/>\n",
       "                Run page: <a href=\"https://app.wandb.ai/hanguo/huggingface/runs/36d0ra9m\" target=\"_blank\">https://app.wandb.ai/hanguo/huggingface/runs/36d0ra9m</a><br/>\n",
       "            "
      ],
      "text/plain": [
       "<IPython.core.display.HTML object>"
      ]
     },
     "metadata": {},
     "output_type": "display_data"
    },
    {
     "name": "stderr",
     "output_type": "stream",
     "text": [
      " 14%|█▍        | 5/36 [01:36<10:01, 19.42s/it]"
     ]
    },
    {
     "name": "stdout",
     "output_type": "stream",
     "text": [
      "Dirname: /export/home/Experiments/20200708/MNLI_data/remove_20_helpful/output_dir/\n",
      "tensor([[-1.3308,  1.3717, -0.5758]], device='cuda:0') tensor([[0.0554, 0.8267, 0.1179]], device='cuda:0') tensor(2.8928, device='cuda:0')\n"
     ]
    },
    {
     "name": "stderr",
     "output_type": "stream",
     "text": [
      "You are instantiating a Trainer but Tensorboard is not installed. You should consider installing it.\n"
     ]
    },
    {
     "data": {
      "text/html": [
       "\n",
       "                Logging results to <a href=\"https://wandb.com\" target=\"_blank\">Weights & Biases</a> <a href=\"https://docs.wandb.com/integrations/jupyter.html\" target=\"_blank\">(Documentation)</a>.<br/>\n",
       "                Project page: <a href=\"https://app.wandb.ai/hanguo/huggingface\" target=\"_blank\">https://app.wandb.ai/hanguo/huggingface</a><br/>\n",
       "                Run page: <a href=\"https://app.wandb.ai/hanguo/huggingface/runs/2mhvz1po\" target=\"_blank\">https://app.wandb.ai/hanguo/huggingface/runs/2mhvz1po</a><br/>\n",
       "            "
      ],
      "text/plain": [
       "<IPython.core.display.HTML object>"
      ]
     },
     "metadata": {},
     "output_type": "display_data"
    },
    {
     "name": "stderr",
     "output_type": "stream",
     "text": [
      " 17%|█▋        | 6/36 [01:52<09:18, 18.62s/it]"
     ]
    },
    {
     "name": "stdout",
     "output_type": "stream",
     "text": [
      "Dirname: /export/home/Experiments/20200708/MNLI_data/remove_1_harmful/output_dir/\n",
      "tensor([[-1.1228,  1.1602, -0.6199]], device='cuda:0') tensor([[0.0803, 0.7870, 0.1327]], device='cuda:0') tensor(2.5225, device='cuda:0')\n"
     ]
    },
    {
     "name": "stderr",
     "output_type": "stream",
     "text": [
      "You are instantiating a Trainer but Tensorboard is not installed. You should consider installing it.\n"
     ]
    },
    {
     "data": {
      "text/html": [
       "\n",
       "                Logging results to <a href=\"https://wandb.com\" target=\"_blank\">Weights & Biases</a> <a href=\"https://docs.wandb.com/integrations/jupyter.html\" target=\"_blank\">(Documentation)</a>.<br/>\n",
       "                Project page: <a href=\"https://app.wandb.ai/hanguo/huggingface\" target=\"_blank\">https://app.wandb.ai/hanguo/huggingface</a><br/>\n",
       "                Run page: <a href=\"https://app.wandb.ai/hanguo/huggingface/runs/3gz9ub4m\" target=\"_blank\">https://app.wandb.ai/hanguo/huggingface/runs/3gz9ub4m</a><br/>\n",
       "            "
      ],
      "text/plain": [
       "<IPython.core.display.HTML object>"
      ]
     },
     "metadata": {},
     "output_type": "display_data"
    },
    {
     "name": "stderr",
     "output_type": "stream",
     "text": [
      " 19%|█▉        | 7/36 [02:11<09:03, 18.74s/it]"
     ]
    },
    {
     "name": "stdout",
     "output_type": "stream",
     "text": [
      "Dirname: /export/home/Experiments/20200708/MNLI_data/remove_1_helpful/output_dir/\n",
      "tensor([[-1.0725,  1.2105, -0.6713]], device='cuda:0') tensor([[0.0813, 0.7973, 0.1214]], device='cuda:0') tensor(2.5096, device='cuda:0')\n"
     ]
    },
    {
     "name": "stderr",
     "output_type": "stream",
     "text": [
      "You are instantiating a Trainer but Tensorboard is not installed. You should consider installing it.\n"
     ]
    },
    {
     "data": {
      "text/html": [
       "\n",
       "                Logging results to <a href=\"https://wandb.com\" target=\"_blank\">Weights & Biases</a> <a href=\"https://docs.wandb.com/integrations/jupyter.html\" target=\"_blank\">(Documentation)</a>.<br/>\n",
       "                Project page: <a href=\"https://app.wandb.ai/hanguo/huggingface\" target=\"_blank\">https://app.wandb.ai/hanguo/huggingface</a><br/>\n",
       "                Run page: <a href=\"https://app.wandb.ai/hanguo/huggingface/runs/4l0v6ouh\" target=\"_blank\">https://app.wandb.ai/hanguo/huggingface/runs/4l0v6ouh</a><br/>\n",
       "            "
      ],
      "text/plain": [
       "<IPython.core.display.HTML object>"
      ]
     },
     "metadata": {},
     "output_type": "display_data"
    },
    {
     "name": "stderr",
     "output_type": "stream",
     "text": [
      " 22%|██▏       | 8/36 [02:31<08:48, 18.86s/it]"
     ]
    },
    {
     "name": "stdout",
     "output_type": "stream",
     "text": [
      "Dirname: /export/home/Experiments/20200708/MNLI_data/remove_1_random/output_dir/\n",
      "tensor([[-1.0991,  1.1363, -0.6035]], device='cuda:0') tensor([[0.0834, 0.7797, 0.1369]], device='cuda:0') tensor(2.4842, device='cuda:0')\n"
     ]
    },
    {
     "name": "stderr",
     "output_type": "stream",
     "text": [
      "You are instantiating a Trainer but Tensorboard is not installed. You should consider installing it.\n"
     ]
    },
    {
     "data": {
      "text/html": [
       "\n",
       "                Logging results to <a href=\"https://wandb.com\" target=\"_blank\">Weights & Biases</a> <a href=\"https://docs.wandb.com/integrations/jupyter.html\" target=\"_blank\">(Documentation)</a>.<br/>\n",
       "                Project page: <a href=\"https://app.wandb.ai/hanguo/huggingface\" target=\"_blank\">https://app.wandb.ai/hanguo/huggingface</a><br/>\n",
       "                Run page: <a href=\"https://app.wandb.ai/hanguo/huggingface/runs/14npg7gt\" target=\"_blank\">https://app.wandb.ai/hanguo/huggingface/runs/14npg7gt</a><br/>\n",
       "            "
      ],
      "text/plain": [
       "<IPython.core.display.HTML object>"
      ]
     },
     "metadata": {},
     "output_type": "display_data"
    },
    {
     "name": "stderr",
     "output_type": "stream",
     "text": [
      " 25%|██▌       | 9/36 [02:50<08:33, 19.02s/it]"
     ]
    },
    {
     "name": "stdout",
     "output_type": "stream",
     "text": [
      "Dirname: /export/home/Experiments/20200708/MNLI_data/remove_20_random/output_dir/\n",
      "tensor([[-1.0223,  1.3247, -0.8949]], device='cuda:0') tensor([[0.0794, 0.8304, 0.0902]], device='cuda:0') tensor(2.5329, device='cuda:0')\n"
     ]
    },
    {
     "name": "stderr",
     "output_type": "stream",
     "text": [
      "You are instantiating a Trainer but Tensorboard is not installed. You should consider installing it.\n"
     ]
    },
    {
     "data": {
      "text/html": [
       "\n",
       "                Logging results to <a href=\"https://wandb.com\" target=\"_blank\">Weights & Biases</a> <a href=\"https://docs.wandb.com/integrations/jupyter.html\" target=\"_blank\">(Documentation)</a>.<br/>\n",
       "                Project page: <a href=\"https://app.wandb.ai/hanguo/huggingface\" target=\"_blank\">https://app.wandb.ai/hanguo/huggingface</a><br/>\n",
       "                Run page: <a href=\"https://app.wandb.ai/hanguo/huggingface/runs/c1ok8frs\" target=\"_blank\">https://app.wandb.ai/hanguo/huggingface/runs/c1ok8frs</a><br/>\n",
       "            "
      ],
      "text/plain": [
       "<IPython.core.display.HTML object>"
      ]
     },
     "metadata": {},
     "output_type": "display_data"
    },
    {
     "name": "stderr",
     "output_type": "stream",
     "text": [
      " 28%|██▊       | 10/36 [03:13<08:44, 20.18s/it]"
     ]
    },
    {
     "name": "stdout",
     "output_type": "stream",
     "text": [
      "Dirname: /export/home/Experiments/20200708/MNLI_data/remove_20_harmful/output_dir/\n",
      "tensor([[-0.9332,  1.1125, -0.6165]], device='cuda:0') tensor([[0.0989, 0.7653, 0.1358]], device='cuda:0') tensor(2.3132, device='cuda:0')\n"
     ]
    },
    {
     "name": "stderr",
     "output_type": "stream",
     "text": [
      "You are instantiating a Trainer but Tensorboard is not installed. You should consider installing it.\n"
     ]
    },
    {
     "data": {
      "text/html": [
       "\n",
       "                Logging results to <a href=\"https://wandb.com\" target=\"_blank\">Weights & Biases</a> <a href=\"https://docs.wandb.com/integrations/jupyter.html\" target=\"_blank\">(Documentation)</a>.<br/>\n",
       "                Project page: <a href=\"https://app.wandb.ai/hanguo/huggingface\" target=\"_blank\">https://app.wandb.ai/hanguo/huggingface</a><br/>\n",
       "                Run page: <a href=\"https://app.wandb.ai/hanguo/huggingface/runs/cdji6r1a\" target=\"_blank\">https://app.wandb.ai/hanguo/huggingface/runs/cdji6r1a</a><br/>\n",
       "            "
      ],
      "text/plain": [
       "<IPython.core.display.HTML object>"
      ]
     },
     "metadata": {},
     "output_type": "display_data"
    },
    {
     "name": "stderr",
     "output_type": "stream",
     "text": [
      " 31%|███       | 11/36 [03:31<08:07, 19.52s/it]"
     ]
    },
    {
     "name": "stdout",
     "output_type": "stream",
     "text": [
      "Dirname: /export/home/Experiments/20200714/MNLI_data/remove_1_random_entailment/output_dir/\n",
      "tensor([[-1.0446,  1.2729, -0.7883]], device='cuda:0') tensor([[0.0804, 0.8158, 0.1039]], device='cuda:0') tensor(2.5211, device='cuda:0')\n"
     ]
    },
    {
     "name": "stderr",
     "output_type": "stream",
     "text": [
      "You are instantiating a Trainer but Tensorboard is not installed. You should consider installing it.\n"
     ]
    },
    {
     "data": {
      "text/html": [
       "\n",
       "                Logging results to <a href=\"https://wandb.com\" target=\"_blank\">Weights & Biases</a> <a href=\"https://docs.wandb.com/integrations/jupyter.html\" target=\"_blank\">(Documentation)</a>.<br/>\n",
       "                Project page: <a href=\"https://app.wandb.ai/hanguo/huggingface\" target=\"_blank\">https://app.wandb.ai/hanguo/huggingface</a><br/>\n",
       "                Run page: <a href=\"https://app.wandb.ai/hanguo/huggingface/runs/3ixf8rae\" target=\"_blank\">https://app.wandb.ai/hanguo/huggingface/runs/3ixf8rae</a><br/>\n",
       "            "
      ],
      "text/plain": [
       "<IPython.core.display.HTML object>"
      ]
     },
     "metadata": {},
     "output_type": "display_data"
    },
    {
     "name": "stderr",
     "output_type": "stream",
     "text": [
      " 33%|███▎      | 12/36 [03:55<08:18, 20.77s/it]"
     ]
    },
    {
     "name": "stdout",
     "output_type": "stream",
     "text": [
      "Dirname: /export/home/Experiments/20200714/MNLI_data/remove_100_smallest_distance_1000/output_dir/\n",
      "tensor([[-1.0246,  1.2948, -0.7910]], device='cuda:0') tensor([[0.0804, 0.8180, 0.1016]], device='cuda:0') tensor(2.5204, device='cuda:0')\n"
     ]
    },
    {
     "name": "stderr",
     "output_type": "stream",
     "text": [
      "You are instantiating a Trainer but Tensorboard is not installed. You should consider installing it.\n"
     ]
    },
    {
     "data": {
      "text/html": [
       "\n",
       "                Logging results to <a href=\"https://wandb.com\" target=\"_blank\">Weights & Biases</a> <a href=\"https://docs.wandb.com/integrations/jupyter.html\" target=\"_blank\">(Documentation)</a>.<br/>\n",
       "                Project page: <a href=\"https://app.wandb.ai/hanguo/huggingface\" target=\"_blank\">https://app.wandb.ai/hanguo/huggingface</a><br/>\n",
       "                Run page: <a href=\"https://app.wandb.ai/hanguo/huggingface/runs/14j4l4go\" target=\"_blank\">https://app.wandb.ai/hanguo/huggingface/runs/14j4l4go</a><br/>\n",
       "            "
      ],
      "text/plain": [
       "<IPython.core.display.HTML object>"
      ]
     },
     "metadata": {},
     "output_type": "display_data"
    },
    {
     "name": "stderr",
     "output_type": "stream",
     "text": [
      " 36%|███▌      | 13/36 [04:13<07:45, 20.22s/it]"
     ]
    },
    {
     "name": "stdout",
     "output_type": "stream",
     "text": [
      "Dirname: /export/home/Experiments/20200714/MNLI_data/remove_20_smallest_distance_1000/output_dir/\n",
      "tensor([[-1.0620,  1.0125, -0.5427]], device='cuda:0') tensor([[0.0940, 0.7481, 0.1580]], device='cuda:0') tensor(2.3647, device='cuda:0')\n"
     ]
    },
    {
     "name": "stderr",
     "output_type": "stream",
     "text": [
      "You are instantiating a Trainer but Tensorboard is not installed. You should consider installing it.\n"
     ]
    },
    {
     "data": {
      "text/html": [
       "\n",
       "                Logging results to <a href=\"https://wandb.com\" target=\"_blank\">Weights & Biases</a> <a href=\"https://docs.wandb.com/integrations/jupyter.html\" target=\"_blank\">(Documentation)</a>.<br/>\n",
       "                Project page: <a href=\"https://app.wandb.ai/hanguo/huggingface\" target=\"_blank\">https://app.wandb.ai/hanguo/huggingface</a><br/>\n",
       "                Run page: <a href=\"https://app.wandb.ai/hanguo/huggingface/runs/bcrcirga\" target=\"_blank\">https://app.wandb.ai/hanguo/huggingface/runs/bcrcirga</a><br/>\n",
       "            "
      ],
      "text/plain": [
       "<IPython.core.display.HTML object>"
      ]
     },
     "metadata": {},
     "output_type": "display_data"
    },
    {
     "name": "stderr",
     "output_type": "stream",
     "text": [
      " 39%|███▉      | 14/36 [04:34<07:30, 20.47s/it]"
     ]
    },
    {
     "name": "stdout",
     "output_type": "stream",
     "text": [
      "Dirname: /export/home/Experiments/20200714/MNLI_data/remove_1_random_neutral/output_dir/\n",
      "tensor([[-1.0358,  1.2133, -0.6597]], device='cuda:0') tensor([[0.0838, 0.7942, 0.1220]], device='cuda:0') tensor(2.4795, device='cuda:0')\n"
     ]
    },
    {
     "name": "stderr",
     "output_type": "stream",
     "text": [
      "You are instantiating a Trainer but Tensorboard is not installed. You should consider installing it.\n"
     ]
    },
    {
     "data": {
      "text/html": [
       "\n",
       "                Logging results to <a href=\"https://wandb.com\" target=\"_blank\">Weights & Biases</a> <a href=\"https://docs.wandb.com/integrations/jupyter.html\" target=\"_blank\">(Documentation)</a>.<br/>\n",
       "                Project page: <a href=\"https://app.wandb.ai/hanguo/huggingface\" target=\"_blank\">https://app.wandb.ai/hanguo/huggingface</a><br/>\n",
       "                Run page: <a href=\"https://app.wandb.ai/hanguo/huggingface/runs/2edwgurv\" target=\"_blank\">https://app.wandb.ai/hanguo/huggingface/runs/2edwgurv</a><br/>\n",
       "            "
      ],
      "text/plain": [
       "<IPython.core.display.HTML object>"
      ]
     },
     "metadata": {},
     "output_type": "display_data"
    },
    {
     "name": "stderr",
     "output_type": "stream",
     "text": [
      " 42%|████▏     | 15/36 [05:00<07:40, 21.95s/it]"
     ]
    },
    {
     "name": "stdout",
     "output_type": "stream",
     "text": [
      "Dirname: /export/home/Experiments/20200714/MNLI_data/remove_100_random_entailment/output_dir/\n",
      "tensor([[-1.1312,  1.3142, -0.7403]], device='cuda:0') tensor([[0.0714, 0.8231, 0.1055]], device='cuda:0') tensor(2.6400, device='cuda:0')\n"
     ]
    },
    {
     "name": "stderr",
     "output_type": "stream",
     "text": [
      "You are instantiating a Trainer but Tensorboard is not installed. You should consider installing it.\n"
     ]
    },
    {
     "data": {
      "text/html": [
       "\n",
       "                Logging results to <a href=\"https://wandb.com\" target=\"_blank\">Weights & Biases</a> <a href=\"https://docs.wandb.com/integrations/jupyter.html\" target=\"_blank\">(Documentation)</a>.<br/>\n",
       "                Project page: <a href=\"https://app.wandb.ai/hanguo/huggingface\" target=\"_blank\">https://app.wandb.ai/hanguo/huggingface</a><br/>\n",
       "                Run page: <a href=\"https://app.wandb.ai/hanguo/huggingface/runs/137zw3zy\" target=\"_blank\">https://app.wandb.ai/hanguo/huggingface/runs/137zw3zy</a><br/>\n",
       "            "
      ],
      "text/plain": [
       "<IPython.core.display.HTML object>"
      ]
     },
     "metadata": {},
     "output_type": "display_data"
    },
    {
     "name": "stderr",
     "output_type": "stream",
     "text": [
      " 44%|████▍     | 16/36 [05:20<07:10, 21.51s/it]"
     ]
    },
    {
     "name": "stdout",
     "output_type": "stream",
     "text": [
      "Dirname: /export/home/Experiments/20200714/MNLI_data/remove_100_smallest_distance_10000/output_dir/\n",
      "tensor([[-1.0246,  1.2948, -0.7910]], device='cuda:0') tensor([[0.0804, 0.8180, 0.1016]], device='cuda:0') tensor(2.5204, device='cuda:0')\n"
     ]
    },
    {
     "name": "stderr",
     "output_type": "stream",
     "text": [
      "You are instantiating a Trainer but Tensorboard is not installed. You should consider installing it.\n"
     ]
    },
    {
     "data": {
      "text/html": [
       "\n",
       "                Logging results to <a href=\"https://wandb.com\" target=\"_blank\">Weights & Biases</a> <a href=\"https://docs.wandb.com/integrations/jupyter.html\" target=\"_blank\">(Documentation)</a>.<br/>\n",
       "                Project page: <a href=\"https://app.wandb.ai/hanguo/huggingface\" target=\"_blank\">https://app.wandb.ai/hanguo/huggingface</a><br/>\n",
       "                Run page: <a href=\"https://app.wandb.ai/hanguo/huggingface/runs/3a586nhl\" target=\"_blank\">https://app.wandb.ai/hanguo/huggingface/runs/3a586nhl</a><br/>\n",
       "            "
      ],
      "text/plain": [
       "<IPython.core.display.HTML object>"
      ]
     },
     "metadata": {},
     "output_type": "display_data"
    },
    {
     "name": "stderr",
     "output_type": "stream",
     "text": [
      " 47%|████▋     | 17/36 [05:43<06:56, 21.90s/it]"
     ]
    },
    {
     "name": "stdout",
     "output_type": "stream",
     "text": [
      "Dirname: /export/home/Experiments/20200714/MNLI_data/remove_1_harmful_10000/output_dir/\n",
      "tensor([[-1.0170,  1.1703, -0.6928]], device='cuda:0') tensor([[0.0885, 0.7890, 0.1224]], device='cuda:0') tensor(2.4242, device='cuda:0')\n"
     ]
    },
    {
     "name": "stderr",
     "output_type": "stream",
     "text": [
      "You are instantiating a Trainer but Tensorboard is not installed. You should consider installing it.\n"
     ]
    },
    {
     "data": {
      "text/html": [
       "\n",
       "                Logging results to <a href=\"https://wandb.com\" target=\"_blank\">Weights & Biases</a> <a href=\"https://docs.wandb.com/integrations/jupyter.html\" target=\"_blank\">(Documentation)</a>.<br/>\n",
       "                Project page: <a href=\"https://app.wandb.ai/hanguo/huggingface\" target=\"_blank\">https://app.wandb.ai/hanguo/huggingface</a><br/>\n",
       "                Run page: <a href=\"https://app.wandb.ai/hanguo/huggingface/runs/1d8sm8pm\" target=\"_blank\">https://app.wandb.ai/hanguo/huggingface/runs/1d8sm8pm</a><br/>\n",
       "            "
      ],
      "text/plain": [
       "<IPython.core.display.HTML object>"
      ]
     },
     "metadata": {},
     "output_type": "display_data"
    },
    {
     "name": "stderr",
     "output_type": "stream",
     "text": [
      " 50%|█████     | 18/36 [06:06<06:40, 22.24s/it]"
     ]
    },
    {
     "name": "stdout",
     "output_type": "stream",
     "text": [
      "Dirname: /export/home/Experiments/20200714/MNLI_data/remove_100_harmful_10000/output_dir/\n",
      "tensor([[-1.1116,  1.0090, -0.4487]], device='cuda:0') tensor([[0.0887, 0.7392, 0.1721]], device='cuda:0') tensor(2.4227, device='cuda:0')\n"
     ]
    },
    {
     "name": "stderr",
     "output_type": "stream",
     "text": [
      "You are instantiating a Trainer but Tensorboard is not installed. You should consider installing it.\n"
     ]
    },
    {
     "data": {
      "text/html": [
       "\n",
       "                Logging results to <a href=\"https://wandb.com\" target=\"_blank\">Weights & Biases</a> <a href=\"https://docs.wandb.com/integrations/jupyter.html\" target=\"_blank\">(Documentation)</a>.<br/>\n",
       "                Project page: <a href=\"https://app.wandb.ai/hanguo/huggingface\" target=\"_blank\">https://app.wandb.ai/hanguo/huggingface</a><br/>\n",
       "                Run page: <a href=\"https://app.wandb.ai/hanguo/huggingface/runs/4bkg3wem\" target=\"_blank\">https://app.wandb.ai/hanguo/huggingface/runs/4bkg3wem</a><br/>\n",
       "            "
      ],
      "text/plain": [
       "<IPython.core.display.HTML object>"
      ]
     },
     "metadata": {},
     "output_type": "display_data"
    },
    {
     "name": "stderr",
     "output_type": "stream",
     "text": [
      "\u001b[34m\u001b[1mwandb\u001b[0m: Network error resolved after 0:00:12.864250, resuming normal operation.\n",
      " 53%|█████▎    | 19/36 [06:40<07:16, 25.70s/it]"
     ]
    },
    {
     "name": "stdout",
     "output_type": "stream",
     "text": [
      "Dirname: /export/home/Experiments/20200714/MNLI_data/remove_20_random_contradiction/output_dir/\n",
      "tensor([[-1.1204,  1.2116, -0.6356]], device='cuda:0') tensor([[0.0774, 0.7970, 0.1257]], device='cuda:0') tensor(2.5590, device='cuda:0')\n"
     ]
    },
    {
     "name": "stderr",
     "output_type": "stream",
     "text": [
      "You are instantiating a Trainer but Tensorboard is not installed. You should consider installing it.\n"
     ]
    },
    {
     "data": {
      "text/html": [
       "\n",
       "                Logging results to <a href=\"https://wandb.com\" target=\"_blank\">Weights & Biases</a> <a href=\"https://docs.wandb.com/integrations/jupyter.html\" target=\"_blank\">(Documentation)</a>.<br/>\n",
       "                Project page: <a href=\"https://app.wandb.ai/hanguo/huggingface\" target=\"_blank\">https://app.wandb.ai/hanguo/huggingface</a><br/>\n",
       "                Run page: <a href=\"https://app.wandb.ai/hanguo/huggingface/runs/1z6uq9b0\" target=\"_blank\">https://app.wandb.ai/hanguo/huggingface/runs/1z6uq9b0</a><br/>\n",
       "            "
      ],
      "text/plain": [
       "<IPython.core.display.HTML object>"
      ]
     },
     "metadata": {},
     "output_type": "display_data"
    },
    {
     "name": "stderr",
     "output_type": "stream",
     "text": [
      " 56%|█████▌    | 20/36 [07:01<06:28, 24.28s/it]"
     ]
    },
    {
     "name": "stdout",
     "output_type": "stream",
     "text": [
      "Dirname: /export/home/Experiments/20200714/MNLI_data/remove_1_harmful_1000/output_dir/\n",
      "tensor([[-1.0424,  1.2252, -0.7366]], device='cuda:0') tensor([[0.0832, 0.8038, 0.1130]], device='cuda:0') tensor(2.4861, device='cuda:0')\n"
     ]
    },
    {
     "name": "stderr",
     "output_type": "stream",
     "text": [
      "You are instantiating a Trainer but Tensorboard is not installed. You should consider installing it.\n"
     ]
    },
    {
     "data": {
      "text/html": [
       "\n",
       "                Logging results to <a href=\"https://wandb.com\" target=\"_blank\">Weights & Biases</a> <a href=\"https://docs.wandb.com/integrations/jupyter.html\" target=\"_blank\">(Documentation)</a>.<br/>\n",
       "                Project page: <a href=\"https://app.wandb.ai/hanguo/huggingface\" target=\"_blank\">https://app.wandb.ai/hanguo/huggingface</a><br/>\n",
       "                Run page: <a href=\"https://app.wandb.ai/hanguo/huggingface/runs/1aldag4k\" target=\"_blank\">https://app.wandb.ai/hanguo/huggingface/runs/1aldag4k</a><br/>\n",
       "            "
      ],
      "text/plain": [
       "<IPython.core.display.HTML object>"
      ]
     },
     "metadata": {},
     "output_type": "display_data"
    },
    {
     "name": "stderr",
     "output_type": "stream",
     "text": [
      " 58%|█████▊    | 21/36 [07:25<06:02, 24.15s/it]"
     ]
    },
    {
     "name": "stdout",
     "output_type": "stream",
     "text": [
      "Dirname: /export/home/Experiments/20200714/MNLI_data/remove_1_random_contradiction/output_dir/\n",
      "tensor([[-1.1336,  1.0878, -0.5171]], device='cuda:0') tensor([[0.0828, 0.7637, 0.1534]], device='cuda:0') tensor(2.4909, device='cuda:0')\n"
     ]
    },
    {
     "name": "stderr",
     "output_type": "stream",
     "text": [
      "You are instantiating a Trainer but Tensorboard is not installed. You should consider installing it.\n"
     ]
    },
    {
     "data": {
      "text/html": [
       "\n",
       "                Logging results to <a href=\"https://wandb.com\" target=\"_blank\">Weights & Biases</a> <a href=\"https://docs.wandb.com/integrations/jupyter.html\" target=\"_blank\">(Documentation)</a>.<br/>\n",
       "                Project page: <a href=\"https://app.wandb.ai/hanguo/huggingface\" target=\"_blank\">https://app.wandb.ai/hanguo/huggingface</a><br/>\n",
       "                Run page: <a href=\"https://app.wandb.ai/hanguo/huggingface/runs/1l4nwph7\" target=\"_blank\">https://app.wandb.ai/hanguo/huggingface/runs/1l4nwph7</a><br/>\n",
       "            "
      ],
      "text/plain": [
       "<IPython.core.display.HTML object>"
      ]
     },
     "metadata": {},
     "output_type": "display_data"
    },
    {
     "name": "stderr",
     "output_type": "stream",
     "text": [
      " 61%|██████    | 22/36 [07:50<05:40, 24.34s/it]"
     ]
    },
    {
     "name": "stdout",
     "output_type": "stream",
     "text": [
      "Dirname: /export/home/Experiments/20200714/MNLI_data/remove_20_random_entailment/output_dir/\n",
      "tensor([[-1.0454,  1.2567, -0.7632]], device='cuda:0') tensor([[0.0812, 0.8112, 0.1076]], device='cuda:0') tensor(2.5114, device='cuda:0')\n"
     ]
    },
    {
     "name": "stderr",
     "output_type": "stream",
     "text": [
      "You are instantiating a Trainer but Tensorboard is not installed. You should consider installing it.\n"
     ]
    },
    {
     "data": {
      "text/html": [
       "\n",
       "                Logging results to <a href=\"https://wandb.com\" target=\"_blank\">Weights & Biases</a> <a href=\"https://docs.wandb.com/integrations/jupyter.html\" target=\"_blank\">(Documentation)</a>.<br/>\n",
       "                Project page: <a href=\"https://app.wandb.ai/hanguo/huggingface\" target=\"_blank\">https://app.wandb.ai/hanguo/huggingface</a><br/>\n",
       "                Run page: <a href=\"https://app.wandb.ai/hanguo/huggingface/runs/i37pqmyq\" target=\"_blank\">https://app.wandb.ai/hanguo/huggingface/runs/i37pqmyq</a><br/>\n",
       "            "
      ],
      "text/plain": [
       "<IPython.core.display.HTML object>"
      ]
     },
     "metadata": {},
     "output_type": "display_data"
    },
    {
     "name": "stderr",
     "output_type": "stream",
     "text": [
      " 64%|██████▍   | 23/36 [08:15<05:18, 24.52s/it]"
     ]
    },
    {
     "name": "stdout",
     "output_type": "stream",
     "text": [
      "Dirname: /export/home/Experiments/20200714/MNLI_data/remove_1_helpful_10000/output_dir/\n",
      "tensor([[-1.0725,  1.2105, -0.6713]], device='cuda:0') tensor([[0.0813, 0.7973, 0.1214]], device='cuda:0') tensor(2.5096, device='cuda:0')\n"
     ]
    },
    {
     "name": "stderr",
     "output_type": "stream",
     "text": [
      "You are instantiating a Trainer but Tensorboard is not installed. You should consider installing it.\n"
     ]
    },
    {
     "data": {
      "text/html": [
       "\n",
       "                Logging results to <a href=\"https://wandb.com\" target=\"_blank\">Weights & Biases</a> <a href=\"https://docs.wandb.com/integrations/jupyter.html\" target=\"_blank\">(Documentation)</a>.<br/>\n",
       "                Project page: <a href=\"https://app.wandb.ai/hanguo/huggingface\" target=\"_blank\">https://app.wandb.ai/hanguo/huggingface</a><br/>\n",
       "                Run page: <a href=\"https://app.wandb.ai/hanguo/huggingface/runs/1kpzek1s\" target=\"_blank\">https://app.wandb.ai/hanguo/huggingface/runs/1kpzek1s</a><br/>\n",
       "            "
      ],
      "text/plain": [
       "<IPython.core.display.HTML object>"
      ]
     },
     "metadata": {},
     "output_type": "display_data"
    },
    {
     "name": "stderr",
     "output_type": "stream",
     "text": [
      "\u001b[34m\u001b[1mwandb\u001b[0m: Network error resolved after 0:00:12.672292, resuming normal operation.\n",
      " 67%|██████▋   | 24/36 [08:52<05:42, 28.55s/it]"
     ]
    },
    {
     "name": "stdout",
     "output_type": "stream",
     "text": [
      "Dirname: /export/home/Experiments/20200714/MNLI_data/remove_20_harmful_10000/output_dir/\n",
      "tensor([[-1.0831,  1.1468, -0.6595]], device='cuda:0') tensor([[0.0846, 0.7863, 0.1292]], device='cuda:0') tensor(2.4703, device='cuda:0')\n"
     ]
    },
    {
     "name": "stderr",
     "output_type": "stream",
     "text": [
      "You are instantiating a Trainer but Tensorboard is not installed. You should consider installing it.\n"
     ]
    },
    {
     "data": {
      "text/html": [
       "\n",
       "                Logging results to <a href=\"https://wandb.com\" target=\"_blank\">Weights & Biases</a> <a href=\"https://docs.wandb.com/integrations/jupyter.html\" target=\"_blank\">(Documentation)</a>.<br/>\n",
       "                Project page: <a href=\"https://app.wandb.ai/hanguo/huggingface\" target=\"_blank\">https://app.wandb.ai/hanguo/huggingface</a><br/>\n",
       "                Run page: <a href=\"https://app.wandb.ai/hanguo/huggingface/runs/2yvs6alb\" target=\"_blank\">https://app.wandb.ai/hanguo/huggingface/runs/2yvs6alb</a><br/>\n",
       "            "
      ],
      "text/plain": [
       "<IPython.core.display.HTML object>"
      ]
     },
     "metadata": {},
     "output_type": "display_data"
    },
    {
     "name": "stderr",
     "output_type": "stream",
     "text": [
      "\u001b[34m\u001b[1mwandb\u001b[0m: Network error resolved after 0:00:11.849573, resuming normal operation.\n",
      " 69%|██████▉   | 25/36 [09:33<05:54, 32.23s/it]"
     ]
    },
    {
     "name": "stdout",
     "output_type": "stream",
     "text": [
      "Dirname: /export/home/Experiments/20200714/MNLI_data/remove_20_helpful_10000/output_dir/\n",
      "tensor([[-1.2189,  1.3246, -0.7075]], device='cuda:0') tensor([[0.0650, 0.8267, 0.1084]], device='cuda:0') tensor(2.7338, device='cuda:0')\n"
     ]
    },
    {
     "name": "stderr",
     "output_type": "stream",
     "text": [
      "You are instantiating a Trainer but Tensorboard is not installed. You should consider installing it.\n"
     ]
    },
    {
     "data": {
      "text/html": [
       "\n",
       "                Logging results to <a href=\"https://wandb.com\" target=\"_blank\">Weights & Biases</a> <a href=\"https://docs.wandb.com/integrations/jupyter.html\" target=\"_blank\">(Documentation)</a>.<br/>\n",
       "                Project page: <a href=\"https://app.wandb.ai/hanguo/huggingface\" target=\"_blank\">https://app.wandb.ai/hanguo/huggingface</a><br/>\n",
       "                Run page: <a href=\"https://app.wandb.ai/hanguo/huggingface/runs/3l7x5pln\" target=\"_blank\">https://app.wandb.ai/hanguo/huggingface/runs/3l7x5pln</a><br/>\n",
       "            "
      ],
      "text/plain": [
       "<IPython.core.display.HTML object>"
      ]
     },
     "metadata": {},
     "output_type": "display_data"
    },
    {
     "name": "stderr",
     "output_type": "stream",
     "text": [
      " 72%|███████▏  | 26/36 [10:00<05:06, 30.67s/it]"
     ]
    },
    {
     "name": "stdout",
     "output_type": "stream",
     "text": [
      "Dirname: /export/home/Experiments/20200714/MNLI_data/remove_100_helpful_10000/output_dir/\n",
      "tensor([[-1.4534,  1.3547, -0.4118]], device='cuda:0') tensor([[0.0490, 0.8122, 0.1388]], device='cuda:0') tensor(3.0161, device='cuda:0')\n"
     ]
    },
    {
     "name": "stderr",
     "output_type": "stream",
     "text": [
      "You are instantiating a Trainer but Tensorboard is not installed. You should consider installing it.\n"
     ]
    },
    {
     "data": {
      "text/html": [
       "\n",
       "                Logging results to <a href=\"https://wandb.com\" target=\"_blank\">Weights & Biases</a> <a href=\"https://docs.wandb.com/integrations/jupyter.html\" target=\"_blank\">(Documentation)</a>.<br/>\n",
       "                Project page: <a href=\"https://app.wandb.ai/hanguo/huggingface\" target=\"_blank\">https://app.wandb.ai/hanguo/huggingface</a><br/>\n",
       "                Run page: <a href=\"https://app.wandb.ai/hanguo/huggingface/runs/2om90gbq\" target=\"_blank\">https://app.wandb.ai/hanguo/huggingface/runs/2om90gbq</a><br/>\n",
       "            "
      ],
      "text/plain": [
       "<IPython.core.display.HTML object>"
      ]
     },
     "metadata": {},
     "output_type": "display_data"
    },
    {
     "name": "stderr",
     "output_type": "stream",
     "text": [
      " 75%|███████▌  | 27/36 [10:26<04:23, 29.26s/it]"
     ]
    },
    {
     "name": "stdout",
     "output_type": "stream",
     "text": [
      "Dirname: /export/home/Experiments/20200714/MNLI_data/remove_20_helpful_1000/output_dir/\n",
      "tensor([[-1.1883,  1.3044, -0.7080]], device='cuda:0') tensor([[0.0680, 0.8221, 0.1099]], device='cuda:0') tensor(2.6885, device='cuda:0')\n"
     ]
    },
    {
     "name": "stderr",
     "output_type": "stream",
     "text": [
      "You are instantiating a Trainer but Tensorboard is not installed. You should consider installing it.\n"
     ]
    },
    {
     "data": {
      "text/html": [
       "\n",
       "                Logging results to <a href=\"https://wandb.com\" target=\"_blank\">Weights & Biases</a> <a href=\"https://docs.wandb.com/integrations/jupyter.html\" target=\"_blank\">(Documentation)</a>.<br/>\n",
       "                Project page: <a href=\"https://app.wandb.ai/hanguo/huggingface\" target=\"_blank\">https://app.wandb.ai/hanguo/huggingface</a><br/>\n",
       "                Run page: <a href=\"https://app.wandb.ai/hanguo/huggingface/runs/2xejp583\" target=\"_blank\">https://app.wandb.ai/hanguo/huggingface/runs/2xejp583</a><br/>\n",
       "            "
      ],
      "text/plain": [
       "<IPython.core.display.HTML object>"
      ]
     },
     "metadata": {},
     "output_type": "display_data"
    },
    {
     "name": "stderr",
     "output_type": "stream",
     "text": [
      " 78%|███████▊  | 28/36 [10:56<03:55, 29.46s/it]"
     ]
    },
    {
     "name": "stdout",
     "output_type": "stream",
     "text": [
      "Dirname: /export/home/Experiments/20200714/MNLI_data/remove_100_random_contradiction/output_dir/\n",
      "tensor([[-1.0515,  1.1219, -0.5546]], device='cuda:0') tensor([[0.0875, 0.7687, 0.1438]], device='cuda:0') tensor(2.4364, device='cuda:0')\n"
     ]
    },
    {
     "name": "stderr",
     "output_type": "stream",
     "text": [
      "You are instantiating a Trainer but Tensorboard is not installed. You should consider installing it.\n"
     ]
    },
    {
     "data": {
      "text/html": [
       "\n",
       "                Logging results to <a href=\"https://wandb.com\" target=\"_blank\">Weights & Biases</a> <a href=\"https://docs.wandb.com/integrations/jupyter.html\" target=\"_blank\">(Documentation)</a>.<br/>\n",
       "                Project page: <a href=\"https://app.wandb.ai/hanguo/huggingface\" target=\"_blank\">https://app.wandb.ai/hanguo/huggingface</a><br/>\n",
       "                Run page: <a href=\"https://app.wandb.ai/hanguo/huggingface/runs/2y1nc6mp\" target=\"_blank\">https://app.wandb.ai/hanguo/huggingface/runs/2y1nc6mp</a><br/>\n",
       "            "
      ],
      "text/plain": [
       "<IPython.core.display.HTML object>"
      ]
     },
     "metadata": {},
     "output_type": "display_data"
    },
    {
     "name": "stderr",
     "output_type": "stream",
     "text": [
      " 81%|████████  | 29/36 [11:23<03:21, 28.79s/it]"
     ]
    },
    {
     "name": "stdout",
     "output_type": "stream",
     "text": [
      "Dirname: /export/home/Experiments/20200714/MNLI_data/remove_100_helpful_1000/output_dir/\n",
      "tensor([[-1.0971,  1.3149, -0.6437]], device='cuda:0') tensor([[0.0728, 0.8126, 0.1146]], device='cuda:0') tensor(2.6196, device='cuda:0')\n"
     ]
    },
    {
     "name": "stderr",
     "output_type": "stream",
     "text": [
      "You are instantiating a Trainer but Tensorboard is not installed. You should consider installing it.\n"
     ]
    },
    {
     "data": {
      "text/html": [
       "\n",
       "                Logging results to <a href=\"https://wandb.com\" target=\"_blank\">Weights & Biases</a> <a href=\"https://docs.wandb.com/integrations/jupyter.html\" target=\"_blank\">(Documentation)</a>.<br/>\n",
       "                Project page: <a href=\"https://app.wandb.ai/hanguo/huggingface\" target=\"_blank\">https://app.wandb.ai/hanguo/huggingface</a><br/>\n",
       "                Run page: <a href=\"https://app.wandb.ai/hanguo/huggingface/runs/6vp06y88\" target=\"_blank\">https://app.wandb.ai/hanguo/huggingface/runs/6vp06y88</a><br/>\n",
       "            "
      ],
      "text/plain": [
       "<IPython.core.display.HTML object>"
      ]
     },
     "metadata": {},
     "output_type": "display_data"
    },
    {
     "name": "stderr",
     "output_type": "stream",
     "text": [
      " 83%|████████▎ | 30/36 [11:56<02:59, 29.86s/it]"
     ]
    },
    {
     "name": "stdout",
     "output_type": "stream",
     "text": [
      "Dirname: /export/home/Experiments/20200714/MNLI_data/remove_20_harmful_1000/output_dir/\n",
      "tensor([[-0.9238,  1.1548, -0.7410]], device='cuda:0') tensor([[0.0981, 0.7841, 0.1178]], device='cuda:0') tensor(2.3218, device='cuda:0')\n"
     ]
    },
    {
     "name": "stderr",
     "output_type": "stream",
     "text": [
      "You are instantiating a Trainer but Tensorboard is not installed. You should consider installing it.\n"
     ]
    },
    {
     "data": {
      "text/html": [
       "\n",
       "                Logging results to <a href=\"https://wandb.com\" target=\"_blank\">Weights & Biases</a> <a href=\"https://docs.wandb.com/integrations/jupyter.html\" target=\"_blank\">(Documentation)</a>.<br/>\n",
       "                Project page: <a href=\"https://app.wandb.ai/hanguo/huggingface\" target=\"_blank\">https://app.wandb.ai/hanguo/huggingface</a><br/>\n",
       "                Run page: <a href=\"https://app.wandb.ai/hanguo/huggingface/runs/7ltsqjn2\" target=\"_blank\">https://app.wandb.ai/hanguo/huggingface/runs/7ltsqjn2</a><br/>\n",
       "            "
      ],
      "text/plain": [
       "<IPython.core.display.HTML object>"
      ]
     },
     "metadata": {},
     "output_type": "display_data"
    },
    {
     "name": "stderr",
     "output_type": "stream",
     "text": [
      " 86%|████████▌ | 31/36 [12:29<02:34, 30.94s/it]"
     ]
    },
    {
     "name": "stdout",
     "output_type": "stream",
     "text": [
      "Dirname: /export/home/Experiments/20200714/MNLI_data/remove_1_smallest_distance_10000/output_dir/\n",
      "tensor([[-1.0437,  1.2489, -0.7625]], device='cuda:0') tensor([[0.0818, 0.8099, 0.1084]], device='cuda:0') tensor(2.5035, device='cuda:0')\n"
     ]
    },
    {
     "name": "stderr",
     "output_type": "stream",
     "text": [
      "You are instantiating a Trainer but Tensorboard is not installed. You should consider installing it.\n"
     ]
    },
    {
     "data": {
      "text/html": [
       "\n",
       "                Logging results to <a href=\"https://wandb.com\" target=\"_blank\">Weights & Biases</a> <a href=\"https://docs.wandb.com/integrations/jupyter.html\" target=\"_blank\">(Documentation)</a>.<br/>\n",
       "                Project page: <a href=\"https://app.wandb.ai/hanguo/huggingface\" target=\"_blank\">https://app.wandb.ai/hanguo/huggingface</a><br/>\n",
       "                Run page: <a href=\"https://app.wandb.ai/hanguo/huggingface/runs/3unrucvo\" target=\"_blank\">https://app.wandb.ai/hanguo/huggingface/runs/3unrucvo</a><br/>\n",
       "            "
      ],
      "text/plain": [
       "<IPython.core.display.HTML object>"
      ]
     },
     "metadata": {},
     "output_type": "display_data"
    },
    {
     "name": "stderr",
     "output_type": "stream",
     "text": [
      " 89%|████████▉ | 32/36 [12:59<02:02, 30.61s/it]"
     ]
    },
    {
     "name": "stdout",
     "output_type": "stream",
     "text": [
      "Dirname: /export/home/Experiments/20200714/MNLI_data/remove_20_random_neutral/output_dir/\n",
      "tensor([[-1.1650,  1.1213, -0.4839]], device='cuda:0') tensor([[0.0780, 0.7678, 0.1542]], device='cuda:0') tensor(2.5506, device='cuda:0')\n"
     ]
    },
    {
     "name": "stderr",
     "output_type": "stream",
     "text": [
      "You are instantiating a Trainer but Tensorboard is not installed. You should consider installing it.\n"
     ]
    },
    {
     "data": {
      "text/html": [
       "\n",
       "                Logging results to <a href=\"https://wandb.com\" target=\"_blank\">Weights & Biases</a> <a href=\"https://docs.wandb.com/integrations/jupyter.html\" target=\"_blank\">(Documentation)</a>.<br/>\n",
       "                Project page: <a href=\"https://app.wandb.ai/hanguo/huggingface\" target=\"_blank\">https://app.wandb.ai/hanguo/huggingface</a><br/>\n",
       "                Run page: <a href=\"https://app.wandb.ai/hanguo/huggingface/runs/2ghg3wvc\" target=\"_blank\">https://app.wandb.ai/hanguo/huggingface/runs/2ghg3wvc</a><br/>\n",
       "            "
      ],
      "text/plain": [
       "<IPython.core.display.HTML object>"
      ]
     },
     "metadata": {},
     "output_type": "display_data"
    },
    {
     "name": "stderr",
     "output_type": "stream",
     "text": [
      " 92%|█████████▏| 33/36 [13:32<01:33, 31.16s/it]"
     ]
    },
    {
     "name": "stdout",
     "output_type": "stream",
     "text": [
      "Dirname: /export/home/Experiments/20200714/MNLI_data/remove_100_harmful_1000/output_dir/\n",
      "tensor([[-1.0619,  1.2035, -0.6073]], device='cuda:0') tensor([[0.0819, 0.7891, 0.1290]], device='cuda:0') tensor(2.5023, device='cuda:0')\n"
     ]
    },
    {
     "name": "stderr",
     "output_type": "stream",
     "text": [
      "You are instantiating a Trainer but Tensorboard is not installed. You should consider installing it.\n"
     ]
    },
    {
     "data": {
      "text/html": [
       "\n",
       "                Logging results to <a href=\"https://wandb.com\" target=\"_blank\">Weights & Biases</a> <a href=\"https://docs.wandb.com/integrations/jupyter.html\" target=\"_blank\">(Documentation)</a>.<br/>\n",
       "                Project page: <a href=\"https://app.wandb.ai/hanguo/huggingface\" target=\"_blank\">https://app.wandb.ai/hanguo/huggingface</a><br/>\n",
       "                Run page: <a href=\"https://app.wandb.ai/hanguo/huggingface/runs/2okrpgya\" target=\"_blank\">https://app.wandb.ai/hanguo/huggingface/runs/2okrpgya</a><br/>\n",
       "            "
      ],
      "text/plain": [
       "<IPython.core.display.HTML object>"
      ]
     },
     "metadata": {},
     "output_type": "display_data"
    },
    {
     "name": "stderr",
     "output_type": "stream",
     "text": [
      " 94%|█████████▍| 34/36 [14:09<01:06, 33.13s/it]"
     ]
    },
    {
     "name": "stdout",
     "output_type": "stream",
     "text": [
      "Dirname: /export/home/Experiments/20200714/MNLI_data/remove_1_smallest_distance_1000/output_dir/\n",
      "tensor([[-1.0437,  1.2489, -0.7625]], device='cuda:0') tensor([[0.0818, 0.8099, 0.1084]], device='cuda:0') tensor(2.5035, device='cuda:0')\n"
     ]
    },
    {
     "name": "stderr",
     "output_type": "stream",
     "text": [
      "You are instantiating a Trainer but Tensorboard is not installed. You should consider installing it.\n"
     ]
    },
    {
     "data": {
      "text/html": [
       "\n",
       "                Logging results to <a href=\"https://wandb.com\" target=\"_blank\">Weights & Biases</a> <a href=\"https://docs.wandb.com/integrations/jupyter.html\" target=\"_blank\">(Documentation)</a>.<br/>\n",
       "                Project page: <a href=\"https://app.wandb.ai/hanguo/huggingface\" target=\"_blank\">https://app.wandb.ai/hanguo/huggingface</a><br/>\n",
       "                Run page: <a href=\"https://app.wandb.ai/hanguo/huggingface/runs/bda6jfkz\" target=\"_blank\">https://app.wandb.ai/hanguo/huggingface/runs/bda6jfkz</a><br/>\n",
       "            "
      ],
      "text/plain": [
       "<IPython.core.display.HTML object>"
      ]
     },
     "metadata": {},
     "output_type": "display_data"
    },
    {
     "name": "stderr",
     "output_type": "stream",
     "text": [
      " 97%|█████████▋| 35/36 [14:51<00:35, 35.80s/it]"
     ]
    },
    {
     "name": "stdout",
     "output_type": "stream",
     "text": [
      "Dirname: /export/home/Experiments/20200714/MNLI_data/remove_1_helpful_1000/output_dir/\n",
      "tensor([[-1.0599,  1.2237, -0.7199]], device='cuda:0') tensor([[0.0819, 0.8031, 0.1150]], device='cuda:0') tensor(2.5028, device='cuda:0')\n"
     ]
    },
    {
     "name": "stderr",
     "output_type": "stream",
     "text": [
      "You are instantiating a Trainer but Tensorboard is not installed. You should consider installing it.\n"
     ]
    },
    {
     "data": {
      "text/html": [
       "\n",
       "                Logging results to <a href=\"https://wandb.com\" target=\"_blank\">Weights & Biases</a> <a href=\"https://docs.wandb.com/integrations/jupyter.html\" target=\"_blank\">(Documentation)</a>.<br/>\n",
       "                Project page: <a href=\"https://app.wandb.ai/hanguo/huggingface\" target=\"_blank\">https://app.wandb.ai/hanguo/huggingface</a><br/>\n",
       "                Run page: <a href=\"https://app.wandb.ai/hanguo/huggingface/runs/17g0f1u5\" target=\"_blank\">https://app.wandb.ai/hanguo/huggingface/runs/17g0f1u5</a><br/>\n",
       "            "
      ],
      "text/plain": [
       "<IPython.core.display.HTML object>"
      ]
     },
     "metadata": {},
     "output_type": "display_data"
    },
    {
     "name": "stderr",
     "output_type": "stream",
     "text": [
      "502 response executing GraphQL.\n",
      "\n",
      "<html><head>\n",
      "<meta http-equiv=\"content-type\" content=\"text/html;charset=utf-8\">\n",
      "<title>502 Server Error</title>\n",
      "</head>\n",
      "<body text=#000000 bgcolor=#ffffff>\n",
      "<h1>Error: Server Error</h1>\n",
      "<h2>The server encountered a temporary error and could not complete your request.<p>Please try again in 30 seconds.</h2>\n",
      "<h2></h2>\n",
      "</body></html>\n",
      "\n",
      "\u001b[34m\u001b[1mwandb\u001b[0m: Network error resolved after 0:00:01.578424, resuming normal operation.\n",
      "100%|██████████| 36/36 [15:35<00:00, 25.99s/it]"
     ]
    },
    {
     "name": "stdout",
     "output_type": "stream",
     "text": [
      "Dirname: /export/home/Experiments/20200714/MNLI_data/remove_100_random_neutral/output_dir/\n",
      "tensor([[-0.9750,  1.1329, -0.7024]], device='cuda:0') tensor([[0.0948, 0.7806, 0.1246]], device='cuda:0') tensor(2.3555, device='cuda:0')\n"
     ]
    },
    {
     "name": "stderr",
     "output_type": "stream",
     "text": [
      "\n"
     ]
    }
   ],
   "source": [
    "output_collections = defaultdict(dict)\n",
    "from tqdm import tqdm\n",
    "for dir_name in tqdm(experiment_dirs):\n",
    "    if \"remove_20_smallest_distance_10000\" in dir_name:\n",
    "        continue\n",
    "    tokenizer = AutoTokenizer.from_pretrained(dir_name)\n",
    "    model = AutoModelForSequenceClassification.from_pretrained(dir_name)\n",
    "    model.eval()\n",
    "\n",
    "    train_dataset = GlueDataset(\n",
    "        args=GlueDataTrainingArguments(\n",
    "            task_name=\"mnli\",\n",
    "            max_seq_length=128,\n",
    "            data_dir=\"/export/home/Data/Glue/MNLI/\"),\n",
    "        tokenizer=tokenizer)\n",
    "\n",
    "    eval_dataset = GlueDataset(\n",
    "        args=GlueDataTrainingArguments(\n",
    "            task_name=\"mnli\",\n",
    "            max_seq_length=128,\n",
    "            data_dir=\"/export/home/Data/Glue/MNLI/\"),\n",
    "        tokenizer=tokenizer,\n",
    "        mode=\"dev\")\n",
    "\n",
    "\n",
    "    def hans_data_collator(features):\n",
    "        \"\"\"\n",
    "        Data collator that removes the \"pairID\" key if present.\n",
    "        \"\"\"\n",
    "        batch = default_data_collator(features)\n",
    "        _ = batch.pop(\"pairID\", None)\n",
    "        return batch\n",
    "\n",
    "\n",
    "    def get_dataloader(dataset, batch_size, data_collator) -> DataLoader:\n",
    "        sampler = SequentialSampler(dataset)\n",
    "\n",
    "        data_loader = DataLoader(\n",
    "            dataset,\n",
    "            sampler=sampler,\n",
    "            batch_size=batch_size,\n",
    "            collate_fn=data_collator,\n",
    "        )\n",
    "\n",
    "        return data_loader\n",
    "\n",
    "\n",
    "    def decode_one_example(inputs, logits=None):\n",
    "        if inputs[\"input_ids\"].shape[0] != 1:\n",
    "            raise ValueError\n",
    "\n",
    "        X = tokenizer.decode(inputs[\"input_ids\"][0])\n",
    "        Y = train_dataset.label_list[inputs[\"labels\"].item()]\n",
    "        if logits is not None:\n",
    "            Y_hat = train_dataset.label_list[\n",
    "                logits.argmax(dim=-1).item()]\n",
    "            return X, Y, Y_hat\n",
    "        else:\n",
    "            return X, Y\n",
    "\n",
    "    output_mode = glue_output_modes[\"mnli\"]\n",
    "    def build_compute_metrics_fn(task_name: str):\n",
    "        def compute_metrics_fn(p):\n",
    "            if output_mode == \"classification\":\n",
    "                preds = np.argmax(p.predictions, axis=1)\n",
    "            elif output_mode == \"regression\":\n",
    "                preds = np.squeeze(p.predictions)\n",
    "            return glue_compute_metrics(task_name, preds, p.label_ids)\n",
    "\n",
    "        return compute_metrics_fn\n",
    "\n",
    "\n",
    "    trainer = Trainer(\n",
    "        model=model,\n",
    "        args=TrainingArguments(output_dir=\"./tmp-output\", per_device_train_batch_size=128, per_device_eval_batch_size=128, learning_rate=5e-5, logging_steps=100),\n",
    "        data_collator=hans_data_collator,\n",
    "        train_dataset=train_dataset,\n",
    "        eval_dataset=eval_dataset,\n",
    "        compute_metrics=build_compute_metrics_fn(\"mnli\"),\n",
    "    )\n",
    "\n",
    "    train_batch_data_loader = get_dataloader(\n",
    "        train_dataset,\n",
    "        batch_size=160,\n",
    "        data_collator=hans_data_collator)\n",
    "\n",
    "    train_instance_data_loader = get_dataloader(\n",
    "        train_dataset,\n",
    "        batch_size=1,\n",
    "        data_collator=hans_data_collator)\n",
    "\n",
    "    eval_instance_data_loader = get_dataloader(\n",
    "        eval_dataset,\n",
    "        batch_size=1,\n",
    "        data_collator=hans_data_collator)\n",
    "\n",
    "\n",
    "    def run_forward(model, inputs):\n",
    "        # Implicitly used trainer and model\n",
    "        has_labels = any(inputs.get(k) is not None for k in [\"labels\", \"lm_labels\", \"masked_lm_labels\"])\n",
    "\n",
    "        for k, v in inputs.items():\n",
    "            if isinstance(v, torch.Tensor):\n",
    "                inputs[k] = v.to(trainer.args.device)\n",
    "        if trainer.args.past_index >= 0:\n",
    "            inputs[\"mems\"] = past\n",
    "\n",
    "        with torch.no_grad():\n",
    "            outputs = model(**inputs)\n",
    "            if has_labels:\n",
    "                step_eval_loss, logits = outputs[:2]\n",
    "                return step_eval_loss, logits\n",
    "            else:\n",
    "                logits = outputs[0]\n",
    "                return logits\n",
    "\n",
    "\n",
    "    def visualize(inputs):\n",
    "        X, Y = decode_one_example(inputs)\n",
    "        premise, hypothesis = X.split(\"[CLS]\")[1].split(\"[SEP]\")[:2]\n",
    "        print(f\"\\tP: {premise.strip()}\\n\\tH: {hypothesis.strip()}\\n\\tL: {Y}\")\n",
    "        \n",
    "        \n",
    "    for i, test_inputs in enumerate(eval_instance_data_loader):\n",
    "        step_eval_loss, logits = run_forward(model, test_inputs)\n",
    "        if i == 41:\n",
    "            break\n",
    "\n",
    "    print(f\"Dirname: {dir_name}\")\n",
    "    print(logits, logits.softmax(dim=-1), step_eval_loss)\n",
    "    if \"20200706\" in dir_name:\n",
    "        for remove_type in [\"random\", \"harmful\", \"helpful\"]:\n",
    "            output_collections[remove_type][0] = (logits.softmax(dim=-1), step_eval_loss)\n",
    "    else:\n",
    "#         if \"remove_100_random\" in dir_name:\n",
    "#             remove_type = \"random\"\n",
    "#             num_remove = 100\n",
    "#         if \"remove_20_random\" in dir_name:\n",
    "#             remove_type = \"random\"\n",
    "#             num_remove = 20\n",
    "#         if \"remove_1_random\" in dir_name:\n",
    "#             remove_type = \"random\"\n",
    "#             num_remove = 1\n",
    "#         if \"remove_100_harmful\" in dir_name:\n",
    "#             remove_type = \"harmful\"\n",
    "#             num_remove = 100\n",
    "#         if \"remove_20_harmful\" in dir_name:\n",
    "#             remove_type = \"harmful\"\n",
    "#             num_remove = 20\n",
    "#         if \"remove_1_harmful\" in dir_name:\n",
    "#             remove_type = \"harmful\"\n",
    "#             num_remove = 1\n",
    "#         if \"remove_100_helpful\" in dir_name:\n",
    "#             remove_type = \"helpful\"\n",
    "#             num_remove = 100\n",
    "#         if \"remove_20_helpful\" in dir_name:\n",
    "#             remove_type = \"helpful\"\n",
    "#             num_remove = 20\n",
    "#         if \"remove_1_helpful\" in dir_name:\n",
    "#             remove_type = \"helpful\"\n",
    "#             num_remove = 1\n",
    "        num_remove = int(dir_name.split(\"/\")[-3].split(\"_\")[1])\n",
    "        remove_type = \"_\".join(dir_name.split(\"/\")[-3].split(\"_\")[2:])\n",
    "\n",
    "        output_collections[remove_type][num_remove] = (logits.softmax(dim=-1), step_eval_loss)"
   ]
  },
  {
   "cell_type": "code",
   "execution_count": 6,
   "metadata": {},
   "outputs": [],
   "source": [
    "import matplotlib.pyplot as plt"
   ]
  },
  {
   "cell_type": "code",
   "execution_count": null,
   "metadata": {},
   "outputs": [],
   "source": []
  },
  {
   "cell_type": "code",
   "execution_count": 8,
   "metadata": {},
   "outputs": [],
   "source": [
    "# plt.rcParams[\"figure.figsize\"] = (10, 10)\n",
    "\n",
    "# for j in range(3):\n",
    "#     plt.subplot(2, 2, j + 1)\n",
    "#     plt.title(f\"Probs of {train_dataset.label_list[j]}\")\n",
    "#     remove_types = []\n",
    "#     for remove_type in output_collections.keys():\n",
    "#         output_tuple = output_collections[remove_type]\n",
    "#         output_tuple_sorted = sorted([p for p in output_tuple.items()], key=lambda pair: int(pair[0]))\n",
    "#         # Y = [output_tuple[0][0].squeeze(dim=0)[j], output_tuple[1][0].squeeze(dim=0)[j], output_tuple[20][0].squeeze(dim=0)[j], output_tuple[100][0].squeeze(dim=0)[j]]\n",
    "#         # X = [0, 1, 20, 100]\n",
    "#         Y = [p[1][0].squeeze(dim=0)[j].item() for p in output_tuple_sorted]\n",
    "#         X = [int(p[0]) for p in output_tuple_sorted]\n",
    "        \n",
    "#         plt.plot(X, Y, linestyle='--', marker='o')\n",
    "#         remove_types.append(remove_type)\n",
    "#     plt.legend(remove_types)\n",
    "#     plt.xlabel(\"Number of data-points removed\")\n",
    "    \n",
    "\n",
    "# plt.subplot(2, 2, 4)\n",
    "# plt.title(\"Loss\")\n",
    "# remove_types = []\n",
    "# for remove_type in output_collections.keys():\n",
    "#     output_tuple = output_collections[remove_type]\n",
    "#     output_tuple_sorted = sorted([p for p in output_tuple.items()], key=lambda pair: int(pair[0]))\n",
    "#     # Y = [output_tuple[0][1], output_tuple[1][1], output_tuple[20][1], output_tuple[100][1]]\n",
    "#     # X = [0, 1, 20, 100]\n",
    "#     Y = [p[1][1].item() for p in output_tuple_sorted]\n",
    "#     X = [int(p[0]) for p in output_tuple_sorted]\n",
    "\n",
    "#     plt.plot(X, Y, linestyle='--', marker='o')\n",
    "#     remove_types.append(remove_type)\n",
    "# plt.legend(remove_types)\n",
    "# plt.xlabel(\"Number of data-points removed\")"
   ]
  },
  {
   "cell_type": "code",
   "execution_count": null,
   "metadata": {},
   "outputs": [],
   "source": []
  },
  {
   "cell_type": "code",
   "execution_count": 10,
   "metadata": {},
   "outputs": [
    {
     "data": {
      "image/png": "[encoded data removed]",
      "text/plain": [
       "<Figure size 1800x360 with 5 Axes>"
      ]
     },
     "metadata": {
      "needs_background": "light"
     },
     "output_type": "display_data"
    }
   ],
   "source": [
    "plt.rcParams[\"figure.figsize\"] = (25, 5)\n",
    "def make_plot(color_dict, axis):\n",
    "    remove_types = []\n",
    "    for remove_type in sorted(output_collections.keys()):\n",
    "        if remove_type not in color_dict.keys():\n",
    "            continue\n",
    "\n",
    "        color = color_dict[remove_type]\n",
    "        output_tuple = output_collections[remove_type]\n",
    "        output_tuple_sorted = sorted(\n",
    "            [p for p in output_tuple.items()],\n",
    "            key=lambda pair: int(pair[0]))\n",
    "        Y = [p[1][1].item() for p in output_tuple_sorted]\n",
    "        X = [int(p[0]) for p in output_tuple_sorted]\n",
    "\n",
    "        axis.plot(X, Y, linestyle='--', marker='o', c=color)\n",
    "        remove_types.append(remove_type)\n",
    "\n",
    "    axis.legend(remove_types)\n",
    "    axis.set_xscale(\"log\")\n",
    "    axis.set_xlabel(\"Number of data-points removed\")\n",
    "\n",
    "    \n",
    "figure, axes = plt.subplots(1, 5, sharex=True, sharey=True)\n",
    "\n",
    "axes[0].set_title(\"Removing Helpful/Harmful/Random\")\n",
    "make_plot({\n",
    "            \"random\": \"grey\",\n",
    "            \"harmful\": \"darkred\",\n",
    "            \"helpful\": \"steelblue\",\n",
    "        }, axes[0])\n",
    "\n",
    "\n",
    "axes[1].set_title(\"Remoing Random with specific labels\")\n",
    "make_plot({\n",
    "            \"random_neutral\": \"grey\",\n",
    "            \"random_entailment\": \"salmon\",\n",
    "            \"random_contradiction\": \"skyblue\",\n",
    "            \"harmful\": \"darkred\",\n",
    "            \"helpful\": \"steelblue\",\n",
    "        }, axes[1])\n",
    "\n",
    "\n",
    "axes[2].set_title(\"Removing Helpful/Harmful with various KNN\")\n",
    "make_plot({\n",
    "            \"harmful\": \"darkred\",\n",
    "            \"helpful\": \"steelblue\",\n",
    "            \"harmful_10000\": \"red\",\n",
    "            \"helpful_10000\": \"dodgerblue\",\n",
    "            \"harmful_1000\": \"salmon\",\n",
    "            \"helpful_1000\": \"skyblue\"\n",
    "        }, axes[2])\n",
    "\n",
    "\n",
    "axes[3].set_title(\"Remoing Random with specific labels\")\n",
    "make_plot({\n",
    "            \"random_neutral\": \"grey\",\n",
    "            \"random_entailment\": \"grey\",\n",
    "            \"random_contradiction\": \"grey\",\n",
    "            \"harmful_10000\": \"red\",\n",
    "            \"helpful_10000\": \"dodgerblue\",\n",
    "            \"harmful_1000\": \"salmon\",\n",
    "            \"helpful_1000\": \"skyblue\"\n",
    "        }, axes[3])\n",
    "\n",
    "\n",
    "axes[4].set_title(\"Removing Smallest KNN Distance\")\n",
    "make_plot({\n",
    "            \"smallest_distance_1000\": \"black\",\n",
    "            # \"smallest_distance_10000\": \"black\",\n",
    "            \"harmful_10000\": \"red\",\n",
    "            \"helpful_10000\": \"dodgerblue\",\n",
    "            \"harmful_1000\": \"salmon\",\n",
    "            \"helpful_1000\": \"skyblue\"\n",
    "        }, axes[4])"
   ]
  },
  {
   "cell_type": "code",
   "execution_count": 11,
   "metadata": {},
   "outputs": [
    {
     "name": "stderr",
     "output_type": "stream",
     "text": [
      "requests_with_retry encountered retryable exception: 502 Server Error: Bad Gateway for url: https://api.wandb.ai/files/hanguo/huggingface/c1ok8frs/file_stream. args: ('https://api.wandb.ai/files/hanguo/huggingface/c1ok8frs/file_stream',), kwargs: {'json': {'complete': False, 'failed': False}}\n",
      "requests_with_retry encountered retryable exception: 502 Server Error: Bad Gateway for url: https://api.wandb.ai/files/hanguo/huggingface/6vp06y88/file_stream. args: ('https://api.wandb.ai/files/hanguo/huggingface/6vp06y88/file_stream',), kwargs: {'json': {'files': {'output.log': {'offset': 34, 'content': [\"ERROR 2020-07-15T17:47:10.394656 requests_with_retry encountered retryable exception: 502 Server Error: Bad Gateway for url: https://api.wandb.ai/files/hanguo/huggingface/c1ok8frs/file_stream. args: ('https://api.wandb.ai/files/hanguo/huggingface/c1ok8frs/file_stream',), kwargs: {'json': {'complete': False, 'failed': False}}\\n\"]}}}}\n",
      "requests_with_retry encountered retryable exception: 502 Server Error: Bad Gateway for url: https://api.wandb.ai/files/hanguo/huggingface/3a586nhl/file_stream. args: ('https://api.wandb.ai/files/hanguo/huggingface/3a586nhl/file_stream',), kwargs: {'json': {'files': {'output.log': {'offset': 76, 'content': [\"ERROR 2020-07-15T17:47:10.394329 requests_with_retry encountered retryable exception: 502 Server Error: Bad Gateway for url: https://api.wandb.ai/files/hanguo/huggingface/c1ok8frs/file_stream. args: ('https://api.wandb.ai/files/hanguo/huggingface/c1ok8frs/file_stream',), kwargs: {'json': {'complete': False, 'failed': False}}\\n\"]}}}}\n",
      "requests_with_retry encountered retryable exception: 502 Server Error: Bad Gateway for url: https://api.wandb.ai/files/hanguo/huggingface/14j4l4go/file_stream. args: ('https://api.wandb.ai/files/hanguo/huggingface/14j4l4go/file_stream',), kwargs: {'json': {'complete': False, 'failed': False}}\n",
      "requests_with_retry encountered retryable exception: 502 Server Error: Bad Gateway for url: https://api.wandb.ai/files/hanguo/huggingface/3unrucvo/file_stream. args: ('https://api.wandb.ai/files/hanguo/huggingface/3unrucvo/file_stream',), kwargs: {'json': {'complete': False, 'failed': False}}\n",
      "requests_with_retry encountered retryable exception: 502 Server Error: Bad Gateway for url: https://api.wandb.ai/files/hanguo/huggingface/1l4nwph7/file_stream. args: ('https://api.wandb.ai/files/hanguo/huggingface/1l4nwph7/file_stream',), kwargs: {'json': {'files': {'output.log': {'offset': 60, 'content': [\"ERROR 2020-07-15T17:47:10.394464 requests_with_retry encountered retryable exception: 502 Server Error: Bad Gateway for url: https://api.wandb.ai/files/hanguo/huggingface/c1ok8frs/file_stream. args: ('https://api.wandb.ai/files/hanguo/huggingface/c1ok8frs/file_stream',), kwargs: {'json': {'complete': False, 'failed': False}}\\n\"]}}}}\n",
      "requests_with_retry encountered retryable exception: ('Connection aborted.', OSError(\"(104, 'ECONNRESET')\")). args: ('https://api.wandb.ai/files/hanguo/huggingface/36d0ra9m/file_stream',), kwargs: {'json': {'complete': False, 'failed': False}}\n"
     ]
    }
   ],
   "source": [
    "figure.savefig(\"./20200715-fig1.pdf\")"
   ]
  },
  {
   "cell_type": "code",
   "execution_count": null,
   "metadata": {},
   "outputs": [],
   "source": []
  },
  {
   "cell_type": "code",
   "execution_count": null,
   "metadata": {},
   "outputs": [],
   "source": []
  },
  {
   "cell_type": "code",
   "execution_count": null,
   "metadata": {},
   "outputs": [],
   "source": []
  },
  {
   "cell_type": "code",
   "execution_count": null,
   "metadata": {},
   "outputs": [],
   "source": []
  }
 ],
 "metadata": {
  "kernelspec": {
   "display_name": "Python 3",
   "language": "python",
   "name": "python3"
  },
  "language_info": {
   "codemirror_mode": {
    "name": "ipython",
    "version": 3
   },
   "file_extension": ".py",
   "mimetype": "text/x-python",
   "name": "python",
   "nbconvert_exporter": "python",
   "pygments_lexer": "ipython3",
   "version": "3.7.7"
  }
 },
 "nbformat": 4,
 "nbformat_minor": 4
}
