{
 "cells": [
  {
   "cell_type": "code",
   "execution_count": 1,
   "metadata": {},
   "outputs": [],
   "source": [
    "from tqdm import tqdm\n",
    "import numpy as np\n",
    "import os\n",
    "import pickle"
   ]
  },
  {
   "cell_type": "code",
   "execution_count": 2,
   "metadata": {},
   "outputs": [],
   "source": [
    "from utils.utils_general import *\n",
    "from utils.utils_multiwoz import *"
   ]
  },
  {
   "cell_type": "code",
   "execution_count": 3,
   "metadata": {},
   "outputs": [],
   "source": [
    "def evaluate_and_dump(args, model, loader, dump_keys=[], add_name=\"multiwoz\"):\n",
    "    f_w = open(os.path.join(args[\"output_dir\"], \"tst_results.txt\"), \"w\")\n",
    "    # Start evaluating on the test set\n",
    "    prediction_output = []\n",
    "    test_loss = 0\n",
    "    preds, labels = [], []\n",
    "    pbar = tqdm(loader)\n",
    "    for d in pbar:\n",
    "        with torch.no_grad():\n",
    "            outputs = model(d)\n",
    "        test_loss += outputs[\"loss\"]\n",
    "        d_out = {}\n",
    "        for key in dump_keys:\n",
    "             d_out[key] = d[key]\n",
    "        d_out[\"preds\"] = [item for item in outputs[\"pred\"]]\n",
    "        d_out[\"labels\"] = [item for item in outputs[\"label\"]]\n",
    "    \n",
    "        d_out_reshape = []\n",
    "        for i in range(len(d_out[\"preds\"])):\n",
    "            item = {}\n",
    "            for k, v in d_out.items():\n",
    "                item[k] = v[i]\n",
    "            d_out_reshape.append(item)\n",
    "            \n",
    "        prediction_output += d_out_reshape\n",
    "\n",
    "        preds += [item for item in outputs[\"pred\"]]\n",
    "        labels += [item for item in outputs[\"label\"]] \n",
    "\n",
    "    with open(os.path.join(args[\"output_dir\"], \"prediction-{}.pkl\".format(add_name)), \"wb\") as f_out:\n",
    "        pickle.dump(prediction_output, f_out)\n",
    "\n",
    "    test_loss = test_loss / len(tst_loader)\n",
    "    results = model.evaluation(preds, labels)\n",
    "    f_w.write(str(results))\n",
    "    f_w.close()"
   ]
  },
  {
   "cell_type": "markdown",
   "metadata": {},
   "source": [
    "# Dialogue State Tracking"
   ]
  },
  {
   "cell_type": "code",
   "execution_count": 4,
   "metadata": {},
   "outputs": [],
   "source": [
    "args = {\n",
    "    \"task\":\"dst\",\n",
    "    \"task_name\":\"dst\",\n",
    "    \"output_dir\": \"save/dst/\",\n",
    "    \"load_path\": \"/export/share/jason/ToD-BERT/ToD-BERT-jnt-V1-DST/pytorch_model.bin\",\n",
    "    \n",
    "    \"model_type\": \"bert\",\n",
    "    \"model_name_or_path\": \"TODBERT/TOD-BERT-JNT-V1\",\n",
    "    \"data_path\": \"/export/share/datasets/dialogues/\", #\"/export/home/dialog_datasets/\",\n",
    "    \"max_line\": None,\n",
    "    \"ontology_version\": \"\",\n",
    "    \"only_last_turn\":False,\n",
    "    \"batch_size\":6,\n",
    "    \"max_seq_length\":512,\n",
    "    \"usr_token\":\"[USR]\",\n",
    "    \"sys_token\":\"[SYS]\",\n",
    "    \"example_type\":\"turn\"\n",
    "}"
   ]
  },
  {
   "cell_type": "code",
   "execution_count": 5,
   "metadata": {},
   "outputs": [
    {
     "name": "stdout",
     "output_type": "stream",
     "text": [
      "[Info] Using Version 2.1\n",
      "[Info] Load from old complete ontology from version ...\n",
      "Reading from /export/share/datasets/dialogues/MultiWOZ-2.1/train_dials.json for read_langs_turn\n",
      "Reading from /export/share/datasets/dialogues/MultiWOZ-2.1/dev_dials.json for read_langs_turn\n",
      "Reading from /export/share/datasets/dialogues/MultiWOZ-2.1/test_dials.json for read_langs_turn\n",
      "Read 56668 pairs train from MultiWOZ\n",
      "Read 7374 pairs valid from MultiWOZ\n",
      "Read 7368 pairs test from MultiWOZ\n",
      "args[\"task_name\"] dst\n"
     ]
    }
   ],
   "source": [
    "# Reading data and create data loaderz\n",
    "datasets = {}\n",
    "data_trn, data_dev, data_tst, data_meta = prepare_data_multiwoz(args)\n",
    "datasets[\"multiwoz\"] = {\"train\": data_trn, \"dev\":data_dev, \"test\": data_tst, \"meta\":data_meta}\n",
    "\n",
    "unified_meta = get_unified_meta(datasets)  \n",
    "args[\"unified_meta\"] = unified_meta"
   ]
  },
  {
   "cell_type": "code",
   "execution_count": 6,
   "metadata": {},
   "outputs": [
    {
     "name": "stdout",
     "output_type": "stream",
     "text": [
      "[Info] SV Encoder does not requires grad...\n",
      "Complete initialization of slot and value lookup\n",
      "MODEL /export/share/jason/ToD-BERT/ToD-BERT-jnt-V1-DST/pytorch_model.bin LOADED\n"
     ]
    }
   ],
   "source": [
    "from models.BERT_DST_Picklist import *\n",
    "\n",
    "model_class, tokenizer_class, config_class = BertModel, BertTokenizer, BertConfig\n",
    "tokenizer = tokenizer_class.from_pretrained(args[\"model_name_or_path\"])\n",
    "config = config_class.from_pretrained(args[\"model_name_or_path\"]) if args[\"model_name_or_path\"] else config_class()\n",
    "args[\"model_class\"] = model_class\n",
    "args[\"tokenizer\"] = tokenizer\n",
    "args[\"config\"] = config\n",
    "\n",
    "args[\"num_labels\"] = unified_meta[\"num_labels\"]\n",
    "model = BeliefTracker(args)\n",
    "    \n",
    "if args[\"load_path\"]:\n",
    "    print(\"MODEL {} LOADED\".format(args[\"load_path\"]))\n",
    "    if torch.cuda.is_available(): \n",
    "        model.load_state_dict(torch.load(args[\"load_path\"]))\n",
    "    else:\n",
    "        model.load_state_dict(torch.load(args[\"load_path\"], lambda storage, loc: storage))\n",
    "\n",
    "if torch.cuda.is_available():\n",
    "    model = model.cuda()"
   ]
  },
  {
   "cell_type": "code",
   "execution_count": 7,
   "metadata": {},
   "outputs": [
    {
     "name": "stderr",
     "output_type": "stream",
     "text": [
      "\r",
      "  0%|          | 0/1228 [00:00<?, ?it/s]"
     ]
    },
    {
     "name": "stdout",
     "output_type": "stream",
     "text": [
      "[Info] Start Evaluation on test set...\n"
     ]
    },
    {
     "name": "stderr",
     "output_type": "stream",
     "text": [
      "100%|██████████| 1228/1228 [01:33<00:00, 13.10it/s]\n"
     ]
    },
    {
     "name": "stdout",
     "output_type": "stream",
     "text": [
      "Results 1:  {'joint_acc': 0.4799131378935939, 'slot_acc': 0.96900108577633}\n"
     ]
    }
   ],
   "source": [
    "print(\"[Info] Start Evaluation on test set...\")\n",
    "tst_loader = get_loader(args, \"test\" , tokenizer, datasets, unified_meta, shuffle=args[\"task_name\"]==\"rs\")\n",
    "model.eval()\n",
    "\n",
    "if not os.path.exists(args[\"output_dir\"]): os.makedirs(args[\"output_dir\"])\n",
    "    \n",
    "evaluate_and_dump(args, model, tst_loader, dump_keys=[\"context_plain\", \"ID\", \"turn_id\", \"belief\"])"
   ]
  },
  {
   "cell_type": "markdown",
   "metadata": {},
   "source": [
    "## Test on Slices"
   ]
  },
  {
   "cell_type": "code",
   "execution_count": 8,
   "metadata": {},
   "outputs": [],
   "source": [
    "prediction = pickle.load(open(os.path.join(args[\"output_dir\"], \"prediction-multiwoz.pkl\"), \"rb\"))"
   ]
  },
  {
   "cell_type": "code",
   "execution_count": 9,
   "metadata": {},
   "outputs": [
    {
     "data": {
      "text/plain": [
       "[{'context_plain': '[SYS]  [USR] i would like a taxi from saint john s college to pizza hut fen ditton . [SYS] what time do you want to leave and what time do you want to arrive by ? [USR] i want to leave after 17:15 . [SYS] booking completed ! your taxi will be blue honda contact number is 07218068540 [USR] thank you for all the help ! i appreciate it . [SEP]  [SYS] you are welcome . is there anything else i can help you with today ? [USR] no , i am all set . have a nice day . bye .',\n",
       "  'ID': 'SNG0073.json',\n",
       "  'turn_id': 3,\n",
       "  'belief': {'taxi-leaveat': '17:15',\n",
       "   'taxi-destination': 'pizza hut fenditton',\n",
       "   'taxi-departure': 'saint johns college'},\n",
       "  'preds': array([  0,   0,   0,   0,   0,   0,   0,   0,   0,   0,   0,   0,   0,\n",
       "           0,   0,   0,   0,   0,   0,   0,   0,   0,   0,  23, 297, 300,\n",
       "           0,   0,   0,   0]),\n",
       "  'labels': array([  0,   0,   0,   0,   0,   0,   0,   0,   0,   0,   0,   0,   0,\n",
       "           0,   0,   0,   0,   0,   0,   0,   0,   0,   0,  23, 297, 300,\n",
       "           0,   0,   0,   0])},\n",
       " {'context_plain': '[SYS]  [USR] i would like a taxi from saint john s college to pizza hut fen ditton . [SYS] what time do you want to leave and what time do you want to arrive by ? [USR] i want to leave after 17:15 . [SEP]  [SYS] booking completed ! your taxi will be blue honda contact number is 07218068540 [USR] thank you for all the help ! i appreciate it .',\n",
       "  'ID': 'SNG0073.json',\n",
       "  'turn_id': 2,\n",
       "  'belief': {'taxi-leaveat': '17:15',\n",
       "   'taxi-destination': 'pizza hut fenditton',\n",
       "   'taxi-departure': 'saint johns college'},\n",
       "  'preds': array([  0,   0,   0,   0,   0,   0,   0,   0,   0,   0,   0,   0,   0,\n",
       "           0,   0,   0,   0,   0,   0,   0,   0,   0,   0,  23, 297, 300,\n",
       "           0,   0,   0,   0]),\n",
       "  'labels': array([  0,   0,   0,   0,   0,   0,   0,   0,   0,   0,   0,   0,   0,\n",
       "           0,   0,   0,   0,   0,   0,   0,   0,   0,   0,  23, 297, 300,\n",
       "           0,   0,   0,   0])},\n",
       " {'context_plain': '[SYS]  [USR] please find a restaurant called nusha . [SEP]  [SYS] i do not seem to be finding anything called nusha . what type of food does the restaurant serve ? [USR] i am not sure of the type of food but could you please check again and see if you can find it ? thank you .',\n",
       "  'ID': 'PMUL4648.json',\n",
       "  'turn_id': 1,\n",
       "  'belief': {},\n",
       "  'preds': array([  0,   0,   0,   0,   0,   0,   0,   0,   0,   0,   0,   0,   0,\n",
       "           0,   0,   0,   0,   0,   0,  22, 147,   0,   0,   0,   0,   0,\n",
       "           0,   0,   0,   0]),\n",
       "  'labels': array([0, 0, 0, 0, 0, 0, 0, 0, 0, 0, 0, 0, 0, 0, 0, 0, 0, 0, 0, 0, 0, 0,\n",
       "         0, 0, 0, 0, 0, 0, 0, 0])},\n",
       " {'context_plain': '[SYS]  [USR] i would like a taxi from saint john s college to pizza hut fen ditton . [SEP]  [SYS] what time do you want to leave and what time do you want to arrive by ? [USR] i want to leave after 17:15 .',\n",
       "  'ID': 'SNG0073.json',\n",
       "  'turn_id': 1,\n",
       "  'belief': {'taxi-leaveat': '17:15',\n",
       "   'taxi-destination': 'pizza hut fenditton',\n",
       "   'taxi-departure': 'saint johns college'},\n",
       "  'preds': array([  0,   0,   0,   0,   0,   0,   0,   0,   0,   0,   0,   0,   0,\n",
       "           0,   0,   0,   0,   0,   0,   0,   0,   0,   0,  23, 297, 300,\n",
       "           0,   0,   0,   0]),\n",
       "  'labels': array([  0,   0,   0,   0,   0,   0,   0,   0,   0,   0,   0,   0,   0,\n",
       "           0,   0,   0,   0,   0,   0,   0,   0,   0,   0,  23, 297, 300,\n",
       "           0,   0,   0,   0])},\n",
       " {'context_plain': ' [SEP]  [SYS]  [USR] i would like a taxi from saint john s college to pizza hut fen ditton .',\n",
       "  'ID': 'SNG0073.json',\n",
       "  'turn_id': 0,\n",
       "  'belief': {'taxi-destination': 'pizza hut fenditton',\n",
       "   'taxi-departure': 'saint johns college'},\n",
       "  'preds': array([  0,   0,   0,   0,   0,   0,   0,   0,   0,   0,   0,   0,   0,\n",
       "           0,   0,   0,   0,   0,   0,   0,   0,   0,   0,   0, 297, 300,\n",
       "           0,   0,   0,   0]),\n",
       "  'labels': array([  0,   0,   0,   0,   0,   0,   0,   0,   0,   0,   0,   0,   0,\n",
       "           0,   0,   0,   0,   0,   0,   0,   0,   0,   0,   0, 297, 300,\n",
       "           0,   0,   0,   0])}]"
      ]
     },
     "execution_count": 9,
     "metadata": {},
     "output_type": "execute_result"
    }
   ],
   "source": [
    "SLOTS = ['hotel-pricerange','hotel-type','hotel-parking','hotel-book stay','hotel-book day','hotel-book people',\n",
    "         'hotel-area','hotel-stars','hotel-internet','train-destination','train-day','train-departure','train-arriveby',\n",
    "         'train-book people','train-leaveat','attraction-area','restaurant-food','restaurant-pricerange','restaurant-area',\n",
    "         'attraction-name','restaurant-name','attraction-type','hotel-name','taxi-leaveat','taxi-destination', 'taxi-departure',\n",
    "         'restaurant-book time','restaurant-book day','restaurant-book people','taxi-arriveby']\n",
    "\n",
    "prediction[:5]"
   ]
  },
  {
   "cell_type": "markdown",
   "metadata": {},
   "source": [
    "### Domain Slice (whether the true belief label contains a certain domain)"
   ]
  },
  {
   "cell_type": "code",
   "execution_count": 10,
   "metadata": {},
   "outputs": [
    {
     "name": "stdout",
     "output_type": "stream",
     "text": [
      "Domain [hotel] Ratio: 0.3534\n",
      "Results 1:  {'joint_acc': 0.3302611367127496, 'slot_acc': 0.954889912954429}\n",
      "Domain [train] Ratio: 0.4007\n",
      "Results 1:  {'joint_acc': 0.49220867208672087, 'slot_acc': 0.9720415537488708}\n",
      "Domain [restaurant] Ratio: 0.3920\n",
      "Results 1:  {'joint_acc': 0.41481994459833793, 'slot_acc': 0.9623037857802401}\n",
      "Domain [attraction] Ratio: 0.3313\n",
      "Results 1:  {'joint_acc': 0.40925850061450225, 'slot_acc': 0.9628704083026082}\n",
      "Domain [taxi] Ratio: 0.0871\n",
      "Results 1:  {'joint_acc': 0.16510903426791276, 'slot_acc': 0.9235202492211838}\n"
     ]
    }
   ],
   "source": [
    "for domain in [\"hotel\", \"train\", \"restaurant\", \"attraction\", \"taxi\"]:\n",
    "    preds, labels = [], []\n",
    "    total = 0\n",
    "    for data in prediction:\n",
    "        total += 1\n",
    "        if domain in [k.split(\"-\")[0] for k in data[\"belief\"].keys()]:\n",
    "            preds += [data[\"preds\"]]\n",
    "            labels += [data[\"labels\"]]\n",
    "    print(\"Domain [{}] Ratio: {:.4f}\".format(domain, len(labels)/total))\n",
    "    if len(preds) != 0:\n",
    "        results = model.evaluation(preds, labels) \n"
   ]
  },
  {
   "cell_type": "markdown",
   "metadata": {},
   "source": [
    "### Slot Slice (whether the true belief label contains a certain slot)"
   ]
  },
  {
   "cell_type": "code",
   "execution_count": 11,
   "metadata": {},
   "outputs": [
    {
     "name": "stdout",
     "output_type": "stream",
     "text": [
      "Slot [leaveat] Ratio: 0.2189\n",
      "Results 1:  {'joint_acc': 0.33477991320520767, 'slot_acc': 0.9553006819590825}\n",
      "Slot [type] Ratio: 0.3825\n",
      "Results 1:  {'joint_acc': 0.3388928317955997, 'slot_acc': 0.957049917198959}\n",
      "Slot [stars] Ratio: 0.1623\n",
      "Results 1:  {'joint_acc': 0.24665551839464883, 'slot_acc': 0.9455964325529543}\n",
      "Slot [book day] Ratio: 0.3077\n",
      "Results 1:  {'joint_acc': 0.28010586678429644, 'slot_acc': 0.9499926481399794}\n",
      "Slot [day] Ratio: 0.3591\n",
      "Results 1:  {'joint_acc': 0.47430083144368856, 'slot_acc': 0.9709120685311161}\n",
      "Slot [book time] Ratio: 0.1781\n",
      "Results 1:  {'joint_acc': 0.3201219512195122, 'slot_acc': 0.9553607723577235}\n",
      "Slot [book people] Ratio: 0.4248\n",
      "Results 1:  {'joint_acc': 0.3156549520766773, 'slot_acc': 0.9549520766773163}\n",
      "Slot [arriveby] Ratio: 0.2499\n",
      "Results 1:  {'joint_acc': 0.4111895708853884, 'slot_acc': 0.9614521093608546}\n",
      "Slot [destination] Ratio: 0.4442\n",
      "Results 1:  {'joint_acc': 0.4268255423159181, 'slot_acc': 0.9629901211936043}\n",
      "Slot [book stay] Ratio: 0.1429\n",
      "Results 1:  {'joint_acc': 0.22317188983855651, 'slot_acc': 0.9398543842988287}\n",
      "Slot [food] Ratio: 0.2831\n",
      "Results 1:  {'joint_acc': 0.36768935762224353, 'slot_acc': 0.9580856503675296}\n",
      "Slot [pricerange] Ratio: 0.4387\n",
      "Results 1:  {'joint_acc': 0.32673267326732675, 'slot_acc': 0.9555486798679867}\n",
      "Slot [name] Ratio: 0.5037\n",
      "Results 1:  {'joint_acc': 0.37052007545136084, 'slot_acc': 0.9592203359382018}\n",
      "Slot [parking] Ratio: 0.1467\n",
      "Results 1:  {'joint_acc': 0.24606845513413506, 'slot_acc': 0.9450200431699044}\n",
      "Slot [departure] Ratio: 0.4308\n",
      "Results 1:  {'joint_acc': 0.4183994959042218, 'slot_acc': 0.9621613106490233}\n",
      "Slot [area] Ratio: 0.5803\n",
      "Results 1:  {'joint_acc': 0.38353601496725914, 'slot_acc': 0.9605160586217649}\n",
      "Slot [internet] Ratio: 0.1538\n",
      "Results 1:  {'joint_acc': 0.23300970873786409, 'slot_acc': 0.9436010591350397}\n"
     ]
    }
   ],
   "source": [
    "for slot in ['leaveat', 'type', 'stars', 'book day', 'day', 'book time', 'book people', 'arriveby', 'destination', 'book stay', 'food', 'pricerange', 'name', 'parking', 'departure', 'area', 'internet']:\n",
    "    preds, labels = [], []\n",
    "    total = 0\n",
    "    for data in prediction:\n",
    "        total += 1\n",
    "        if slot in [k.split(\"-\")[1] for k in data[\"belief\"].keys()]:\n",
    "            preds += [data[\"preds\"]]\n",
    "            labels += [data[\"labels\"]]\n",
    "    print(\"Slot [{}] Ratio: {:.4f}\".format(slot, len(labels)/total))\n",
    "    if len(preds) != 0:\n",
    "        results = model.evaluation(preds, labels) \n"
   ]
  },
  {
   "cell_type": "markdown",
   "metadata": {},
   "source": [
    "# Response Selection"
   ]
  },
  {
   "cell_type": "code",
   "execution_count": 12,
   "metadata": {},
   "outputs": [],
   "source": [
    "args = {\n",
    "    \"task\":\"nlg\",\n",
    "    \"task_name\":\"rs\",\n",
    "    \"output_dir\": \"save/rs/\",\n",
    "    \"load_path\": \"/export/share/jason/ToD-BERT/ToD-BERT-jnt-V1-RS/pytorch_model.bin\",\n",
    "    \n",
    "    \"model_type\": \"bert\",\n",
    "    \"model_name_or_path\": \"TODBERT/TOD-BERT-JNT-V1\",\n",
    "    \"data_path\": \"/export/share/datasets/dialogues/\",\n",
    "    \"max_line\": None,\n",
    "    \"ontology_version\": \"\",\n",
    "    \"only_last_turn\":False,\n",
    "    \"batch_size\":100,\n",
    "    \"max_seq_length\":256,\n",
    "    \"usr_token\":\"[USR]\",\n",
    "    \"sys_token\":\"[SYS]\",\n",
    "    \"example_type\":\"turn\",\n",
    "    \"nb_neg_sample_rs\":0,\n",
    "}"
   ]
  },
  {
   "cell_type": "code",
   "execution_count": 13,
   "metadata": {},
   "outputs": [
    {
     "name": "stdout",
     "output_type": "stream",
     "text": [
      "[Info] Using Version 2.1\n",
      "[Info] Load from old complete ontology from version ...\n",
      "Reading from /export/share/datasets/dialogues/MultiWOZ-2.1/train_dials.json for read_langs_turn\n",
      "Reading from /export/share/datasets/dialogues/MultiWOZ-2.1/dev_dials.json for read_langs_turn\n",
      "Reading from /export/share/datasets/dialogues/MultiWOZ-2.1/test_dials.json for read_langs_turn\n",
      "Read 56668 pairs train from MultiWOZ\n",
      "Read 7374 pairs valid from MultiWOZ\n",
      "Read 7368 pairs test from MultiWOZ\n",
      "args[\"task_name\"] rs\n",
      "resp_cand_trn 45299\n",
      "resp_cand_dev 6244\n",
      "resp_cand_tst 6218\n"
     ]
    }
   ],
   "source": [
    "# Reading data and create data loaderz\n",
    "datasets = {}\n",
    "data_trn, data_dev, data_tst, data_meta = prepare_data_multiwoz(args)\n",
    "datasets[\"multiwoz\"] = {\"train\": data_trn, \"dev\":data_dev, \"test\": data_tst, \"meta\":data_meta}\n",
    "\n",
    "unified_meta = get_unified_meta(datasets)  \n",
    "args[\"unified_meta\"] = unified_meta"
   ]
  },
  {
   "cell_type": "code",
   "execution_count": 14,
   "metadata": {},
   "outputs": [
    {
     "name": "stdout",
     "output_type": "stream",
     "text": [
      "MODEL /export/share/jason/ToD-BERT/ToD-BERT-jnt-V1-RS/pytorch_model.bin LOADED\n"
     ]
    }
   ],
   "source": [
    "\n",
    "from models.dual_encoder_ranking import *\n",
    "\n",
    "model_class, tokenizer_class, config_class = BertModel, BertTokenizer, BertConfig\n",
    "tokenizer = tokenizer_class.from_pretrained(args[\"model_name_or_path\"])\n",
    "config = config_class.from_pretrained(args[\"model_name_or_path\"]) if args[\"model_name_or_path\"] else config_class()\n",
    "args[\"model_class\"] = model_class\n",
    "args[\"tokenizer\"] = tokenizer\n",
    "args[\"config\"] = config\n",
    "\n",
    "args[\"num_labels\"] = unified_meta[\"num_labels\"]\n",
    "model = dual_encoder_ranking(args)\n",
    "    \n",
    "if args[\"load_path\"]:\n",
    "    print(\"MODEL {} LOADED\".format(args[\"load_path\"]))\n",
    "    if torch.cuda.is_available(): \n",
    "        model.load_state_dict(torch.load(args[\"load_path\"]))\n",
    "    else:\n",
    "        model.load_state_dict(torch.load(args[\"load_path\"], lambda storage, loc: storage))\n",
    "\n",
    "if torch.cuda.is_available():\n",
    "    model = model.cuda()"
   ]
  },
  {
   "cell_type": "code",
   "execution_count": 15,
   "metadata": {},
   "outputs": [
    {
     "name": "stderr",
     "output_type": "stream",
     "text": [
      "\r",
      "  0%|          | 0/64 [00:00<?, ?it/s]"
     ]
    },
    {
     "name": "stdout",
     "output_type": "stream",
     "text": [
      "[Info] Start Evaluation on test set...\n",
      "[Info] Remove turns with empty system response...\n",
      "[Info] Remove turn=0 system response...\n"
     ]
    },
    {
     "name": "stderr",
     "output_type": "stream",
     "text": [
      "100%|██████████| 64/64 [01:07<00:00,  1.04it/s]\n"
     ]
    },
    {
     "name": "stdout",
     "output_type": "stream",
     "text": [
      "{'top-1': 0.6509656146961846, 'top-3': 0.8662270372114932, 'top-5': 0.9324854765269273, 'top-10': 0.9825718323127649}\n"
     ]
    }
   ],
   "source": [
    "print(\"[Info] Start Evaluation on test set...\")\n",
    "tst_loader = get_loader(args, \"test\" , tokenizer, datasets, unified_meta, shuffle=args[\"task_name\"]==\"rs\")\n",
    "model.eval()\n",
    "if not os.path.exists(args[\"output_dir\"]): os.makedirs(args[\"output_dir\"])    \n",
    "evaluate_and_dump(args, model, tst_loader, dump_keys=[\"context_plain\", \"ID\", \"turn_id\", \"response_plain\", \"utterance_plain\"])"
   ]
  },
  {
   "cell_type": "markdown",
   "metadata": {},
   "source": [
    "## Test on Slices"
   ]
  },
  {
   "cell_type": "code",
   "execution_count": 17,
   "metadata": {},
   "outputs": [],
   "source": [
    "prediction = pickle.load(open(os.path.join(args[\"output_dir\"], \"prediction-multiwoz.pkl\"), \"rb\"))"
   ]
  },
  {
   "cell_type": "code",
   "execution_count": 18,
   "metadata": {},
   "outputs": [
    {
     "data": {
      "text/plain": [
       "[{'context_plain': '[SYS]  [USR] hello , i am looking for an expensive place to eat in the centre of cambridge . [SYS] there are many results in that area for expensive restaurant -s , is there a specific type of cuisine you would like to try ? [USR] it should serve chinese food . [SYS] we have 4 entries that match that criteria . do you have a further preference ? [USR] ok , i want to book a table for 5 people at 16:30 on wednesday . [SYS] i am sorry , but i attempted reservations at your specified time at all 4 restaurant -s , and none have availability at that time . would you like to try a different time ? [USR] how about 15:30 ? [SYS] i have a reservation for you at 15:30 for 5 . your reference number is jugxyqop and they will only hold your table for 15 minutes just an fyi . anything else ? [USR] yes , i also need a train for wednesday i need to arrive by 12:30 . [SYS] what are your departure and arrival stations ? [USR] i am leaving from london kings cross and going to cambridge . arrival time as close to 12:30 as possible please . [SYS] tr2417 will arrive in cambridge on wednesday by 12:08 , would you like a ticket for this train ? [USR] yes please , also for 5 people . and i would like a reference number , please .',\n",
       "  'ID': 'MUL0239.json',\n",
       "  'turn_id': 7,\n",
       "  'response_plain': '[SYS] okay you train is booked and your reference number is olg8b5m8 . can i help you with anything else ?',\n",
       "  'utterance_plain': '[USR] nope that should be it thanks',\n",
       "  'preds': array([27, 88, 97, 78, 90, 33, 91, 49, 66, 63, 79, 56, 22, 35, 40, 18, 98,\n",
       "         67, 41, 55, 89, 16, 85, 31,  8, 86, 84, 80, 61,  6, 47, 20, 95, 71,\n",
       "         74, 82, 15, 53, 81, 45, 94, 21, 64, 36, 60, 77,  5, 57, 65, 70, 37,\n",
       "         73, 17, 87, 30, 11, 96, 13, 42, 38, 25,  4, 10, 62, 39, 34,  3, 29,\n",
       "         75, 83, 93, 28, 72, 23,  1,  7, 48, 46, 50, 54, 92, 99, 12,  2, 32,\n",
       "         44, 51, 68, 59, 52, 69, 14, 24, 43, 19, 76, 58,  9,  0, 26]),\n",
       "  'labels': 0},\n",
       " {'context_plain': \"[SYS]  [USR] i cannot wait to see some of the local attractions when i get there . i am looking for some place -s to go in town . [SYS] what types of attractions are you interested in ? we have everything from art galleries to zoos ! [USR] hello . i am excited to visit cambridge . can you give me addresses and phone numbers of different types of attractions in the centre of town ? [SYS] what type of attractions are you looking for ? [USR] well , something in the center . . can you recommend anything ? [SYS] there are lots of architecture in the centre of town how may i be of assistance ? [USR] something you think is the best . please give me some info on your favorite place . [SYS] old schools is nice . would you like more info on it ? [USR] where is that located ? [SYS] it is in the centre of town . [USR] can i have the address and phone number , please ? [SYS] it is located on trinity lane and the phone number is 01223332320 . the exact address is not listed . is there anything else i can help with today ? [USR] yes , i also need a place to stay in the same area as the attraction with free parking . it should be cheap -ly priced and 0 stars . [SYS] well the el shaddai fits your needs . it is not the best guesthouse in town but it will get the job done . would you like to book it ? [USR] no , i dont need it booked . but i do need to know if it has free internet , the phone number , and the post code . [SYS] yes it is free internet , the phone number is 01223327978 , and the postcode is cb11eg . is their anything else i can help you with ? [USR] yes , i'll need to book a taxi to commute between old schools and the hotel . i would like to leave be picked up at old schools by 8:15 . [SYS] ok . a blue skoda will pick you up at 08:15 . the contact number is 07568386559 . [USR] you were a great help ! thank you . [SYS] you are welcome ! can i help you with anything else ? [USR] no that is it for now . bye .\",\n",
       "  'ID': 'PMUL4326.json',\n",
       "  'turn_id': 11,\n",
       "  'response_plain': '[SYS] i hope your trip is fun . good day .',\n",
       "  'utterance_plain': '[USR] thanks again for helping',\n",
       "  'preds': array([66, 97, 78, 49, 91, 84, 95, 60, 33, 86, 74, 16, 77, 80, 47, 20, 37,\n",
       "         67, 31, 40, 94, 63, 22, 46, 27, 89,  5,  8, 90, 79, 28, 36, 88, 53,\n",
       "         54, 61, 71, 64, 83, 55, 62, 48, 73, 69, 32, 56, 39, 68, 45, 30, 70,\n",
       "         44, 98, 23, 42,  9, 65, 50, 51, 35, 72, 41, 81, 92, 59, 76, 12, 58,\n",
       "          7, 18, 85, 93, 38, 21, 43, 26, 82, 87, 96,  6, 14,  0, 52, 25, 15,\n",
       "          2, 99, 10, 19, 57, 11, 24, 13, 17, 75,  3, 34,  4, 29,  1]),\n",
       "  'labels': 1},\n",
       " {'context_plain': '[SYS]  [USR] i am looking for an expensive restaurant that serves thai food , please . [SYS] there is 1 in the west and 1 in the centre of town . do you have a preference in area ? [USR] i do not have a preference in the area . i suppose you could book me a table for 2 people at 12:30 on saturday . also , could i get the reference number ? [SYS] i booked you a table at the sala thong in the west area for 12:30 saturday . [USR] thanks , please provide the reference number . [SYS] the reference number is xlrsfb9q . is there anything else that i can do for you ? [USR] thank you for booking that . could you please book me a taxi to leave from the centre of town at my hotel to the sala thong for saturday at 11:30 ? [SYS] in order to book the taxi , i will need the location of your hotel . [USR] i need to find a restaurant in the wast part of town . [SYS] the sala thong restaurant is in the west part of town . [USR] i need a place to stay . i would like it in the same price range as the restaurant with free wifi and parking located in the east . [SYS] there is only 1 hotel that fits that , the express by holiday inn cambridge , would you like to stay there ? [USR] yes , please book it for 2 people on saturday for 4 nights . will you give me the confirmation number when that is complete ? [SYS] sure , booking was successful . your confirmation number is 7mg032v9 . [USR] could you also book me a taxi between the 2 location . i would like to be to the restaurant by 12:30 .',\n",
       "  'ID': 'MUL0034.json',\n",
       "  'turn_id': 8,\n",
       "  'response_plain': '[SYS] the booking was completed , you are set for departure at 11:30 at the express by holiday inn and their contact number is 07518044119 . is there anything else ?',\n",
       "  'utterance_plain': '[USR] what is the car type that will be picking me up ?',\n",
       "  'preds': array([78, 33, 94, 71, 81, 41, 35, 45,  8, 49, 66, 98, 89, 63, 61, 31, 47,\n",
       "         79, 56, 90, 88, 77, 95,  5, 86, 11, 20, 40, 91, 39, 62, 84, 16, 36,\n",
       "          7, 37, 85, 22, 42, 27, 65, 73, 25, 55, 69, 97, 82, 83, 60, 64, 70,\n",
       "         74, 34, 48, 46,  9, 72, 92, 29, 52, 23, 54,  3,  4,  1, 26, 96, 28,\n",
       "         93, 80, 30, 68, 32, 38, 57, 12, 59, 50, 44, 51,  0, 53, 18, 43, 10,\n",
       "         76, 67, 58, 14, 24, 19, 99, 21, 15, 87,  6, 75, 17, 13,  2]),\n",
       "  'labels': 2},\n",
       " {'context_plain': \"[SYS]  [USR] hello , i am trying to find a train that goes from cambridge to london kings cross . can you help me book a ticket ? [SYS] i can help with that . can you tell me what day you will be traveling ? [USR] i need to leave on saturday after 18:45 . [SYS] the soonest departure time would be at 19:00 on saturday , is that okay ? [USR] yes , that s perfect . can you book that for 8 people ? [SYS] you are all booked with reference number 144vdbrm . the cost of 151.04 gbp will be payable at the station . can i be of further assistance today ? [USR] i am looking for an expensive place to eat in the centre , what is there that fits that criteria ? [SYS] there 33 place -s that fit your criteria . do you have a particular cuisine type in mind so that i can narrow the results down ? [USR] it does not matter what kind of food . what would you recommend for a large group of 8 people ? [SYS] how about don pasquale pizzeria ? [USR] that sounds great . please book it for 8 on saturday at 14:15 and get a reference number . [SYS] unfortunately , the restaurant does not have a table for that time . can you do it earlier or later ? [USR] how about 13:15 ? [SYS] great . that was successful . your reference number is q0ij8u6u . [USR] thank you , you've been a great help .\",\n",
       "  'ID': 'MUL1642.json',\n",
       "  'turn_id': 8,\n",
       "  'response_plain': '[SYS] is there anything else that i could help you with today ?',\n",
       "  'utterance_plain': '[USR] no thank you , that s all for now !',\n",
       "  'preds': array([97, 66, 74, 91, 36, 61, 78, 31, 72, 69, 77, 47, 94, 95, 56, 89, 92,\n",
       "          7, 84, 65, 62, 40, 16,  5, 48, 64, 30, 93, 83, 38, 86, 45, 87, 33,\n",
       "          2, 96, 71, 22, 70, 23, 39,  8, 98, 60, 35, 41, 52, 10, 81, 80, 55,\n",
       "         88, 44, 51, 63, 18, 99,  9, 42, 12, 90, 67, 21, 26, 14, 50, 13, 27,\n",
       "         79, 37, 15, 49, 85, 46, 17, 53, 73,  0, 59,  6, 75, 76, 25, 20, 43,\n",
       "         19, 58, 68, 24, 54, 11, 32, 82, 57, 28,  1, 34,  4, 29,  3]),\n",
       "  'labels': 3},\n",
       " {'context_plain': \"[SYS]  [USR] hi , can you help me plan my cambridge trip ? i need a train from london kings cross to cambridge . [SYS] i can help you with that . 1 leaves friday at 05:17 , is that time okay for you ? [USR] actually , i need to leave tuesday after 10:30 . [SYS] i have a train that leaves tuesday at 11:17 that will arrive at 12:08 . would you like to make a reservation ? [USR] yes , please make a reservation for 6 people . i'll need the reference number . [SYS] i was able to book your train . your reference number is f13rs8cp . is there anything else that you need ? [USR] i am also looking for a place to eat . i would like an expensive south indian restaurant . [SYS] it looks like we do not have any of those . would you like to try something else ? [USR] hmm , are you sure ? i want something south indian , expensive and in the centre of town . [SYS] i have curry garden for indian in the centre of town , but no south indian . [USR] what about 1 that serves mediterranean ? [SYS] i have 2 options . i can recommend la mimosa . would you like me to reserve a table ? [USR] you said you have 2 options . what is the other option available ? [SYS] other than the la mimosa restaurant , i also have the shiraz restaurant . both are located in the center and are expensive . which do you prefer ? [USR] lets go with the shiraz please [SYS] ok perfect , would you like me to book a reservation for you ? [USR] no . i think i am ok although i would like the postcode . [SYS] the postcode is cb21dp . is there anything else i can help you with today ? [USR] no , that is all . thank you so much .\",\n",
       "  'ID': 'MUL1569.json',\n",
       "  'turn_id': 10,\n",
       "  'response_plain': '[SYS] let me know if you need anything else .',\n",
       "  'utterance_plain': '[USR] i do not need anything else . you were a great help . goodbye !',\n",
       "  'preds': array([66, 91, 74, 97, 78, 89, 31, 84, 33, 40, 49, 30, 61, 95, 22, 36, 35,\n",
       "         72,  5, 47, 81, 83, 45, 52, 86, 94,  8, 71, 55, 65, 41, 69, 98,  9,\n",
       "         56,  7, 16, 93, 64, 96, 77, 44, 92, 48, 73, 51, 62, 26, 88, 70, 38,\n",
       "         80, 23, 63, 37,  0, 60,  2, 79, 39, 76, 87, 42, 17, 10, 46, 90, 28,\n",
       "         58, 20, 43, 27, 85, 21, 54, 13, 59, 32, 68, 14, 50, 25, 15, 53, 18,\n",
       "         75, 12, 99, 67, 82, 19, 11, 24,  6, 57,  3,  1, 29, 34,  4]),\n",
       "  'labels': 4}]"
      ]
     },
     "execution_count": 18,
     "metadata": {},
     "output_type": "execute_result"
    }
   ],
   "source": [
    "prediction[:5]"
   ]
  },
  {
   "cell_type": "markdown",
   "metadata": {},
   "source": [
    "### String Matching"
   ]
  },
  {
   "cell_type": "code",
   "execution_count": 19,
   "metadata": {},
   "outputs": [
    {
     "name": "stdout",
     "output_type": "stream",
     "text": [
      "speaker [sys] keyword [i/my/mine/we/our/ours]\n",
      "Ratio: 0.9827\n",
      "{'top-1': 0.6529797092187251, 'top-3': 0.8678702668157853, 'top-5': 0.9336954785109443, 'top-10': 0.9832241572136124}\n",
      "speaker [sys] keyword [you/your/yours]\n",
      "Ratio: 0.7475\n",
      "{'top-1': 0.6299096828397396, 'top-3': 0.8548624238605335, 'top-5': 0.9252257929006511, 'top-10': 0.9808863684099979}\n",
      "speaker [sys] keyword [what]\n",
      "Ratio: 0.1240\n",
      "{'top-1': 0.5620253164556962, 'top-3': 0.8215189873417722, 'top-5': 0.9139240506329114, 'top-10': 0.9759493670886076}\n",
      "speaker [sys] keyword [when]\n",
      "Ratio: 0.0143\n",
      "{'top-1': 0.5494505494505495, 'top-3': 0.7472527472527473, 'top-5': 0.8901098901098901, 'top-10': 0.989010989010989}\n",
      "speaker [sys] keyword [where]\n",
      "Ratio: 0.0385\n",
      "{'top-1': 0.5061224489795918, 'top-3': 0.7877551020408163, 'top-5': 0.8979591836734694, 'top-10': 0.9918367346938776}\n",
      "speaker [sys] keyword [?]\n",
      "Ratio: 0.7262\n",
      "{'top-1': 0.6464864864864864, 'top-3': 0.8663783783783784, 'top-5': 0.9338378378378378, 'top-10': 0.9824864864864865}\n",
      "speaker [usr] keyword [i/my/mine/we/our/ours]\n",
      "Ratio: 0.9190\n",
      "{'top-1': 0.6512899367845549, 'top-3': 0.8663933025798736, 'top-5': 0.932000683410217, 'top-10': 0.9824021869126943}\n",
      "speaker [usr] keyword [you/your/yours]\n",
      "Ratio: 0.3371\n",
      "{'top-1': 0.6674429436422916, 'top-3': 0.8779692594317653, 'top-5': 0.9399161620866325, 'top-10': 0.9850954820680019}\n",
      "speaker [usr] keyword [what]\n",
      "Ratio: 0.0674\n",
      "{'top-1': 0.6946386946386947, 'top-3': 0.8951048951048951, 'top-5': 0.951048951048951, 'top-10': 0.9883449883449883}\n",
      "speaker [usr] keyword [when]\n",
      "Ratio: 0.0041\n",
      "{'top-1': 0.6538461538461539, 'top-3': 0.8461538461538461, 'top-5': 0.8846153846153846, 'top-10': 1.0}\n",
      "speaker [usr] keyword [where]\n",
      "Ratio: 0.0089\n",
      "{'top-1': 0.6666666666666666, 'top-3': 0.8771929824561403, 'top-5': 0.9298245614035088, 'top-10': 0.9824561403508771}\n",
      "speaker [usr] keyword [?]\n",
      "Ratio: 0.3184\n",
      "{'top-1': 0.7115384615384616, 'top-3': 0.8929980276134122, 'top-5': 0.9472386587771203, 'top-10': 0.9857001972386588}\n"
     ]
    }
   ],
   "source": [
    "for speaker in [\"sys\", \"usr\"]:\n",
    "    for keywords in [\"i/my/mine/we/our/ours\", \"you/your/yours\", \"what\", \"when\", \"where\", \"?\"]:\n",
    "        print(\"speaker [{}] keyword [{}]\".format(speaker, keywords))\n",
    "        \n",
    "        preds, labels = [], []\n",
    "        total = 0\n",
    "        for data in prediction: \n",
    "            plain_name = \"response_plain\" if speaker == \"sys\" else \"utterance_plain\"\n",
    "            total += 1\n",
    "            for keyword in keywords.split(\"/\"):\n",
    "                if keyword in data[plain_name]:\n",
    "                    preds += [data[\"preds\"]]\n",
    "                    labels += [data[\"labels\"]]\n",
    "                    break\n",
    "        print(\"Ratio: {:.4f}\".format(len(labels)/total))\n",
    "        if len(preds) != 0:\n",
    "            results = model.evaluation(preds, labels)"
   ]
  },
  {
   "cell_type": "markdown",
   "metadata": {},
   "source": [
    "### Eval Set 1 - TOD: Schema (https://arxiv.org/pdf/2002.01359.pdf)"
   ]
  },
  {
   "cell_type": "code",
   "execution_count": 20,
   "metadata": {},
   "outputs": [
    {
     "name": "stdout",
     "output_type": "stream",
     "text": [
      "Reading from Schema for read_langs_turn\n",
      "Reading from Schema for read_langs_turn\n",
      "Reading from Schema for read_langs_turn\n",
      "Read 164982 pairs train from Schema\n",
      "Read 24363 pairs valid from Schema\n",
      "Read 42297 pairs test  from Schema\n"
     ]
    }
   ],
   "source": [
    "import importlib\n",
    "import utils.utils_schema as utils_schema\n",
    "importlib.reload(utils_schema)\n",
    "\n",
    "# Reading data and create data loaderz\n",
    "datasets = {}\n",
    "data_trn, data_dev, data_tst, data_meta = utils_schema.prepare_data_schema(args)\n",
    "datasets[\"schema\"] = {\"train\": data_trn, \"dev\":data_dev, \"test\": data_tst, \"meta\":data_meta}\n",
    "\n",
    "unified_meta = get_unified_meta(datasets)  \n",
    "args[\"unified_meta\"] = unified_meta"
   ]
  },
  {
   "cell_type": "code",
   "execution_count": 21,
   "metadata": {},
   "outputs": [
    {
     "name": "stderr",
     "output_type": "stream",
     "text": [
      "\r",
      "  0%|          | 0/381 [00:00<?, ?it/s]"
     ]
    },
    {
     "name": "stdout",
     "output_type": "stream",
     "text": [
      "[Info] Start Evaluation on test set...\n",
      "[Info] Remove turns with empty system response...\n",
      "[Info] Remove turn=0 system response...\n"
     ]
    },
    {
     "name": "stderr",
     "output_type": "stream",
     "text": [
      "100%|██████████| 381/381 [05:14<00:00,  1.23it/s]\n"
     ]
    },
    {
     "name": "stdout",
     "output_type": "stream",
     "text": [
      "{'top-1': 0.5139384712305753, 'top-3': 0.7700808483830324, 'top-5': 0.8634502309953801, 'top-10': 0.9452173456530869}\n"
     ]
    }
   ],
   "source": [
    "print(\"[Info] Start Evaluation on test set...\")\n",
    "tst_loader = get_loader(args, \"test\" , tokenizer, datasets, unified_meta, shuffle=args[\"task_name\"]==\"rs\")\n",
    "model.eval()\n",
    "if not os.path.exists(args[\"output_dir\"]): os.makedirs(args[\"output_dir\"])    \n",
    "evaluate_and_dump(args, \n",
    "                  model, \n",
    "                  tst_loader, \n",
    "                  dump_keys=[\"context_plain\", \"ID\", \"turn_id\", \"response_plain\", \"utterance_plain\"],\n",
    "                  add_name=\"schema\")\n"
   ]
  },
  {
   "cell_type": "markdown",
   "metadata": {},
   "source": [
    "### Eval Set 2 - ChitChat: DailyDialog (https://arxiv.org/abs/1710.03957)"
   ]
  },
  {
   "cell_type": "code",
   "execution_count": 22,
   "metadata": {},
   "outputs": [
    {
     "name": "stdout",
     "output_type": "stream",
     "text": [
      "Reading from dailydialog for read_langs_turn\n",
      "Reading from dailydialog for read_langs_turn\n",
      "Reading from dailydialog for read_langs_turn\n",
      "Read 41637 pairs train from dailydialog\n",
      "Read 3851 pairs valid from dailydialog\n",
      "Read 3700 pairs test  from dailydialog\n"
     ]
    }
   ],
   "source": [
    "import importlib\n",
    "import utils.utils_dailydialog as utils_dailydialog\n",
    "importlib.reload(utils_dailydialog)\n",
    "\n",
    "# Reading data and create data loaderz\n",
    "datasets = {}\n",
    "data_trn, data_dev, data_tst, data_meta = utils_dailydialog.prepare_data_dailydialog(args)\n",
    "datasets[\"schema\"] = {\"train\": data_trn, \"dev\":data_dev, \"test\": data_tst, \"meta\":data_meta}\n",
    "\n",
    "unified_meta = get_unified_meta(datasets)  \n",
    "args[\"unified_meta\"] = unified_meta"
   ]
  },
  {
   "cell_type": "code",
   "execution_count": 23,
   "metadata": {},
   "outputs": [
    {
     "name": "stderr",
     "output_type": "stream",
     "text": [
      "\r",
      "  0%|          | 0/27 [00:00<?, ?it/s]"
     ]
    },
    {
     "name": "stdout",
     "output_type": "stream",
     "text": [
      "[Info] Start Evaluation on test set...\n",
      "[Info] Remove turns with empty system response...\n",
      "[Info] Remove turn=0 system response...\n"
     ]
    },
    {
     "name": "stderr",
     "output_type": "stream",
     "text": [
      "100%|██████████| 27/27 [00:19<00:00,  1.39it/s]\n"
     ]
    },
    {
     "name": "stdout",
     "output_type": "stream",
     "text": [
      "{'top-1': 0.17296296296296296, 'top-3': 0.3025925925925926, 'top-5': 0.3725925925925926, 'top-10': 0.49925925925925924}\n"
     ]
    }
   ],
   "source": [
    "print(\"[Info] Start Evaluation on test set...\")\n",
    "tst_loader = get_loader(args, \"test\" , tokenizer, datasets, unified_meta, shuffle=args[\"task_name\"]==\"rs\")\n",
    "model.eval()\n",
    "if not os.path.exists(args[\"output_dir\"]): os.makedirs(args[\"output_dir\"])    \n",
    "evaluate_and_dump(args, \n",
    "                  model, \n",
    "                  tst_loader, \n",
    "                  dump_keys=[\"context_plain\", \"ID\", \"turn_id\", \"response_plain\", \"utterance_plain\"],\n",
    "                  add_name=\"dailydialog\")\n"
   ]
  },
  {
   "cell_type": "code",
   "execution_count": null,
   "metadata": {},
   "outputs": [],
   "source": []
  }
 ],
 "metadata": {
  "kernelspec": {
   "display_name": "Python 3",
   "language": "python",
   "name": "python3"
  },
  "language_info": {
   "codemirror_mode": {
    "name": "ipython",
    "version": 3
   },
   "file_extension": ".py",
   "mimetype": "text/x-python",
   "name": "python",
   "nbconvert_exporter": "python",
   "pygments_lexer": "ipython3",
   "version": "3.6.10"
  }
 },
 "nbformat": 4,
 "nbformat_minor": 4
}
